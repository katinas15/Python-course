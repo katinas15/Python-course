{
 "cells": [
  {
   "cell_type": "code",
   "execution_count": null,
   "source": [
    "1.\r\n",
    "\r\n",
    "Parašykite NumPy programą, kad sukurtumėte dvimatį masyvą (nxn) su 1 kraštuose ir 0 viduje.\r\n",
    "\r\n",
    "4\r\n",
    "\r\n",
    "[[1. 1. 1. 1.]\r\n",
    "[1. 0. 0. 1.]\r\n",
    "[1. 0. 0. 1.]\r\n",
    "[1. 1. 1. 1.]]"
   ],
   "outputs": [],
   "metadata": {}
  },
  {
   "cell_type": "code",
   "execution_count": 1,
   "source": [
    "import numpy as np\r\n",
    "n = int(input())\r\n",
    "x = np.ones((n,n))\r\n",
    "x[1:-1,1:-1] = 0\r\n",
    "print(x)"
   ],
   "outputs": [
    {
     "output_type": "stream",
     "name": "stdout",
     "text": [
      "[[1. 1. 1. 1.]\n",
      " [1. 0. 0. 1.]\n",
      " [1. 0. 0. 1.]\n",
      " [1. 1. 1. 1.]]\n"
     ]
    }
   ],
   "metadata": {}
  },
  {
   "cell_type": "markdown",
   "source": [
    "2.\r\n",
    "\r\n",
    "Duotas masyvas a.\r\n",
    "Išveskite vienetų ir nulių skaičius.\r\n",
    "\r\n",
    "\r\n",
    "0 0 1 2 1 1 0 0 0\r\n",
    "\r\n",
    "vienetu - 3\r\n",
    "nuliu - 5"
   ],
   "metadata": {}
  },
  {
   "cell_type": "code",
   "execution_count": 8,
   "source": [
    "import numpy as np\r\n",
    "v1 = list(map(float, input().split()))\r\n",
    "v2 = np.tile(v1, [4,1])\r\n",
    "print(np.triu(np.tril(v1)))"
   ],
   "outputs": [
    {
     "output_type": "stream",
     "name": "stdout",
     "text": [
      "[[1. 0. 0. 0.]\n",
      " [0. 2. 0. 0.]\n",
      " [0. 0. 3. 0.]\n",
      " [0. 0. 0. 4.]]\n"
     ]
    }
   ],
   "metadata": {}
  },
  {
   "cell_type": "markdown",
   "source": [
    "4.\r\n",
    "\r\n",
    "Duotas masyvas. Pakeiskite reikšmes > 5 reikšme 5\r\n",
    "\r\n",
    "1 3 5 7 9\r\n",
    "[1 3 5 5 5]"
   ],
   "metadata": {}
  },
  {
   "cell_type": "code",
   "execution_count": 11,
   "source": [
    "import numpy as np\r\n",
    "v1 = np.array(list(map(int, input().split())))\r\n",
    "v2 = np.where((v1 < 5), v1, 5)\r\n",
    "print(v2)"
   ],
   "outputs": [
    {
     "output_type": "stream",
     "name": "stdout",
     "text": [
      "[1. 3. 5. 5. 5.]\n"
     ]
    }
   ],
   "metadata": {}
  },
  {
   "cell_type": "markdown",
   "source": [
    "5.\r\n",
    "\r\n",
    "Duotas skaičius n.\r\n",
    "Sukurkite nulių masyvą a(nxn) ir parašykite programą, kuri pakeičia masyvo reikšmes taip, kaip parodyta\r\n",
    "\r\n",
    "4\r\n",
    "\r\n",
    "[[0. 1. 2. 3.]\r\n",
    "[0. 1. 2. 3.]\r\n",
    "[0. 1. 2. 3.]\r\n",
    "[0. 1. 2. 3.]]"
   ],
   "metadata": {}
  },
  {
   "cell_type": "code",
   "execution_count": 14,
   "source": [
    "import numpy as np\r\n",
    "n = int(input())\r\n",
    "v1 = np.arange(n)\r\n",
    "v2 = np.tile(v1, [n,1])\r\n",
    "print(np.array(v2,dtype=float))"
   ],
   "outputs": [
    {
     "output_type": "stream",
     "name": "stdout",
     "text": [
      "[[0. 1. 2. 3.]\n",
      " [0. 1. 2. 3.]\n",
      " [0. 1. 2. 3.]\n",
      " [0. 1. 2. 3.]]\n"
     ]
    }
   ],
   "metadata": {}
  },
  {
   "cell_type": "markdown",
   "source": [
    "6.\r\n",
    "\r\n",
    "Duotas masyvas a.\r\n",
    "Parašykite programą, kuri apskaičiuoja ir išveda elementų, kurie dalijasi iš 5 ir nesidalija iš 2 sandaugą.\r\n",
    "\r\n",
    "\r\n",
    "1 2 3 4 5 6 7 8 9 10 11 12 13 14 15 16 17 18 19 20\r\n",
    "\r\n",
    "75\r\n",
    "\r\n"
   ],
   "metadata": {}
  },
  {
   "cell_type": "code",
   "execution_count": 22,
   "source": [
    "import numpy as np\r\n",
    "a = np.array(list(map(float, input().split())))\r\n",
    "suma = 1\r\n",
    "for i in a.flat:\r\n",
    "    if i % 5 == 0 and i % 2 != 0:\r\n",
    "        suma *= i\r\n",
    "\r\n",
    "print(int(suma))"
   ],
   "outputs": [
    {
     "output_type": "stream",
     "name": "stdout",
     "text": [
      "75\n"
     ]
    }
   ],
   "metadata": {}
  },
  {
   "cell_type": "markdown",
   "source": [
    "7.\r\n",
    "\r\n",
    "Duotas vienmatis masyvas a. Išveskite elementų, kurių reikšmė > 25, skaičių.\r\n",
    "\r\n",
    "43 2 12 28 40 37 28 23 25 46\r\n",
    "\r\n",
    "6"
   ],
   "metadata": {}
  },
  {
   "cell_type": "code",
   "execution_count": 26,
   "source": [
    "import numpy as np\r\n",
    "a = np.array(list(map(float, input().split())))\r\n",
    "print(len([element for element in a if element > 25]))"
   ],
   "outputs": [
    {
     "output_type": "stream",
     "name": "stdout",
     "text": [
      "6\n"
     ]
    }
   ],
   "metadata": {}
  },
  {
   "cell_type": "markdown",
   "source": [
    "8.\r\n",
    "\r\n",
    "Duotas masyvas a Viena komanda pašalinkite iš jo elementus su indeksais duotais masyve b.\r\n",
    "\r\n",
    "100 101 102 103 104 105 106 107 108 109 110\r\n",
    "2 3 4 5\r\n",
    "\r\n",
    "[100 101 106 107 108 109 110]"
   ],
   "metadata": {}
  },
  {
   "cell_type": "code",
   "execution_count": 27,
   "source": [
    "import numpy as np\r\n",
    "a = np.array(list(map(int, input().split())))\r\n",
    "b = np.array(list(map(int, input().split())))\r\n",
    "print(np.delete(a,b))\r\n"
   ],
   "outputs": [
    {
     "output_type": "stream",
     "name": "stdout",
     "text": [
      "[100 101 106 107 108 109 110]\n"
     ]
    }
   ],
   "metadata": {}
  },
  {
   "cell_type": "markdown",
   "source": [
    "9.\r\n",
    "\r\n",
    "Duotas dvimatis masyvas (nxn).\r\n",
    "Pašalinkite stulpelius, kuriose yra nan reikšmė.\r\n",
    "\r\n",
    "4\r\n",
    "np.nan 2 3 4\r\n",
    "5 6 7 8\r\n",
    "9 10 11 np.nan\r\n",
    "13 14 15 16\r\n",
    "\r\n",
    "[[ 2. 3.]\r\n",
    "[ 6. 7.]\r\n",
    "[10. 11.]\r\n",
    "[14. 15.]]"
   ],
   "metadata": {}
  },
  {
   "cell_type": "code",
   "execution_count": 65,
   "source": [
    "import numpy as np\r\n",
    "import sys\r\n",
    "np.set_printoptions(suppress=True)\r\n",
    "\r\n",
    "n = int(input())\r\n",
    "a = []\r\n",
    "for i in range(n):\r\n",
    "    inp = input().split()\r\n",
    "    a.append(inp)\r\n",
    "a = np.array(a)\r\n",
    "a = np.where((a == 'np.nan'), np.nan, a)\r\n",
    "a = np.array(a, dtype=float)\r\n",
    "\r\n",
    "print(a[:, ~np.isnan(a).any(axis=0)])\r\n"
   ],
   "outputs": [
    {
     "output_type": "stream",
     "name": "stdout",
     "text": [
      "[[2. 3. 4.]\n",
      " [2. 3. 4.]\n",
      " [6. 7. 8.]\n",
      " [6. 7. 8.]]\n"
     ]
    }
   ],
   "metadata": {}
  },
  {
   "cell_type": "markdown",
   "source": [
    "10.\r\n",
    "\r\n",
    "Sukurkite universalią funkciją (ufunc), kuri turi du parametrus a ir b.\r\n",
    "Kur\r\n",
    "a – dvimatis masyvas (nxn);\r\n",
    "b – arba skaičius (1), arba vienmatis masyvas (2), arba dvimatis masyvas (3)\r\n",
    "Funkcija grąžina masyvą, kur kiekvienas elementas apskaičiuojamas kaip paelementinio skirtumo modulis |a - b|.\r\n",
    "\r\n",
    "n - a masyvo dimensijos\r\n",
    "a\r\n",
    "skaicius 1, 2 arba 3, kuris nusako kokio tipo bus b\r\n",
    "b\r\n",
    "\r\n",
    "\r\n",
    "3\r\n",
    "1 2 3\r\n",
    "4 5 6\r\n",
    "7 8 9\r\n",
    "1\r\n",
    "5\r\n",
    "\r\n",
    "\r\n",
    "[[4. 3. 2.]\r\n",
    "[1. 0. 1.]\r\n",
    "[2. 3. 4.]]\r\n"
   ],
   "metadata": {}
  },
  {
   "cell_type": "code",
   "execution_count": 71,
   "source": [
    "import numpy as np\r\n",
    "np.set_printoptions(suppress=True)\r\n",
    "\r\n",
    "def ufunc(a, b):\r\n",
    "    return np.abs(a - b)\r\n",
    "\r\n",
    "n = int(input())\r\n",
    "v1 = []\r\n",
    "for i in range(n):\r\n",
    "    v1.append(list(map(float, input().split())))\r\n",
    "v1 = np.array(v1, dtype=float)\r\n",
    "\r\n",
    "n2 = int(input())\r\n",
    "\r\n",
    "if n2 == 1:\r\n",
    "    v2 = int(input())\r\n",
    "elif n2 == 2:\r\n",
    "    v2 = list(map(float, input().split()))\r\n",
    "elif n2 == 3:\r\n",
    "    v2 = []\r\n",
    "    for i in range(n):\r\n",
    "        v2.append(list(map(float, input().split())))\r\n",
    "    v2 = np.array(v2, dtype=float)\r\n",
    "\r\n",
    "op = np.vectorize(ufunc)\r\n",
    "print(op(v1, v2))"
   ],
   "outputs": [
    {
     "output_type": "stream",
     "name": "stdout",
     "text": [
      "[[0. 0. 0.]\n",
      " [0. 0. 0.]\n",
      " [0. 0. 0.]]\n"
     ]
    }
   ],
   "metadata": {}
  },
  {
   "cell_type": "markdown",
   "source": [
    "11.\r\n",
    "\r\n",
    "Sukurkite masyvą a(nxn), kuriame pagrindinėje įstrižainėje yra trejetai (3), pirmoje įstrižainėje virš pagrindinės – vienetai (1), visi kiti – nuliai (0)\r\n",
    "\r\n",
    "4\r\n",
    "\r\n",
    "[[3. 1. 0. 0.]\r\n",
    "[0. 3. 1. 0.]\r\n",
    "[0. 0. 3. 1.]\r\n",
    "[0. 0. 0. 3.]]"
   ],
   "metadata": {}
  },
  {
   "cell_type": "code",
   "execution_count": 76,
   "source": [
    "import numpy as np\r\n",
    "np.set_printoptions(suppress=True)\r\n",
    "\r\n",
    "n = int(input())\r\n",
    "v1 = np.eye(n) * 3\r\n",
    "v2 = np.eye(n,k=1)\r\n",
    "\r\n",
    "print(v1 + v2)"
   ],
   "outputs": [
    {
     "output_type": "stream",
     "name": "stdout",
     "text": [
      "[[3. 1. 0. 0.]\n",
      " [0. 3. 1. 0.]\n",
      " [0. 0. 3. 1.]\n",
      " [0. 0. 0. 3.]]\n"
     ]
    }
   ],
   "metadata": {}
  }
 ],
 "metadata": {
  "orig_nbformat": 4,
  "language_info": {
   "name": "python",
   "version": "3.9.7",
   "mimetype": "text/x-python",
   "codemirror_mode": {
    "name": "ipython",
    "version": 3
   },
   "pygments_lexer": "ipython3",
   "nbconvert_exporter": "python",
   "file_extension": ".py"
  },
  "kernelspec": {
   "name": "python3",
   "display_name": "Python 3.9.7 64-bit (conda)"
  },
  "interpreter": {
   "hash": "60152bf436f77cdda9a7f062a7ed0b7ab43932e7b5cb7a870a9504b065f6a782"
  }
 },
 "nbformat": 4,
 "nbformat_minor": 2
}