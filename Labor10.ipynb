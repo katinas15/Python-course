{
 "cells": [
  {
   "cell_type": "code",
   "execution_count": null,
   "source": [
    "10.1\r\n",
    "\r\n",
    "\r\n",
    "Sukurkite pagrindinę klasę Vehicle su name, max_speed ir mileage egzemplioriaus atributais. Atributų reikšmes perduokite per konstruktoriaus parametrus.\r\n",
    "Sukurkite išvestinę klasę Bus(Vehicle), kuri paveldės visus Vehicle klasės kintamuosius ir metodus.\r\n",
    "Sukurkite klasės Bus egzempliorių b.\r\n",
    "Išveskite visų kintamųjų reikšmes.\r\n",
    "\r\n",
    "\r\n",
    "Volvo 150 10000\r\n",
    "\r\n",
    "Volvo\r\n",
    "150\r\n",
    "10000\r\n"
   ],
   "outputs": [],
   "metadata": {}
  },
  {
   "cell_type": "code",
   "execution_count": 4,
   "source": [
    "class Vehicle:\r\n",
    "    def __init__(self, name, max_speed, mileage):\r\n",
    "        self.name = name\r\n",
    "        self.max_speed = max_speed\r\n",
    "        self.mileage = mileage\r\n",
    "\r\n",
    "class Bus(Vehicle):\r\n",
    "    def __init__(self, name, max_speed, mileage):\r\n",
    "        super().__init__(name, max_speed, mileage)\r\n",
    "\r\n",
    "\r\n",
    "bus = Bus(*input().split())\r\n",
    "print(bus.name)\r\n",
    "print(bus.max_speed)\r\n",
    "print(bus.mileage)"
   ],
   "outputs": [
    {
     "output_type": "stream",
     "name": "stdout",
     "text": [
      "Volvo\n",
      "150\n",
      "10000\n"
     ]
    }
   ],
   "metadata": {}
  },
  {
   "cell_type": "markdown",
   "source": [
    "10.2\r\n",
    "\r\n",
    "Klasėje Bus (1 užduotis) sukurkite konstruktorių.\r\n",
    "Klasės Bus konstruktoriuje:\r\n",
    "iškvieskite pagrindinės klasės (Vehicle) konstruktorių;\r\n",
    "sukurkite klasės Bus privatų atributą oname (savininko vardas). oname reikšmę perduokite per parametrus, kuriant Bus egzempliorių.\r\n",
    "Klasėje Bus sukurkite metodą get_owner(), kuris leidžia išvesti privataus kintamojo reikšmę.\r\n",
    "Išveskite visų kintamųjų reikšmes"
   ],
   "metadata": {}
  },
  {
   "cell_type": "code",
   "execution_count": 5,
   "source": [
    "class Vehicle:\r\n",
    "    def __init__(self, name, max_speed, mileage):\r\n",
    "        self.name = name\r\n",
    "        self.max_speed = max_speed\r\n",
    "        self.mileage = mileage\r\n",
    "\r\n",
    "class Bus(Vehicle):\r\n",
    "    def __init__(self, name, max_speed, mileage, oname):\r\n",
    "        super().__init__(name, max_speed, mileage)\r\n",
    "        self.__oname = oname\r\n",
    "\r\n",
    "    def get_owner(self):\r\n",
    "        print(self.__oname)\r\n",
    "\r\n",
    "\r\n",
    "bus = Bus(*input().split())\r\n",
    "print(bus.name)\r\n",
    "print(bus.max_speed)\r\n",
    "print(bus.mileage)\r\n",
    "bus.get_owner()"
   ],
   "outputs": [
    {
     "output_type": "stream",
     "name": "stdout",
     "text": [
      "Smith\n",
      "volvo\n",
      "150\n",
      "10000\n"
     ]
    }
   ],
   "metadata": {}
  },
  {
   "cell_type": "markdown",
   "source": [
    "10.3\r\n",
    "\r\n",
    "Sukurkite pagrindinę klasę Students, kuri kaip parametrus gauna studento vardą (fname) ir pavardę (lname)\r\n",
    "Klasėje sukurkite metodą info(), kuris išspausdina studento vardą ir pavardę.\r\n",
    "Sukurkite išvestinę klasę Marks(Students), kuri kaip parametrą gauna studento pažymius (marks).\r\n",
    "Atributas marks – tai pažymių sąrašas, perduotas metodui __init__() kaip *args tipo argumentas.\r\n",
    "Klasėje Marks sukurkite metodą info(), kuris kviečia pagrindinės klasės metodą info() ir išspausdina studento pažymius.\r\n",
    "Sukurkite klasės Marks egzempliorių m.\r\n",
    "Išveskite egzemplioriaus m metodą info().\r\n",
    "\r\n",
    "\r\n",
    "David Jones\r\n",
    "7 8 6 5 9 10\r\n",
    "\r\n",
    "\r\n",
    "David Jones\r\n",
    "7 8 6 5 9 10"
   ],
   "metadata": {}
  },
  {
   "cell_type": "code",
   "execution_count": 14,
   "source": [
    "class Students:\r\n",
    "    def __init__(self, fname, lname):\r\n",
    "        self.fname = fname\r\n",
    "        self.lname = lname\r\n",
    "    \r\n",
    "    def info(self):\r\n",
    "        print(self.fname, self.lname)\r\n",
    "\r\n",
    "class Marks(Students):\r\n",
    "    def __init__(self, fname, lname, *marks):\r\n",
    "        super().__init__(fname, lname)\r\n",
    "        self.marks = marks\r\n",
    "    \r\n",
    "    def info(self):\r\n",
    "        super().info()\r\n",
    "        print(*self.marks)\r\n",
    "\r\n",
    "fname, lname = input().split()\r\n",
    "marks = list(map(int, input().split()))\r\n",
    "m = Marks(fname, lname, *marks)\r\n",
    "m.info()"
   ],
   "outputs": [
    {
     "output_type": "stream",
     "name": "stdout",
     "text": [
      "David Jones\n",
      "7 8 6 5 9 10\n"
     ]
    }
   ],
   "metadata": {}
  },
  {
   "cell_type": "code",
   "execution_count": null,
   "source": [
    "10.4\r\n",
    "\r\n",
    "Sukurkite klasę Students su atributu sno (studentų skaičius).\r\n",
    "Klasėje sukurkite metodus, kurie leidžia:\r\n",
    "sudėti kelių klasės egzempliorių studentų skaičius;\r\n",
    "išvesti gautą rezultatą.\r\n",
    "Sukurkite keturis klasės Students egzempliorius.\r\n",
    "Išveskite vienos grupės ir bendrą studentų skaičius kaip parodyta\r\n",
    "Формат входного файла\r\n",
    "Keturi skaičiai, kurie parodo studentų skaičių grupėje. Sekančioje eilutėje duotas skaičius, kuris nurodo kelintos grupės stundtų skaičių reikia išvesti.\r\n",
    "\r\n",
    "\r\n",
    "15 18 14 21\r\n",
    "1\r\n",
    "\r\n",
    "Studentu skaicius 1 grupeje: 15\r\n",
    "Bendras studentu skaicius: 68"
   ],
   "outputs": [],
   "metadata": {}
  },
  {
   "cell_type": "code",
   "execution_count": 17,
   "source": [
    "class Students:\r\n",
    "    students = []\r\n",
    "    def __init__(self, sno):\r\n",
    "        self.sno = int(sno)\r\n",
    "        Students.students.append(self)\r\n",
    "    \r\n",
    "    @staticmethod\r\n",
    "    def stud_info(group):\r\n",
    "        print(f\"Studentu skaicius {group} grupeje: {Students.students[group - 1].sno}\")\r\n",
    "\r\n",
    "    @staticmethod\r\n",
    "    def all_stud():\r\n",
    "        print(f\"Bendras studentu skaicius: {sum(student.sno for student in Students.students)}\")\r\n",
    "\r\n",
    "snos = list(input().split())\r\n",
    "for i in snos:\r\n",
    "    Students(i)\r\n",
    "\r\n",
    "group = int(input())\r\n",
    "Students.stud_info(group)\r\n",
    "Students.all_stud()"
   ],
   "outputs": [
    {
     "output_type": "stream",
     "name": "stdout",
     "text": [
      "Studentu skaicius 1 grupeje: 15\n",
      "Bendras studentu skaicius: 68\n"
     ]
    }
   ],
   "metadata": {}
  }
 ],
 "metadata": {
  "orig_nbformat": 4,
  "language_info": {
   "name": "python",
   "version": "3.9.1",
   "mimetype": "text/x-python",
   "codemirror_mode": {
    "name": "ipython",
    "version": 3
   },
   "pygments_lexer": "ipython3",
   "nbconvert_exporter": "python",
   "file_extension": ".py"
  },
  "kernelspec": {
   "name": "python3",
   "display_name": "Python 3.9.1 64-bit"
  },
  "interpreter": {
   "hash": "63fd5069d213b44bf678585dea6b12cceca9941eaf7f819626cde1f2670de90d"
  }
 },
 "nbformat": 4,
 "nbformat_minor": 2
}