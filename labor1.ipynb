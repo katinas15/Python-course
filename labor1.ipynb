{
 "cells": [
  {
   "cell_type": "markdown",
   "id": "01f00014",
   "metadata": {},
   "source": [
    "# Laboratorinis darbas 1\n",
    "Laimonas Janutėnas\n",
    "\n",
    "DGTfm - 21"
   ]
  },
  {
   "cell_type": "markdown",
   "id": "14c25308-60b1-42e5-8d12-37d7cfdab40c",
   "metadata": {},
   "source": [
    "# 1. ----------------------------------------------------------\n",
    "Nuskaityti simbolių eilutę. Jeigu pirmas ir paskutinis eilutės simboliai sutampa, išvesti “True”,\n",
    "jeigu nesutampa – “False”\n",
    "\n",
    "```\n",
    "aaa bbb ccc dda\n",
    "True\n",
    "Aaa bbb ccc dda\n",
    "False\n",
    "```"
   ]
  },
  {
   "cell_type": "code",
   "execution_count": 14,
   "id": "da35fd3c-096b-4b21-82f2-451bc2574094",
   "metadata": {},
   "outputs": [
    {
     "name": "stdout",
     "output_type": "stream",
     "text": [
      "iveskite simboliu eilute: Aaa bbb ccc dda\n",
      "False\n"
     ]
    }
   ],
   "source": [
    "text = input(\"iveskite simboliu eilute: \")\n",
    "if text[0] == text[-1]:\n",
    "    print(True)\n",
    "else:\n",
    "    print(False)"
   ]
  },
  {
   "cell_type": "markdown",
   "id": "13a106a5-1e42-404d-b903-d69f35c75f91",
   "metadata": {},
   "source": [
    "# 2. ----------------------------------------------------------\n",
    "Duotas dviženklis sveikasis skaičius. Išveskite jį taip, kaip parodyta pavyzdyje:\n",
    "\n",
    "```\n",
    "a = 23\n",
    "2*****3\n",
    "```"
   ]
  },
  {
   "cell_type": "code",
   "execution_count": 16,
   "id": "545e4378-95d3-4313-ae2f-cc353dfd42b6",
   "metadata": {},
   "outputs": [
    {
     "name": "stdout",
     "output_type": "stream",
     "text": [
      "iveskite dvizenkli skaiciu: 23\n",
      "2*****3\n"
     ]
    }
   ],
   "source": [
    "import sys\n",
    "a = input(\"iveskite dvizenkli skaiciu: \")\n",
    "\n",
    "if len(a) != 2:\n",
    "    print(\"Ivestas skaicius ne dvizenklis!!!\")\n",
    "    sys.exit()\n",
    "    \n",
    "text = \"\"\n",
    "text += a[0]\n",
    "text += 5 * \"*\"\n",
    "text += a[1]\n",
    "print(text)"
   ]
  },
  {
   "cell_type": "markdown",
   "id": "e01e1e5e-32c1-49ef-9576-6e1a6948259f",
   "metadata": {},
   "source": [
    "# 3. ----------------------------------------------------------\n",
    "\n",
    "Parašykite programą, kuri leidžia nuskaityti darbuotojų duomenis iš klaviatūros. Pakeičia nuskaitytų \n",
    "reikšmių tipus į nurodytus skliaustuose ir rezultatą išveda ekrane.\n",
    "Nuskaito reikšmes:\n",
    "\n",
    "```\n",
    "Employee No (int)\n",
    "Employee Name (str)\n",
    "Employee Salary (float)\n",
    "Employee Address (str)\n",
    "Employee Married ?[True|False] (bool)\n",
    "```"
   ]
  },
  {
   "cell_type": "code",
   "execution_count": 2,
   "id": "14e5962f",
   "metadata": {
    "scrolled": true
   },
   "outputs": [
    {
     "name": "stdout",
     "output_type": "stream",
     "text": [
      "number (int): 2\n",
      "Employee No 2 <class 'int'>\n",
      "name (str): Laimonas\n",
      "Employee Name Laimonas <class 'str'>\n",
      "salary (float): 1200.5\n",
      "Employee Salary 1200.5 <class 'float'>\n",
      "address (str): Klaipeda\n",
      "Employee Address Klaipeda <class 'str'>\n",
      "married? (bool): False\n",
      "Employee Married False <class 'bool'>\n"
     ]
    }
   ],
   "source": [
    "def printEmployee(name, value):\n",
    "    print(\"Employee \" + name + \" \" + str(value) + \" \" + str(type(value)))\n",
    "\n",
    "no = input(\"number (int): \")\n",
    "printEmployee(\"No\", int(no))\n",
    "          \n",
    "name = input(\"name (str): \")\n",
    "printEmployee(\"Name\", str(name))\n",
    "          \n",
    "salary = input(\"salary (float): \")\n",
    "printEmployee(\"Salary\", float(salary))\n",
    "          \n",
    "address = input(\"address (str): \")\n",
    "printEmployee(\"Address\", str(address))\n",
    "          \n",
    "married = input(\"married? (bool): \")\n",
    "printEmployee(\"Married\", bool(eval(married)))\n",
    "\n"
   ]
  },
  {
   "cell_type": "markdown",
   "id": "ad7956e4-1173-48d9-959a-0748b41a764b",
   "metadata": {},
   "source": [
    "# 4. ----------------------------------------------------------\n",
    "Importuokite modulį math.\n",
    "Parašykite programą, kuri nuskaito apskritimo spindulio reikšmę ir apskaičiuoja apskritimo plotą.\n",
    "π reikšmę reikia paimti iš modulio math\n",
    "\n",
    "```\n",
    "r = 1.5\n",
    "s = 7.0685834705770345\n",
    "```"
   ]
  },
  {
   "cell_type": "code",
   "execution_count": 3,
   "id": "4e8936d7-86cc-426a-9840-c8e3c926a926",
   "metadata": {},
   "outputs": [
    {
     "name": "stdout",
     "output_type": "stream",
     "text": [
      "spindulys: 1.5\n",
      "7.0685834705770345\n"
     ]
    }
   ],
   "source": [
    "import math as m\n",
    "r = input(\"spindulys: \")\n",
    "s = float(r) ** 2 * m.pi\n",
    "print(s)"
   ]
  },
  {
   "cell_type": "markdown",
   "id": "57286480-7471-46e8-8d10-fa3ea460ddc0",
   "metadata": {},
   "source": [
    "# 5. ----------------------------------------------------------\n",
    "Parašykite programą, kuri nuskaito simbolių eilutę ir išveda:\n",
    "* tris pirmus simbolius\n",
    "* tris paskutinius simbolius\n",
    "* simbolius su lyginiais indeksais\n",
    "* simbolius su nelyginiais indeksais\n",
    "* eilutę atvirkštine tvarka\n",
    "\n",
    "Pavyzdys:\n",
    "```\n",
    "    s ='qwerty'\n",
    "Output:\n",
    "    qwe\n",
    "    rty\n",
    "    qet\n",
    "    wry\n",
    "    ytrewq\n",
    "```"
   ]
  },
  {
   "cell_type": "code",
   "execution_count": 2,
   "id": "bdcf2f87-94ae-4f25-8cb8-40e75f6b894f",
   "metadata": {},
   "outputs": [
    {
     "name": "stdout",
     "output_type": "stream",
     "text": [
      "iveskite simbolius: qwerty\n",
      "qwe\n",
      "rty\n",
      "qet\n",
      "wry\n",
      "ytrewq\n"
     ]
    }
   ],
   "source": [
    "s = input(\"iveskite simbolius: \")\n",
    "print(s[0:3])\n",
    "print(s[-3:])\n",
    "print(s[0::2])\n",
    "print(s[1::2])\n",
    "print(s[::-1])"
   ]
  },
  {
   "cell_type": "markdown",
   "id": "65ae6d0d-c169-4689-87f0-d2e3e36932ef",
   "metadata": {},
   "source": [
    "# 6. ----------------------------------------------------------\n",
    "Parašykite programą, kuri nuskaito triženklį skaičių ir išveda jo skaitmenų sumą. Nenaudokite \n",
    "dalybos.\n",
    "\n",
    "```\n",
    "519\n",
    "suma = 15\n",
    "```"
   ]
  },
  {
   "cell_type": "code",
   "execution_count": 9,
   "id": "da399d22-2caf-4b96-ac42-368330c01e7b",
   "metadata": {},
   "outputs": [
    {
     "name": "stdout",
     "output_type": "stream",
     "text": [
      "iveskite skaiciu: 519\n",
      "suma = 15\n"
     ]
    }
   ],
   "source": [
    "import sys\n",
    "number = input(\"iveskite skaiciu: \")\n",
    "\n",
    "if len(number) != 3:\n",
    "    print(\"Ivestas skaicius ne trizenklis!!!\")\n",
    "    sys.exit()\n",
    "    \n",
    "\n",
    "sum = 0\n",
    "for i in number:\n",
    "    sum += int(i)\n",
    "\n",
    "print(\"suma = \" + str(sum))"
   ]
  },
  {
   "cell_type": "markdown",
   "id": "a3689348-97a6-4cb1-82a4-cef20a65c2d2",
   "metadata": {},
   "source": [
    "# 7. ----------------------------------------------------------\n",
    "Parašykite programą, kuri nuskaito sveiką skaičių ir išveda jį dvejetaine, \n",
    "aštuntaine ir šešioliktaine \n",
    "forma. Atsakymus išveskite stulpeliu. Komandą print \n",
    "galima naudoti tik vieną kartą.\n",
    "\n",
    "```\n",
    "2020\n",
    "0b11111100100\n",
    "0o3744\n",
    "0x7e4\n",
    "```"
   ]
  },
  {
   "cell_type": "code",
   "execution_count": 6,
   "id": "a8cdcf8a-4fb4-4058-a08c-0f5291a364f2",
   "metadata": {},
   "outputs": [
    {
     "name": "stdout",
     "output_type": "stream",
     "text": [
      "iveskite skaiciu: 2020\n",
      "0b11111100100\n",
      "0o3744\n",
      "0x7e4\n"
     ]
    }
   ],
   "source": [
    "num = int(input(\"iveskite skaiciu: \"))\n",
    "print(str(bin(num)) + \"\\n\" + str(oct(num)) + \"\\n\" + str(hex(num)))"
   ]
  },
  {
   "cell_type": "markdown",
   "id": "3b3f69ff-07c7-4fd7-9a06-5fdfe2eb44df",
   "metadata": {},
   "source": [
    "# 8. ----------------------------------------------------------\n",
    "Parašykite programą, kuri nuskaito stataus trikampio statinių a ir b ilgius ir išveda trikampio plotą.\n",
    "Reikšmes iš klaviatūros nuskaitykite viena eilute.\n",
    "\n",
    "```\n",
    "10.5 21\n",
    "s = 110.25\n",
    "```"
   ]
  },
  {
   "cell_type": "code",
   "execution_count": 10,
   "id": "2f8e79c2-69e8-488c-ac03-89b47ca86eed",
   "metadata": {},
   "outputs": [
    {
     "name": "stdout",
     "output_type": "stream",
     "text": [
      "iveskite skaicius a ir b: 10.5 21\n",
      "110.25\n"
     ]
    }
   ],
   "source": [
    "a,b = input(\"iveskite skaicius a ir b: \").split()\n",
    "print((float(a) * float(b))/2)"
   ]
  },
  {
   "cell_type": "markdown",
   "id": "f69ce74b",
   "metadata": {},
   "source": [
    "# 9. ----------------------------------------------------------\n",
    "Parašykite programą, kuri nuskaito minučių skaičių – n (n – sveikasis skaičius).\n",
    "Tiek minučių praėjo nuo paros pradžios. \n",
    "Nustatykite, kiek valandų ir minučių skaitmeninis laikrodis rodys šią akimirką.\n",
    "Išveskite valandų (nuo 0 iki 23) ir minučių (nuo 0 iki 59) skaičius.\n",
    "Skaičius n gali būti didesnis nei paros minučių skaičius\n",
    "\n",
    "```\n",
    "3456\n",
    "h = 9 \n",
    "m = 36\n",
    "```"
   ]
  },
  {
   "cell_type": "code",
   "execution_count": 10,
   "id": "5605c354-97d1-466f-9dc8-aeee158a7492",
   "metadata": {},
   "outputs": [
    {
     "name": "stdout",
     "output_type": "stream",
     "text": [
      "iveskite minutes: 3456\n",
      "h = 9\n",
      "m = 36\n"
     ]
    }
   ],
   "source": [
    "n = int(input(\"iveskite minutes: \"))\n",
    "h = n // 60 % 24\n",
    "m = n % 60\n",
    "print(\"h = \" + str(h))\n",
    "print(\"m = \" + str(m))\n"
   ]
  },
  {
   "attachments": {
    "image.png": {
     "image/png": "[encoded data removed]"
    }
   },
   "cell_type": "markdown",
   "id": "80584db1-9d37-4a0b-8f75-a810ea72cb87",
   "metadata": {},
   "source": [
    "# 10. ----------------------------------------------------------\n",
    "Importuokite modulį math.\n",
    "Parašykite programą, kuri nuskaito x ir t reikšmes (x ir t – sveikieji skaičiai) ir išveda Z.\n",
    "Rezultatą pateikite su dviem skaitmenimis po kablelio.\n",
    "\n",
    "![image.png](attachment:image.png)\n",
    "\n",
    "```\n",
    "x = 10, t = 1\n",
    "z = 2762685.71\n",
    "```\n"
   ]
  },
  {
   "cell_type": "code",
   "execution_count": 12,
   "id": "b6f61bc7-7300-4646-aac7-703c5f59986b",
   "metadata": {},
   "outputs": [
    {
     "name": "stdout",
     "output_type": "stream",
     "text": [
      "x: 10\n",
      "t: 1\n",
      "2762685.71\n"
     ]
    }
   ],
   "source": [
    "import math as m\n",
    "x = int(input(\"x: \"))\n",
    "t = int(input(\"t: \"))\n",
    "top = 9 * m.pi * t + 10 * m.cos(x)\n",
    "bottom = (m.sqrt(t) - abs(m.sin(t)))\n",
    "Z = (top/bottom) * m.exp(x)\n",
    "print(round(Z,2))"
   ]
  },
  {
   "cell_type": "code",
   "execution_count": null,
   "id": "a19cd79f-cf11-4fc0-9649-56a2cbbd7a6e",
   "metadata": {},
   "outputs": [],
   "source": []
  }
 ],
 "metadata": {
  "kernelspec": {
   "display_name": "Python 3 (ipykernel)",
   "language": "python",
   "name": "python3"
  },
  "language_info": {
   "codemirror_mode": {
    "name": "ipython",
    "version": 3
   },
   "file_extension": ".py",
   "mimetype": "text/x-python",
   "name": "python",
   "nbconvert_exporter": "python",
   "pygments_lexer": "ipython3",
   "version": "3.9.1"
  }
 },
 "nbformat": 4,
 "nbformat_minor": 5
}
