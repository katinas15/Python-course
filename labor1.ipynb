{
 "cells": [
  {
   "cell_type": "markdown",
   "source": [
    "# Laboratorinis darbas 1\n",
    "Laimonas Janutėnas\n",
    "\n",
    "DGTfm - 21"
   ],
   "metadata": {}
  },
  {
   "cell_type": "markdown",
   "source": [
    "# 1. ----------------------------------------------------------\n",
    "Nuskaityti simbolių eilutę. Jeigu pirmas ir paskutinis eilutės simboliai sutampa, išvesti “True”,\n",
    "jeigu nesutampa – “False”\n",
    "\n",
    "```\n",
    "aaa bbb ccc dda\n",
    "True\n",
    "Aaa bbb ccc dda\n",
    "False\n",
    "```"
   ],
   "metadata": {}
  },
  {
   "cell_type": "code",
   "execution_count": 14,
   "source": [
    "text = input(\"iveskite simboliu eilute: \")\r\n",
    "if text[0] == text[-1]:\r\n",
    "    print(True)\r\n",
    "else:\r\n",
    "    print(False)"
   ],
   "outputs": [
    {
     "output_type": "stream",
     "name": "stdout",
     "text": [
      "iveskite simboliu eilute: Aaa bbb ccc dda\n",
      "False\n"
     ]
    }
   ],
   "metadata": {}
  },
  {
   "cell_type": "markdown",
   "source": [
    "# 2. ----------------------------------------------------------\n",
    "Duotas dviženklis sveikasis skaičius. Išveskite jį taip, kaip parodyta pavyzdyje:\n",
    "\n",
    "```\n",
    "a = 23\n",
    "2*****3\n",
    "```"
   ],
   "metadata": {}
  },
  {
   "cell_type": "code",
   "execution_count": 16,
   "source": [
    "import sys\r\n",
    "a = input(\"iveskite dvizenkli skaiciu: \")\r\n",
    "\r\n",
    "if len(a) != 2:\r\n",
    "    print(\"Ivestas skaicius ne dvizenklis!!!\")\r\n",
    "    sys.exit()\r\n",
    "    \r\n",
    "text = \"\"\r\n",
    "text += a[0]\r\n",
    "text += 5 * \"*\"\r\n",
    "text += a[1]\r\n",
    "print(text)"
   ],
   "outputs": [
    {
     "output_type": "stream",
     "name": "stdout",
     "text": [
      "iveskite dvizenkli skaiciu: 23\n",
      "2*****3\n"
     ]
    }
   ],
   "metadata": {}
  },
  {
   "cell_type": "markdown",
   "source": [
    "# 3. ----------------------------------------------------------\n",
    "\n",
    "Parašykite programą, kuri leidžia nuskaityti darbuotojų duomenis iš klaviatūros. Pakeičia nuskaitytų \n",
    "reikšmių tipus į nurodytus skliaustuose ir rezultatą išveda ekrane.\n",
    "Nuskaito reikšmes:\n",
    "\n",
    "```\n",
    "Employee No (int)\n",
    "Employee Name (str)\n",
    "Employee Salary (float)\n",
    "Employee Address (str)\n",
    "Employee Married ?[True|False] (bool)\n",
    "```"
   ],
   "metadata": {}
  },
  {
   "cell_type": "code",
   "execution_count": 2,
   "source": [
    "def printEmployee(name, value):\r\n",
    "    print(\"Employee \" + name + \" \" + str(value) + \" \" + str(type(value)))\r\n",
    "\r\n",
    "no = input(\"number (int): \")\r\n",
    "printEmployee(\"No\", int(no))\r\n",
    "          \r\n",
    "name = input(\"name (str): \")\r\n",
    "printEmployee(\"Name\", str(name))\r\n",
    "          \r\n",
    "salary = input(\"salary (float): \")\r\n",
    "printEmployee(\"Salary\", float(salary))\r\n",
    "          \r\n",
    "address = input(\"address (str): \")\r\n",
    "printEmployee(\"Address\", str(address))\r\n",
    "          \r\n",
    "married = input(\"married? (bool): \")\r\n",
    "printEmployee(\"Married\", bool(eval(married)))\r\n",
    "\r\n"
   ],
   "outputs": [
    {
     "output_type": "stream",
     "name": "stdout",
     "text": [
      "number (int): 2\n",
      "Employee No 2 <class 'int'>\n",
      "name (str): Laimonas\n",
      "Employee Name Laimonas <class 'str'>\n",
      "salary (float): 1200.5\n",
      "Employee Salary 1200.5 <class 'float'>\n",
      "address (str): Klaipeda\n",
      "Employee Address Klaipeda <class 'str'>\n",
      "married? (bool): False\n",
      "Employee Married False <class 'bool'>\n"
     ]
    }
   ],
   "metadata": {
    "scrolled": true
   }
  },
  {
   "cell_type": "markdown",
   "source": [
    "# 4. ----------------------------------------------------------\n",
    "Importuokite modulį math.\n",
    "Parašykite programą, kuri nuskaito apskritimo spindulio reikšmę ir apskaičiuoja apskritimo plotą.\n",
    "π reikšmę reikia paimti iš modulio math\n",
    "\n",
    "```\n",
    "r = 1.5\n",
    "s = 7.0685834705770345\n",
    "```"
   ],
   "metadata": {}
  },
  {
   "cell_type": "code",
   "execution_count": 3,
   "source": [
    "import math as m\r\n",
    "r = input(\"spindulys: \")\r\n",
    "s = float(r) ** 2 * m.pi\r\n",
    "print(s)"
   ],
   "outputs": [
    {
     "output_type": "stream",
     "name": "stdout",
     "text": [
      "spindulys: 1.5\n",
      "7.0685834705770345\n"
     ]
    }
   ],
   "metadata": {}
  },
  {
   "cell_type": "markdown",
   "source": [
    "# 5. ----------------------------------------------------------\n",
    "Parašykite programą, kuri nuskaito simbolių eilutę ir išveda:\n",
    "* tris pirmus simbolius\n",
    "* tris paskutinius simbolius\n",
    "* simbolius su lyginiais indeksais\n",
    "* simbolius su nelyginiais indeksais\n",
    "* eilutę atvirkštine tvarka\n",
    "\n",
    "Pavyzdys:\n",
    "```\n",
    "    s ='qwerty'\n",
    "Output:\n",
    "    qwe\n",
    "    rty\n",
    "    qet\n",
    "    wry\n",
    "    ytrewq\n",
    "```"
   ],
   "metadata": {}
  },
  {
   "cell_type": "code",
   "execution_count": 3,
   "source": [
    "s = input(\"iveskite simbolius: \")\r\n",
    "print(s[:3])\r\n",
    "print(s[-3:])\r\n",
    "print(s[0::2])\r\n",
    "print(s[1::2])\r\n",
    "print(s[::-1])"
   ],
   "outputs": [
    {
     "output_type": "stream",
     "name": "stdout",
     "text": [
      "qwe\n",
      "rty\n",
      "qet\n",
      "wry\n",
      "ytrewq\n"
     ]
    }
   ],
   "metadata": {}
  },
  {
   "cell_type": "markdown",
   "source": [
    "# 6. ----------------------------------------------------------\n",
    "Parašykite programą, kuri nuskaito triženklį skaičių ir išveda jo skaitmenų sumą. Nenaudokite \n",
    "dalybos.\n",
    "\n",
    "```\n",
    "519\n",
    "suma = 15\n",
    "```"
   ],
   "metadata": {}
  },
  {
   "cell_type": "code",
   "execution_count": 9,
   "source": [
    "import sys\r\n",
    "number = input(\"iveskite skaiciu: \")\r\n",
    "\r\n",
    "if len(number) != 3:\r\n",
    "    print(\"Ivestas skaicius ne trizenklis!!!\")\r\n",
    "    sys.exit()\r\n",
    "    \r\n",
    "\r\n",
    "sum = 0\r\n",
    "for i in number:\r\n",
    "    sum += int(i)\r\n",
    "\r\n",
    "print(\"suma = \" + str(sum))"
   ],
   "outputs": [
    {
     "output_type": "stream",
     "name": "stdout",
     "text": [
      "iveskite skaiciu: 519\n",
      "suma = 15\n"
     ]
    }
   ],
   "metadata": {}
  },
  {
   "cell_type": "markdown",
   "source": [
    "# 7. ----------------------------------------------------------\n",
    "Parašykite programą, kuri nuskaito sveiką skaičių ir išveda jį dvejetaine, \n",
    "aštuntaine ir šešioliktaine \n",
    "forma. Atsakymus išveskite stulpeliu. Komandą print \n",
    "galima naudoti tik vieną kartą.\n",
    "\n",
    "```\n",
    "2020\n",
    "0b11111100100\n",
    "0o3744\n",
    "0x7e4\n",
    "```"
   ],
   "metadata": {}
  },
  {
   "cell_type": "code",
   "execution_count": 6,
   "source": [
    "num = int(input(\"iveskite skaiciu: \"))\r\n",
    "print(str(bin(num)) + \"\\n\" + str(oct(num)) + \"\\n\" + str(hex(num)))"
   ],
   "outputs": [
    {
     "output_type": "stream",
     "name": "stdout",
     "text": [
      "iveskite skaiciu: 2020\n",
      "0b11111100100\n",
      "0o3744\n",
      "0x7e4\n"
     ]
    }
   ],
   "metadata": {}
  },
  {
   "cell_type": "markdown",
   "source": [
    "# 8. ----------------------------------------------------------\n",
    "Parašykite programą, kuri nuskaito stataus trikampio statinių a ir b ilgius ir išveda trikampio plotą.\n",
    "Reikšmes iš klaviatūros nuskaitykite viena eilute.\n",
    "\n",
    "```\n",
    "10.5 21\n",
    "s = 110.25\n",
    "```"
   ],
   "metadata": {}
  },
  {
   "cell_type": "code",
   "execution_count": 10,
   "source": [
    "a,b = input(\"iveskite skaicius a ir b: \").split()\r\n",
    "print((float(a) * float(b))/2)"
   ],
   "outputs": [
    {
     "output_type": "stream",
     "name": "stdout",
     "text": [
      "iveskite skaicius a ir b: 10.5 21\n",
      "110.25\n"
     ]
    }
   ],
   "metadata": {}
  },
  {
   "cell_type": "markdown",
   "source": [
    "# 9. ----------------------------------------------------------\n",
    "Parašykite programą, kuri nuskaito minučių skaičių – n (n – sveikasis skaičius).\n",
    "Tiek minučių praėjo nuo paros pradžios. \n",
    "Nustatykite, kiek valandų ir minučių skaitmeninis laikrodis rodys šią akimirką.\n",
    "Išveskite valandų (nuo 0 iki 23) ir minučių (nuo 0 iki 59) skaičius.\n",
    "Skaičius n gali būti didesnis nei paros minučių skaičius\n",
    "\n",
    "```\n",
    "3456\n",
    "h = 9 \n",
    "m = 36\n",
    "```"
   ],
   "metadata": {}
  },
  {
   "cell_type": "code",
   "execution_count": 10,
   "source": [
    "n = int(input(\"iveskite minutes: \"))\r\n",
    "h = n // 60 % 24\r\n",
    "m = n % 60\r\n",
    "print(\"h = \" + str(h))\r\n",
    "print(\"m = \" + str(m))\r\n"
   ],
   "outputs": [
    {
     "output_type": "stream",
     "name": "stdout",
     "text": [
      "iveskite minutes: 3456\n",
      "h = 9\n",
      "m = 36\n"
     ]
    }
   ],
   "metadata": {}
  },
  {
   "cell_type": "markdown",
   "source": [
    "# 10. ----------------------------------------------------------\n",
    "Importuokite modulį math.\n",
    "Parašykite programą, kuri nuskaito x ir t reikšmes (x ir t – sveikieji skaičiai) ir išveda Z.\n",
    "Rezultatą pateikite su dviem skaitmenimis po kablelio.\n",
    "\n",
    "![image.png](attachment:image.png)\n",
    "\n",
    "```\n",
    "x = 10, t = 1\n",
    "z = 2762685.71\n",
    "```\n"
   ],
   "metadata": {},
   "attachments": {
    "image.png": {
     "image/png": "[encoded data removed]"
    }
   }
  },
  {
   "cell_type": "code",
   "execution_count": 12,
   "source": [
    "import math as m\r\n",
    "x = int(input(\"x: \"))\r\n",
    "t = int(input(\"t: \"))\r\n",
    "top = 9 * m.pi * t + 10 * m.cos(x)\r\n",
    "bottom = (m.sqrt(t) - abs(m.sin(t)))\r\n",
    "Z = (top/bottom) * m.exp(x)\r\n",
    "print(round(Z,2))"
   ],
   "outputs": [
    {
     "output_type": "stream",
     "name": "stdout",
     "text": [
      "x: 10\n",
      "t: 1\n",
      "2762685.71\n"
     ]
    }
   ],
   "metadata": {}
  },
  {
   "cell_type": "code",
   "execution_count": null,
   "source": [],
   "outputs": [],
   "metadata": {}
  }
 ],
 "metadata": {
  "kernelspec": {
   "name": "python3",
   "display_name": "Python 3.9.1 64-bit"
  },
  "language_info": {
   "codemirror_mode": {
    "name": "ipython",
    "version": 3
   },
   "file_extension": ".py",
   "mimetype": "text/x-python",
   "name": "python",
   "nbconvert_exporter": "python",
   "pygments_lexer": "ipython3",
   "version": "3.9.1"
  },
  "interpreter": {
   "hash": "63fd5069d213b44bf678585dea6b12cceca9941eaf7f819626cde1f2670de90d"
  }
 },
 "nbformat": 4,
 "nbformat_minor": 5
}