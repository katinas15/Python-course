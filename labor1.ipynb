{
 "cells": [
  {
   "cell_type": "markdown",
   "id": "14c25308-60b1-42e5-8d12-37d7cfdab40c",
   "metadata": {},
   "source": [
    "Nuskaityti simbolių eilutę. Jeigu pirmas ir paskutinis eilutės simboliai sutampa, išvesti “True”,\n",
    "jeigu nesutampa – “False”"
   ]
  },
  {
   "cell_type": "code",
   "execution_count": 1,
   "id": "da35fd3c-096b-4b21-82f2-451bc2574094",
   "metadata": {},
   "outputs": [
    {
     "name": "stdin",
     "output_type": "stream",
     "text": [
      "iveskite simboliu eilute aaa bbb ccc dda\n"
     ]
    },
    {
     "name": "stdout",
     "output_type": "stream",
     "text": [
      "True\n"
     ]
    }
   ],
   "source": [
    "text = input(\"iveskite simboliu eilute\")\n",
    "if text[0] == text[-1]:\n",
    "    print(True)\n",
    "else:\n",
    "    print(False)"
   ]
  },
  {
   "cell_type": "markdown",
   "id": "13a106a5-1e42-404d-b903-d69f35c75f91",
   "metadata": {},
   "source": [
    "Duotas dviženklis sveikasis skaičius. Išveskite jį taip, kaip parodyta pavyzdyje:\n"
   ]
  },
  {
   "cell_type": "code",
   "execution_count": 14,
   "id": "545e4378-95d3-4313-ae2f-cc353dfd42b6",
   "metadata": {},
   "outputs": [
    {
     "name": "stdin",
     "output_type": "stream",
     "text": [
      "iveskite dvizenkli skaiciu 23\n"
     ]
    },
    {
     "name": "stdout",
     "output_type": "stream",
     "text": [
      "2*****3\n"
     ]
    }
   ],
   "source": [
    "a = input(\"iveskite dvizenkli skaiciu\")\n",
    "text = \"\"\n",
    "text += a[0]\n",
    "text += 5 * \"*\"\n",
    "text += a[1]\n",
    "print(text)"
   ]
  },
  {
   "cell_type": "markdown",
   "id": "e01e1e5e-32c1-49ef-9576-6e1a6948259f",
   "metadata": {},
   "source": [
    "Parašykite programą, kuri leidžia nuskaityti darbuotojų duomenis iš klaviatūros. Pakeičia nuskaitytų \n",
    "reikšmių tipus į nurodytus skliaustuose ir rezultatą išveda ekrane.\n",
    "Nuskaito reikšmes:"
   ]
  },
  {
   "cell_type": "code",
   "execution_count": 12,
   "id": "7b4955d4-1c38-4e99-9e7f-21e900f76632",
   "metadata": {},
   "outputs": [
    {
     "name": "stdin",
     "output_type": "stream",
     "text": [
      "number 1\n"
     ]
    },
    {
     "name": "stdout",
     "output_type": "stream",
     "text": [
      "Employee No 1 <class 'int'>\n"
     ]
    },
    {
     "name": "stdin",
     "output_type": "stream",
     "text": [
      "name Laimis\n"
     ]
    },
    {
     "name": "stdout",
     "output_type": "stream",
     "text": [
      "Employee Name Laimis <class 'str'>\n"
     ]
    },
    {
     "name": "stdin",
     "output_type": "stream",
     "text": [
      "salary 8000\n"
     ]
    },
    {
     "name": "stdout",
     "output_type": "stream",
     "text": [
      "Employee Salary 8000.0 <class 'float'>\n"
     ]
    },
    {
     "name": "stdin",
     "output_type": "stream",
     "text": [
      "address Klaipeda\n"
     ]
    },
    {
     "name": "stdout",
     "output_type": "stream",
     "text": [
      "Employee Address Klaipeda <class 'str'>\n"
     ]
    },
    {
     "name": "stdin",
     "output_type": "stream",
     "text": [
      "married false\n"
     ]
    },
    {
     "name": "stdout",
     "output_type": "stream",
     "text": [
      "Employee Marries True <class 'bool'>\n"
     ]
    }
   ],
   "source": [
    "def printEmployee(name, value):\n",
    "    print(\"Employee \" + name + \" \" + str(value) + \" \" + str(type(value)))\n",
    "\n",
    "no = input(\"number\")\n",
    "printEmployee(\"No\", int(no))\n",
    "          \n",
    "name = input(\"name\")\n",
    "printEmployee(\"Name\", str(name))\n",
    "          \n",
    "salary = input(\"salary\")\n",
    "printEmployee(\"Salary\", float(salary))\n",
    "          \n",
    "address = input(\"address\")\n",
    "printEmployee(\"Address\", str(address))\n",
    "          \n",
    "married = input(\"married\")\n",
    "printEmployee(\"Marries\", bool(married))\n",
    "\n"
   ]
  },
  {
   "cell_type": "markdown",
   "id": "ad7956e4-1173-48d9-959a-0748b41a764b",
   "metadata": {},
   "source": [
    "Importuokite modulį math.\n",
    "Parašykite programą, kuri nuskaito apskritimo spindulio reikšmę ir apskaičiuoja apskritimo plotą.\n",
    "π reikšmę reikia paimti iš modulio math"
   ]
  },
  {
   "cell_type": "code",
   "execution_count": 22,
   "id": "4e8936d7-86cc-426a-9840-c8e3c926a926",
   "metadata": {},
   "outputs": [
    {
     "name": "stdin",
     "output_type": "stream",
     "text": [
      "spindulys 1.5\n"
     ]
    },
    {
     "name": "stdout",
     "output_type": "stream",
     "text": [
      "7.0685834705770345\n"
     ]
    }
   ],
   "source": [
    "import math as m\n",
    "r = input(\"spindulys\")\n",
    "s = float(r) ** 2 * m.pi\n",
    "print(s)"
   ]
  },
  {
   "cell_type": "markdown",
   "id": "57286480-7471-46e8-8d10-fa3ea460ddc0",
   "metadata": {},
   "source": [
    "Parašykite programą, kuri nuskaito simbolių eilutę ir išveda:\n",
    " tris pirmus simbolius\n",
    " tris paskutinius simbolius\n",
    " simbolius su lyginiais indeksais\n",
    " simbolius su nelyginiais indeksais\n",
    " eilutę atvirkštine tvarka\n",
    "Pavyzdys:"
   ]
  },
  {
   "cell_type": "code",
   "execution_count": 33,
   "id": "bdcf2f87-94ae-4f25-8cb8-40e75f6b894f",
   "metadata": {},
   "outputs": [
    {
     "name": "stdin",
     "output_type": "stream",
     "text": [
      "iveskite simbolius qwerty\n"
     ]
    },
    {
     "name": "stdout",
     "output_type": "stream",
     "text": [
      "qwe\n",
      "rty\n",
      "qet\n",
      "wry\n",
      "ytrewq\n"
     ]
    }
   ],
   "source": [
    "s = input(\"iveskite simbolius\")\n",
    "print(s[0:3])\n",
    "print(s[-3:])\n",
    "print(s[0::2])\n",
    "print(s[1::2])\n",
    "print(s[::-1])"
   ]
  },
  {
   "cell_type": "markdown",
   "id": "65ae6d0d-c169-4689-87f0-d2e3e36932ef",
   "metadata": {},
   "source": [
    "Parašykite programą, kuri nuskaito triženklį skaičių ir išveda jo skaitmenų sumą. Nenaudokite \n",
    "dalybos."
   ]
  },
  {
   "cell_type": "code",
   "execution_count": 36,
   "id": "da399d22-2caf-4b96-ac42-368330c01e7b",
   "metadata": {},
   "outputs": [
    {
     "name": "stdin",
     "output_type": "stream",
     "text": [
      "skaiciai 519\n"
     ]
    },
    {
     "name": "stdout",
     "output_type": "stream",
     "text": [
      "15\n"
     ]
    }
   ],
   "source": [
    "number = input(\"skaiciai\")\n",
    "sum = 0\n",
    "for i in number:\n",
    "    sum += int(i)\n",
    "\n",
    "print(sum)"
   ]
  },
  {
   "cell_type": "code",
   "execution_count": 37,
   "id": "56f09911-38f6-4e45-85bc-fc6f6fe76c4b",
   "metadata": {},
   "outputs": [
    {
     "ename": "SyntaxError",
     "evalue": "invalid syntax (Temp/ipykernel_25572/859676739.py, line 1)",
     "output_type": "error",
     "traceback": [
      "\u001b[1;36m  File \u001b[1;32m\"C:\\Users\\laimo\\AppData\\Local\\Temp/ipykernel_25572/859676739.py\"\u001b[1;36m, line \u001b[1;32m1\u001b[0m\n\u001b[1;33m    Parašykite programą, kuri nuskaito sveiką skaičių ir išveda jį dvejetaine,\u001b[0m\n\u001b[1;37m               ^\u001b[0m\n\u001b[1;31mSyntaxError\u001b[0m\u001b[1;31m:\u001b[0m invalid syntax\n"
     ]
    }
   ],
   "source": [
    "Parašykite programą, kuri nuskaito sveiką skaičių ir išveda jį dvejetaine, \n",
    "aštuntaine ir šešioliktaine \n",
    "forma. Atsakymus išveskite stulpeliu. Komandą print \n",
    "galima naudoti tik vieną kartą."
   ]
  },
  {
   "cell_type": "code",
   "execution_count": 4,
   "id": "a8cdcf8a-4fb4-4058-a08c-0f5291a364f2",
   "metadata": {},
   "outputs": [
    {
     "name": "stdin",
     "output_type": "stream",
     "text": [
      "trizenklis skaicius 2020\n"
     ]
    },
    {
     "name": "stdout",
     "output_type": "stream",
     "text": [
      "0b11111100100\n",
      "0o3744\n",
      "0x7e4\n"
     ]
    }
   ],
   "source": [
    "num = int(input(\"trizenklis skaicius\"))\n",
    "print(str(bin(num)) + \"\\n\" + str(oct(num)) + \"\\n\" + str(hex(num)))"
   ]
  },
  {
   "cell_type": "markdown",
   "id": "3b3f69ff-07c7-4fd7-9a06-5fdfe2eb44df",
   "metadata": {},
   "source": [
    "Parašykite programą, kuri nuskaito stataus trikampio statinių a ir b ilgius ir išveda trikampio plotą.\n",
    "Reikšmes iš klaviatūros nuskaitykite viena eilute."
   ]
  },
  {
   "cell_type": "code",
   "execution_count": 3,
   "id": "2f8e79c2-69e8-488c-ac03-89b47ca86eed",
   "metadata": {},
   "outputs": [
    {
     "name": "stdin",
     "output_type": "stream",
     "text": [
      " 10.5\n",
      " 21\n"
     ]
    },
    {
     "name": "stdout",
     "output_type": "stream",
     "text": [
      "110.25\n"
     ]
    }
   ],
   "source": [
    "a = float(input())\n",
    "b = float(input())\n",
    "print((a * b)/2)"
   ]
  },
  {
   "cell_type": "code",
   "execution_count": 5,
   "id": "5605c354-97d1-466f-9dc8-aeee158a7492",
   "metadata": {},
   "outputs": [
    {
     "name": "stdin",
     "output_type": "stream",
     "text": [
      "minutes 3456\n"
     ]
    },
    {
     "name": "stdout",
     "output_type": "stream",
     "text": [
      "h = 9\n",
      "m = 36\n"
     ]
    }
   ],
   "source": [
    "n = int(input(\"minutes\"))\n",
    "h = n // 60 % 24\n",
    "m = n % 60\n",
    "print(\"h = \" + str(h))\n",
    "print(\"m = \" + str(m))\n"
   ]
  },
  {
   "cell_type": "markdown",
   "id": "80584db1-9d37-4a0b-8f75-a810ea72cb87",
   "metadata": {},
   "source": [
    "Importuokite modulį math.\n",
    "Parašykite programą, kuri nuskaito x ir t reikšmes (x ir t – sveikieji skaičiai) ir išveda Z.\n",
    "Rezultatą pateikite su dviem skaitmenimis po kablelio."
   ]
  },
  {
   "cell_type": "code",
   "execution_count": 14,
   "id": "b6f61bc7-7300-4646-aac7-703c5f59986b",
   "metadata": {},
   "outputs": [
    {
     "name": "stdin",
     "output_type": "stream",
     "text": [
      "x 10\n",
      "t 1\n"
     ]
    },
    {
     "name": "stdout",
     "output_type": "stream",
     "text": [
      "2762685.71\n"
     ]
    }
   ],
   "source": [
    "import math as m\n",
    "x = int(input(\"x\"))\n",
    "t = int(input(\"t\"))\n",
    "top = 9 * m.pi * t + 10 * m.cos(x)\n",
    "bottom = (m.sqrt(t) - abs(m.sin(t)))\n",
    "Z = (top/bottom) * m.exp(x)\n",
    "print(round(Z,2))"
   ]
  },
  {
   "cell_type": "code",
   "execution_count": null,
   "id": "a19cd79f-cf11-4fc0-9649-56a2cbbd7a6e",
   "metadata": {},
   "outputs": [],
   "source": []
  }
 ],
 "metadata": {
  "kernelspec": {
   "display_name": "Python 3 (ipykernel)",
   "language": "python",
   "name": "python3"
  },
  "language_info": {
   "codemirror_mode": {
    "name": "ipython",
    "version": 3
   },
   "file_extension": ".py",
   "mimetype": "text/x-python",
   "name": "python",
   "nbconvert_exporter": "python",
   "pygments_lexer": "ipython3",
   "version": "3.9.1"
  }
 },
 "nbformat": 4,
 "nbformat_minor": 5
}
