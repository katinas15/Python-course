{
 "cells": [
  {
   "cell_type": "code",
   "execution_count": 2,
   "source": [
    "print(*list)"
   ],
   "outputs": [
    {
     "output_type": "stream",
     "name": "stdout",
     "text": [
      "123\n"
     ]
    }
   ],
   "metadata": {}
  },
  {
   "cell_type": "markdown",
   "source": [
    "Atlikite šiuos veiksmus:\r\n",
    "\r\n",
    "Nuskaitykite iš failo sveikus skaičius: pirmą eilutę į sąrašą list1, o antrą eilutę į sąrašą list2.\r\n",
    "Skirtingose eilutėse išveskite sąrašus list1 ir list2.\r\n",
    "Sujunkite sąrašo list1 ir trigubai didesnes sąrašo list2 reikšmes į sąrašą list3.\r\n",
    "Sudarykite žodyną dict1. Raktai - sąrašo list3 elementai, reikšmės - atitinkamų elementų kiekis sąraše.\r\n",
    "Išveskite žodyno poras, kurių reikšmė  ≥ 3.\r\n",
    "Išveskite žodyno dict1 raktą, rodantį į didžiausią reikšmę.\r\n",
    "Surikiuokite žodyną dict1 pagal reikšmę mažėjimo tvarką, tuomet pagal raktą didėjimo tvarką.\r\n",
    "Išveskite žodyno dict1 poras."
   ],
   "metadata": {}
  },
  {
   "cell_type": "code",
   "execution_count": 120,
   "source": [
    "f = open('duom.txt', 'r')\r\n",
    "list1 = list(map(int, f.readline().split()))\r\n",
    "list2 = list(map(int, f.readline().split()))\r\n",
    "\r\n",
    "print(list1)\r\n",
    "print(list2)\r\n",
    "\r\n",
    "list3 = list1 + list(map(lambda x:x*3, list2))\r\n",
    "# print(list3)\r\n",
    "\r\n",
    "dict1 = {x: list3.count(x) for x in list3}\r\n",
    "# print(dict1)\r\n",
    "\r\n",
    "print(*list(filter(lambda x: x[1] >= 3, dict1.items())), sep=', ')\r\n",
    "\r\n",
    "print(max(dict1, key=lambda x: dict1[x]))\r\n",
    "\r\n",
    "dict1 = sorted(dict1.items(), key=lambda x: (-x[1], x[0]))\r\n",
    "\r\n",
    "print(*dict1, sep=', ')\r\n"
   ],
   "outputs": [
    {
     "output_type": "stream",
     "name": "stdout",
     "text": [
      "[2, 3, 3, 5, 4]\n",
      "[1, 1, 2, 2, 2, 2, 2, 3]\n",
      "(3, 4), (6, 5)\n",
      "6\n",
      "(6, 5), (3, 4), (2, 1), (4, 1), (5, 1), (9, 1)\n"
     ]
    }
   ],
   "metadata": {}
  },
  {
   "cell_type": "markdown",
   "source": [
    "2.\r\n",
    "\r\n",
    "\r\n",
    "\r\n",
    "Sukurkite funkciją Filtruoti, kuri:\r\n",
    "\r\n",
    "Priima parametrą a ir neribotą pozicinių parametrų kiekį;\r\n",
    "Gautus argumentus sudeda į sąrašą list1, išveda sudarytą sąrašą;\r\n",
    "Sukuria unikalių reikšmių aibę set1.\r\n",
    "Sukuria aibę set2 iš set1 reikšmių, kurios dalijasi iš a ir yra nelyginės.\r\n",
    "Grąžina aibę set2.\r\n",
    "Atlikite šiuos veiksmus:\r\n",
    "\r\n",
    "Nuskaitykite skaičius a ir b.\r\n",
    "Nuskaitykite likusius 4 skaičius į sarašą list1.\r\n",
    "Iškvieskite funkciją Filtruoti(a, b, likę skaičiai).\r\n",
    "Surikiuokite gautą aibę ir ją išveskite į ekraną."
   ],
   "metadata": {}
  },
  {
   "cell_type": "code",
   "execution_count": 73,
   "source": [
    "def Filtruoti(a, *x):\r\n",
    "    list1 = list(map(int, list(a) + list(x)))\r\n",
    "    # print(list1)\r\n",
    "    set1 = set(list1)\r\n",
    "    # print(set1)\r\n",
    "    set2 = {x for x in set1 if x % int(a) == 0 and x % 2 != 0}\r\n",
    "    # print(set2)\r\n",
    "    return set2\r\n",
    "\r\n",
    "\r\n",
    "a, b, *list1 = input().split()\r\n",
    "res = Filtruoti(a, b, *list1)\r\n",
    "\r\n",
    "print(*sorted(res), sep=', ')\r\n",
    "\r\n"
   ],
   "outputs": [
    {
     "output_type": "stream",
     "name": "stdout",
     "text": [
      "[3, 1, 2, 3, 4, 5, 6, 7, 8, 9, 10]\n",
      "{1, 2, 3, 4, 5, 6, 7, 8, 9, 10}\n",
      "{9, 3}\n",
      "3, 9\n"
     ]
    }
   ],
   "metadata": {}
  },
  {
   "cell_type": "markdown",
   "source": [
    "Sukurkite funkciją Funkcija, kuri:\r\n",
    "\r\n",
    "Gauna aibes set1 ir set2 kaip parametrus;\r\n",
    "Sukuria aibę set3, sudarytą iš elementų, esančių aibėse set1 ir set2\r\n",
    "Išveda bendrus aibių elementus didėjimo tvarka. Jei tokių elementų nėra, išveda \"no\".\r\n",
    "Patikrina, ar viena aibė yra kitos poaibis ir išveda \"yes\" arba \"no\".\r\n",
    "Grąžina mažiausią ir didžiausią aibės set3 reikšmes.\r\n",
    "Atlikite šiuos veiksmus:\r\n",
    "\r\n",
    "Nuskaitykite iš ekrano aibes set1 ir set2, jos visada yra sudarytos iš skaičių;\r\n",
    "Iškvieskite funkciją Funkcija, rezultatą išsaugokite į a ir b;\r\n",
    "Į ekraną išveskite a, pakeltą laipsniu b."
   ],
   "metadata": {}
  },
  {
   "cell_type": "code",
   "execution_count": 98,
   "source": [
    "def Funkcija(set1, set2):\r\n",
    "    set3 = set1.intersection(set2)\r\n",
    "    # print(set3)\r\n",
    "    setSorted = sorted(set3)\r\n",
    "    if not len(setSorted):\r\n",
    "        print('no')\r\n",
    "    else:\r\n",
    "        print(setSorted)\r\n",
    "\r\n",
    "    if set1.issubset(set2) or set2.issubset(set1):\r\n",
    "        print('yes')\r\n",
    "    else:\r\n",
    "        print('no')\r\n",
    "    \r\n",
    "    return min(set3), max(set3)\r\n",
    "\r\n",
    "set1 = eval(input())\r\n",
    "set2 = eval(input())\r\n",
    "# print(set1)\r\n",
    "# print(set2)\r\n",
    "a, b = Funkcija(set1, set2)\r\n",
    "\r\n",
    "print(a**b)\r\n"
   ],
   "outputs": [
    {
     "output_type": "stream",
     "name": "stdout",
     "text": [
      "[2, 3]\n",
      "no\n",
      "8\n"
     ]
    }
   ],
   "metadata": {}
  },
  {
   "cell_type": "code",
   "execution_count": null,
   "source": [],
   "outputs": [],
   "metadata": {}
  }
 ],
 "metadata": {
  "orig_nbformat": 4,
  "language_info": {
   "name": "python",
   "version": "3.9.1",
   "mimetype": "text/x-python",
   "codemirror_mode": {
    "name": "ipython",
    "version": 3
   },
   "pygments_lexer": "ipython3",
   "nbconvert_exporter": "python",
   "file_extension": ".py"
  },
  "kernelspec": {
   "name": "python3",
   "display_name": "Python 3.9.1 64-bit"
  },
  "interpreter": {
   "hash": "63fd5069d213b44bf678585dea6b12cceca9941eaf7f819626cde1f2670de90d"
  }
 },
 "nbformat": 4,
 "nbformat_minor": 2
}