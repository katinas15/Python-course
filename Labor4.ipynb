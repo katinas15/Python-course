{
 "cells": [
  {
   "cell_type": "code",
   "execution_count": 1,
   "id": "0a97b2b8",
   "metadata": {},
   "outputs": [
    {
     "name": "stdout",
     "output_type": "stream",
     "text": [
      "asdasd\n",
      "a\n",
      "wd\n",
      "a\n",
      "wd\n"
     ]
    }
   ],
   "source": [
    "f = open('lines.txt', 'w')\n",
    "while True:\n",
    "    try:\n",
    "        line = input()\n",
    "        f.write(line + \"\\n\")\n",
    "    except:\n",
    "        f.close()\n",
    "        break"
   ]
  },
  {
   "cell_type": "code",
   "execution_count": 4,
   "id": "aab9e90d",
   "metadata": {},
   "outputs": [
    {
     "name": "stdout",
     "output_type": "stream",
     "text": [
      "T\n",
      "eiluciu - 0\n",
      "zodziu - 0\n",
      "simboliu - 1\n"
     ]
    }
   ],
   "source": [
    "endLines = 0\n",
    "words = 0\n",
    "symbols = 0\n",
    "with open(\"names.txt\", 'r') as f:\n",
    "    sym = f.read(1)\n",
    "    print(sym)\n",
    "    symbols += 1\n",
    "    if sym == '\\n':\n",
    "        endLines += 1\n",
    "    \n",
    "    if sym == ' ':\n",
    "        words += 1\n",
    "        \n",
    "print('eiluciu - ' + str(endLines))\n",
    "print('zodziu - ' + str(words))\n",
    "print('simboliu - ' + str(symbols))"
   ]
  },
  {
   "cell_type": "code",
   "execution_count": null,
   "id": "f1bdced8",
   "metadata": {},
   "outputs": [],
   "source": []
  },
  {
   "cell_type": "code",
   "execution_count": null,
   "id": "ec89adb1",
   "metadata": {},
   "outputs": [],
   "source": []
  }
 ],
 "metadata": {
  "kernelspec": {
   "display_name": "Python 3 (ipykernel)",
   "language": "python",
   "name": "python3"
  },
  "language_info": {
   "codemirror_mode": {
    "name": "ipython",
    "version": 3
   },
   "file_extension": ".py",
   "mimetype": "text/x-python",
   "name": "python",
   "nbconvert_exporter": "python",
   "pygments_lexer": "ipython3",
   "version": "3.9.1"
  }
 },
 "nbformat": 4,
 "nbformat_minor": 5
}
