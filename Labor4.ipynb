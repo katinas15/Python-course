{
 "cells": [
  {
   "cell_type": "code",
   "execution_count": null,
   "id": "96ba98e7",
   "metadata": {},
   "outputs": [],
   "source": [
    "4.1"
   ]
  },
  {
   "cell_type": "code",
   "execution_count": 1,
   "id": "5019446a",
   "metadata": {
    "scrolled": true
   },
   "outputs": [
    {
     "name": "stdout",
     "output_type": "stream",
     "text": [
      "asdasd\n",
      "a\n",
      "wd\n",
      "a\n",
      "wd\n"
     ]
    }
   ],
   "source": [
    "f = open('lines.txt', 'w')\n",
    "while True:\n",
    "    try:\n",
    "        line = input()\n",
    "        f.write(line + \"\\n\")\n",
    "    except:\n",
    "        f.close()\n",
    "        break"
   ]
  },
  {
   "cell_type": "code",
   "execution_count": null,
   "id": "45aa5cff",
   "metadata": {},
   "outputs": [],
   "source": [
    "4.2"
   ]
  },
  {
   "cell_type": "code",
   "execution_count": 26,
   "id": "1f44642b",
   "metadata": {},
   "outputs": [
    {
     "name": "stdout",
     "output_type": "stream",
     "text": [
      "eiluciu - 3\n",
      "zodziu - 3\n",
      "simboliu - 14\n"
     ]
    }
   ],
   "source": [
    "endLines = 0\n",
    "words = 0\n",
    "symbols = 0\n",
    "\n",
    "f = open(\"names.txt\", 'r')\n",
    "lines = ''.join(f.readlines())\n",
    "endLines = lines.count('\\n')\n",
    "words = lines.count(' ') + endLines \n",
    "print('eiluciu - ' + str(endLines))\n",
    "print('zodziu - ' + str(words))\n",
    "print('simboliu - ' + str(len(lines) - words))"
   ]
  },
  {
   "cell_type": "code",
   "execution_count": null,
   "id": "62ab4e29",
   "metadata": {},
   "outputs": [],
   "source": [
    "4.3"
   ]
  },
  {
   "cell_type": "code",
   "execution_count": 42,
   "id": "96891971",
   "metadata": {},
   "outputs": [
    {
     "name": "stdout",
     "output_type": "stream",
     "text": [
      "25\n",
      "lazy\n",
      "dog\n"
     ]
    }
   ],
   "source": [
    "sum = 0\n",
    "with open(\"names.txt\", 'r') as f:\n",
    "    lines = f.readlines()\n",
    "    for i in range(6):\n",
    "        sum += len(lines[i].replace('\\n', '').replace(' ', ''))\n",
    "    \n",
    "    print(sum)\n",
    "    \n",
    "    for i in range(6, len(lines)):\n",
    "        print(lines[i].replace('\\n', ''))\n"
   ]
  },
  {
   "cell_type": "code",
   "execution_count": null,
   "id": "27b19384",
   "metadata": {},
   "outputs": [],
   "source": []
  }
 ],
 "metadata": {
  "kernelspec": {
   "display_name": "Python 3 (ipykernel)",
   "language": "python",
   "name": "python3"
  },
  "language_info": {
   "codemirror_mode": {
    "name": "ipython",
    "version": 3
   },
   "file_extension": ".py",
   "mimetype": "text/x-python",
   "name": "python",
   "nbconvert_exporter": "python",
   "pygments_lexer": "ipython3",
   "version": "3.9.1"
  }
 },
 "nbformat": 4,
 "nbformat_minor": 5
}
