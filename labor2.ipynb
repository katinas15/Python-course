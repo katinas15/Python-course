{
 "cells": [
  {
   "cell_type": "markdown",
   "id": "ab3648a0-7e47-4824-97d2-abe487fe7fc8",
   "metadata": {},
   "source": [
    "Parašykite programą, kuri nuskaito natūralųjį skaičių x ir išveda sekantį po x lyginį skaičių."
   ]
  },
  {
   "cell_type": "code",
   "execution_count": 2,
   "id": "ee8c99ac-2bf5-45eb-94de-4455b081dcac",
   "metadata": {},
   "outputs": [
    {
     "name": "stdin",
     "output_type": "stream",
     "text": [
      "iveskite skaiciu 222\n"
     ]
    },
    {
     "name": "stdout",
     "output_type": "stream",
     "text": [
      "224\n"
     ]
    }
   ],
   "source": [
    "sk = int(input(\"iveskite skaiciu\"))\n",
    "if sk % 2 == 0:\n",
    "    print(str(sk + 2))\n",
    "else:\n",
    "    print(str(sk + 1))"
   ]
  },
  {
   "cell_type": "markdown",
   "id": "bf92308d-6681-4141-9af8-365d32489857",
   "metadata": {},
   "source": [
    "Parašykite programą, kuri nuskaito sveikuosius skaičius a, b ir c ir palygina juos. Jeigu du arba trys\n",
    "kintamieji yra lygūs, išveda jų reikšmes."
   ]
  },
  {
   "cell_type": "code",
   "execution_count": 12,
   "id": "82c8d8af-2e7f-41fa-b274-b473d9709eaa",
   "metadata": {},
   "outputs": [
    {
     "name": "stdin",
     "output_type": "stream",
     "text": [
      "iveskite 3 skaicius 1 2 2\n"
     ]
    },
    {
     "name": "stdout",
     "output_type": "stream",
     "text": [
      "b = 2, c = 2\n"
     ]
    }
   ],
   "source": [
    "a,b,c = input(\"iveskite 3 skaicius\").split()\n",
    "if a == b == c:\n",
    "    print(\"a = b = c = \" + a)\n",
    "elif a == b:\n",
    "    print(\"a = \" + a + \", b = \" + b)\n",
    "elif a == c:\n",
    "    print(\"a = \" + a + \", c = \" + c)\n",
    "elif b == c:\n",
    "    print(\"b = \" + b + \", c = \" + c)"
   ]
  },
  {
   "cell_type": "markdown",
   "id": "7585c621-5766-44e0-9901-385ff03d4408",
   "metadata": {},
   "source": [
    "Parašykite programą, kuri nuskaito keturis sveikuosius skaičius, patikrina, ar visi jie priklauso \n",
    "intervalui [0; 100] ir išveda atitinkamą pranešimą."
   ]
  },
  {
   "cell_type": "code",
   "execution_count": 3,
   "id": "48f06a44-0b77-4bf1-af5c-09cabb5d5581",
   "metadata": {},
   "outputs": [
    {
     "name": "stdin",
     "output_type": "stream",
     "text": [
      "Iveskite skaiciu:  1001\n"
     ]
    },
    {
     "name": "stdout",
     "output_type": "stream",
     "text": [
      "Ne visi skaiciai priklauso intervalui [0:100]\n"
     ]
    },
    {
     "ename": "SystemExit",
     "evalue": "",
     "output_type": "error",
     "traceback": [
      "An exception has occurred, use %tb to see the full traceback.\n",
      "\u001b[1;31mSystemExit\u001b[0m\n"
     ]
    }
   ],
   "source": [
    "import sys\n",
    "for i in range(4):\n",
    "    val = int(input(\"Iveskite skaiciu: \"))\n",
    "    if val > 100 or val < 0:\n",
    "        print(\"Ne visi skaiciai priklauso intervalui [0:100]\")\n",
    "        sys.exit()\n",
    "    \n",
    "print(\"Visi skaiciai priklauso intervalui [0:100]\")"
   ]
  },
  {
   "cell_type": "markdown",
   "id": "9e42cf36-1cc7-440d-9257-10305adc9966",
   "metadata": {},
   "source": [
    "Parašykite programą, kuri nuskaito natūraliuosius skaičius a, b ir c (b > a) ir nustato, kiek skaičių iš\n",
    "intervalo [a;b] dalijasi iš c."
   ]
  },
  {
   "cell_type": "code",
   "execution_count": 9,
   "id": "7b279303-a174-458c-a248-40193013c70c",
   "metadata": {},
   "outputs": [
    {
     "name": "stdin",
     "output_type": "stream",
     "text": [
      "iveskite skaicius a, b ir c 3 15 20\n"
     ]
    },
    {
     "name": "stdout",
     "output_type": "stream",
     "text": [
      "0\n"
     ]
    }
   ],
   "source": [
    "a,b,c = input(\"iveskite skaicius a, b ir c\").split()\n",
    "counter = 0\n",
    "for i in range(int(a), int(b)):\n",
    "    if i % int(c) == 0:\n",
    "        counter += 1\n",
    "        print(i)\n",
    "        \n",
    "print(counter)"
   ]
  },
  {
   "cell_type": "markdown",
   "id": "355c2290-48d6-4888-a297-6618fa085252",
   "metadata": {},
   "source": [
    "Parašykite programą, kuri nuskaito natūralųjį skaičių n ir išveda trikampį taip, kaip parodyta \n",
    "pavyzdyje:"
   ]
  },
  {
   "cell_type": "code",
   "execution_count": 14,
   "id": "5fa233bd-6757-469f-ae3b-82d293463343",
   "metadata": {},
   "outputs": [
    {
     "name": "stdin",
     "output_type": "stream",
     "text": [
      "iveskite skaiciu 5\n"
     ]
    },
    {
     "name": "stdout",
     "output_type": "stream",
     "text": [
      "\n",
      "1 \n",
      "2 2 \n",
      "3 3 3 \n",
      "4 4 4 4 \n",
      "5 5 5 5 5 \n"
     ]
    }
   ],
   "source": [
    "n = int(input(\"iveskite skaiciu\"))\n",
    "for i in range(n + 1):\n",
    "    text = \"\"\n",
    "    for j in range(i):\n",
    "        text += str(i) + \" \"\n",
    "    print(text)\n"
   ]
  },
  {
   "cell_type": "markdown",
   "id": "2ffa98b6-8c40-4b86-b173-b6b0883664ec",
   "metadata": {},
   "source": [
    "Parašykite programą, kuri nuskaito natūralųjį skaičių n ( n > 1), patikrina ar jis yra pirminis ir išveda \n",
    "atitinkamą pranešimą."
   ]
  },
  {
   "cell_type": "code",
   "execution_count": 18,
   "id": "0bd97aa1-b3f9-48cc-b42d-692039666d77",
   "metadata": {},
   "outputs": [
    {
     "name": "stdin",
     "output_type": "stream",
     "text": [
      "iveskite skaiciu 155\n"
     ]
    },
    {
     "name": "stdout",
     "output_type": "stream",
     "text": [
      "nepirminis\n"
     ]
    }
   ],
   "source": [
    "sk = int(input(\"iveskite skaiciu\"))\n",
    "counter = 0\n",
    "for i in range(1, sk):\n",
    "    if sk % i == 0:\n",
    "        counter += 1\n",
    "        \n",
    "if counter == 1:\n",
    "    print(\"pirminis\")\n",
    "else:\n",
    "    print(\"nepirminis\")"
   ]
  },
  {
   "cell_type": "markdown",
   "id": "90415e42-f30b-4626-9b2a-fddc7a185ddf",
   "metadata": {},
   "source": [
    "Parašykite programą, kuri nuskaito natūraliuosius skaičius a ir b (b > a) ir išveda visus pirminius \n",
    "skaičius iš intervalo [a;b] ."
   ]
  },
  {
   "cell_type": "code",
   "execution_count": 24,
   "id": "c94f840e-894c-4ac4-a3e5-f17349411e0f",
   "metadata": {},
   "outputs": [
    {
     "name": "stdin",
     "output_type": "stream",
     "text": [
      "iveskite a ir b 15 26\n"
     ]
    },
    {
     "name": "stdout",
     "output_type": "stream",
     "text": [
      "17\n",
      "19\n",
      "23\n",
      "3\n"
     ]
    }
   ],
   "source": [
    "def isPrime(num,div=2):\n",
    "    if(num==div):\n",
    "        return True\n",
    "    elif(num % div == 0):\n",
    "        return False\n",
    "    else:\n",
    "        return isPrime(num,div+1)\n",
    "\n",
    "a,b = input(\"iveskite a ir b\").split()\n",
    "counter = 0\n",
    "for i in range(int(a), int(b)):\n",
    "    if isPrime(i):\n",
    "        counter += 1\n",
    "        print(str(i))\n",
    "        \n",
    "print(counter)"
   ]
  },
  {
   "cell_type": "markdown",
   "id": "957766c4-3ade-444a-ab62-45ff0a58f46c",
   "metadata": {},
   "source": [
    "Parašykite programą, kuri nuskaito natūralųjį skaičių n ir išveda sumą 1!+2!+3!+...+n!\n",
    "Šiai užduočiai atlikti galima naudoti tik vieną ciklą."
   ]
  },
  {
   "cell_type": "code",
   "execution_count": null,
   "id": "700944bb-54cb-4cc6-9143-8a41d01fd0f6",
   "metadata": {},
   "outputs": [],
   "source": [
    "sk = input(\"iveskite skaiciu\")\n",
    "suma = 0\n",
    "for i in range(sk):\n",
    "    "
   ]
  }
 ],
 "metadata": {
  "kernelspec": {
   "display_name": "Python 3 (ipykernel)",
   "language": "python",
   "name": "python3"
  },
  "language_info": {
   "codemirror_mode": {
    "name": "ipython",
    "version": 3
   },
   "file_extension": ".py",
   "mimetype": "text/x-python",
   "name": "python",
   "nbconvert_exporter": "python",
   "pygments_lexer": "ipython3",
   "version": "3.9.1"
  }
 },
 "nbformat": 4,
 "nbformat_minor": 5
}
