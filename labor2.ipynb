{
 "cells": [
  {
   "cell_type": "markdown",
   "id": "0734265a",
   "metadata": {},
   "source": [
    "# Laboratorinis darbas 2\n",
    "Laimonas Janutėnas\n",
    "\n",
    "DGTfm - 21"
   ]
  },
  {
   "cell_type": "markdown",
   "id": "ab3648a0-7e47-4824-97d2-abe487fe7fc8",
   "metadata": {},
   "source": [
    "# 1. ----------------------------------------------------------\n",
    "\n",
    "Parašykite programą, kuri nuskaito natūralųjį skaičių x ir išveda sekantį po x lyginį skaičių.\n",
    "\n",
    "```\n",
    "Įveskite skaičių: 125\n",
    "126\n",
    "------------------------------------------------\n",
    "Įveskite skaičių: 222\n",
    "224\n",
    "```"
   ]
  },
  {
   "cell_type": "code",
   "execution_count": 19,
   "id": "ee8c99ac-2bf5-45eb-94de-4455b081dcac",
   "metadata": {
    "scrolled": false
   },
   "outputs": [
    {
     "name": "stdout",
     "output_type": "stream",
     "text": [
      "iveskite skaiciu: 222\n",
      "224\n"
     ]
    }
   ],
   "source": [
    "sk = int(input(\"iveskite skaiciu: \"))\n",
    "if sk % 2 == 0:\n",
    "    print(str(sk + 2))\n",
    "else:\n",
    "    print(str(sk + 1))"
   ]
  },
  {
   "cell_type": "markdown",
   "id": "bf92308d-6681-4141-9af8-365d32489857",
   "metadata": {},
   "source": [
    "# 2. ----------------------------------------------------------\n",
    "\n",
    "Parašykite programą, kuri nuskaito sveikuosius skaičius a, b ir c ir palygina juos. Jeigu du arba trys\n",
    "kintamieji yra lygūs, išveda jų reikšmes.\n",
    "\n",
    "```\n",
    "Įveskite 3 skaičius: 1 1 2\n",
    "a = 1, b = 1\n",
    "------------------------------------------------\n",
    "Įveskite 3 skaičius: 1 1 1\n",
    "a = b = c = 1\n",
    "```"
   ]
  },
  {
   "cell_type": "code",
   "execution_count": 29,
   "id": "82c8d8af-2e7f-41fa-b274-b473d9709eaa",
   "metadata": {},
   "outputs": [
    {
     "name": "stdout",
     "output_type": "stream",
     "text": [
      "iveskite 3 skaicius: 2 1 2\n",
      "a = 2, c = 2\n"
     ]
    }
   ],
   "source": [
    "a,b,c = input(\"iveskite 3 skaicius: \").split()\n",
    "if a == b == c:\n",
    "    print(\"a = b = c = \" + a)\n",
    "elif a == b:\n",
    "    print(\"a = \" + a + \", b = \" + b)\n",
    "elif a == c:\n",
    "    print(\"a = \" + a + \", c = \" + c)\n",
    "elif b == c:\n",
    "    print(\"b = \" + b + \", c = \" + c)"
   ]
  },
  {
   "cell_type": "markdown",
   "id": "7585c621-5766-44e0-9901-385ff03d4408",
   "metadata": {},
   "source": [
    "# 3. ----------------------------------------------------------\n",
    "Parašykite programą, kuri nuskaito keturis sveikuosius skaičius, patikrina, ar visi jie priklauso \n",
    "intervalui [0; 100] ir išveda atitinkamą pranešimą.\n",
    "\n",
    "```\n",
    "Įveskite skaičių:5\n",
    "Įveskite skaičių:6\n",
    "Įveskite skaičių:12\n",
    "Įveskite skaičių:99\n",
    "Visi įvesti skaičiai priklauso intervalui [0;100]\n",
    "--------------------------------------------------------\n",
    "Įveskite skaičių:100\n",
    "Įveskite skaičių:101\n",
    "Ne visi įvesti skaičiai priklauso intervalui [0;100]\n",
    "```"
   ]
  },
  {
   "cell_type": "code",
   "execution_count": 26,
   "id": "48f06a44-0b77-4bf1-af5c-09cabb5d5581",
   "metadata": {},
   "outputs": [
    {
     "name": "stdout",
     "output_type": "stream",
     "text": [
      "22\n",
      "5\n",
      "\n",
      "\n",
      "Visi ivesti skaiciai priklauso intervalui [0;100]\n"
     ]
    }
   ],
   "source": [
    "for i in range(4):\n",
    "    try:\n",
    "        val = int(input())\n",
    "        if val > 100 or val < 0:\n",
    "            print(\"Ne visi ivesti skaiciai priklauso intervalui [0;100]\")\n",
    "            break\n",
    "    except:\n",
    "        pass\n",
    "else:\n",
    "    print(\"Visi ivesti skaiciai priklauso intervalui [0;100]\")"
   ]
  },
  {
   "cell_type": "markdown",
   "id": "9e42cf36-1cc7-440d-9257-10305adc9966",
   "metadata": {},
   "source": [
    "# 4. ----------------------------------------------------------\n",
    "\n",
    "Parašykite programą, kuri nuskaito natūraliuosius skaičius a, b ir c (b > a) ir nustato, kiek skaičių iš\n",
    "intervalo [a;b] dalijasi iš c.\n",
    "\n",
    "```\n",
    "Įveskite skaičius a, b ir c (a < b): 56 212 49\n",
    "98\n",
    "147\n",
    "196\n",
    "3\n",
    "------------------------------------------------\n",
    "Įveskite skaičius a, b ir c (a < b): 3 15 20\n",
    "0\n",
    "```"
   ]
  },
  {
   "cell_type": "code",
   "execution_count": 36,
   "id": "7b279303-a174-458c-a248-40193013c70c",
   "metadata": {},
   "outputs": [
    {
     "name": "stdout",
     "output_type": "stream",
     "text": [
      "iveskite skaicius a, b ir c: 56 212 49\n",
      "98\n",
      "147\n",
      "196\n",
      "3\n"
     ]
    }
   ],
   "source": [
    "a,b,c = input(\"iveskite skaicius a, b ir c: \").split()\n",
    "counter = 0\n",
    "for i in range(int(a), int(b)+1):\n",
    "    if i % int(c) == 0:\n",
    "        counter += 1\n",
    "        print(i)\n",
    "        \n",
    "print(counter)"
   ]
  },
  {
   "cell_type": "markdown",
   "id": "355c2290-48d6-4888-a297-6618fa085252",
   "metadata": {},
   "source": [
    "# 5. ----------------------------------------------------------\n",
    "Parašykite programą, kuri nuskaito natūralųjį skaičių n ir išveda trikampį taip, kaip parodyta \n",
    "pavyzdyje:\n",
    "\n",
    "```\n",
    "Įveskite skaičių: 5\n",
    "1 \n",
    "2 2 \n",
    "3 3 3 \n",
    "4 4 4 4 \n",
    "5 5 5 5 5\n",
    "```"
   ]
  },
  {
   "cell_type": "code",
   "execution_count": 7,
   "id": "5fa233bd-6757-469f-ae3b-82d293463343",
   "metadata": {},
   "outputs": [
    {
     "name": "stdout",
     "output_type": "stream",
     "text": [
      "iveskite skaiciu: 5\n",
      "1\n",
      "2 2\n",
      "3 3 3\n",
      "4 4 4 4\n",
      "5 5 5 5 5\n"
     ]
    }
   ],
   "source": [
    "n = int(input(\"iveskite skaiciu: \"))\n",
    "for i in range(1, n + 1):\n",
    "    text = \"\"\n",
    "    for j in range(i):\n",
    "        text += str(i)\n",
    "        if j != len(range(i)) - 1:\n",
    "            text += \" \"\n",
    "    print(text)\n"
   ]
  },
  {
   "cell_type": "markdown",
   "id": "2ffa98b6-8c40-4b86-b173-b6b0883664ec",
   "metadata": {},
   "source": [
    "# 6. ----------------------------------------------------------\n",
    "Parašykite programą, kuri nuskaito natūralųjį skaičių n ( n > 1), patikrina ar jis yra pirminis ir išveda \n",
    "atitinkamą pranešimą.\n",
    "\n",
    "```\n",
    "Įveskite skaičių: 719\n",
    "pirminis\n",
    "------------------------------------------------\n",
    "Įveskite skaičių: 155\n",
    "nepirminis\n",
    "```"
   ]
  },
  {
   "cell_type": "code",
   "execution_count": 42,
   "id": "0bd97aa1-b3f9-48cc-b42d-692039666d77",
   "metadata": {},
   "outputs": [
    {
     "name": "stdout",
     "output_type": "stream",
     "text": [
      "iveskite skaiciu: 719\n",
      "pirminis\n"
     ]
    }
   ],
   "source": [
    "import sys\n",
    "def isPrime(num,div=2):\n",
    "    if(num==div):\n",
    "        return True\n",
    "    elif(num % div == 0):\n",
    "        return False\n",
    "    else:\n",
    "        return isPrime(num,div+1)\n",
    "\n",
    "sk = int(input(\"iveskite skaiciu: \"))\n",
    "        \n",
    "if sk < 2:\n",
    "    print(\"skaicius turi buti didesnis uz 1!!\")\n",
    "    sys.exit()\n",
    "    \n",
    "if isPrime(sk):\n",
    "    print(\"pirminis\")\n",
    "else:\n",
    "    print(\"nepirminis\")"
   ]
  },
  {
   "cell_type": "markdown",
   "id": "90415e42-f30b-4626-9b2a-fddc7a185ddf",
   "metadata": {},
   "source": [
    "# 7. ----------------------------------------------------------\n",
    "Parašykite programą, kuri nuskaito natūraliuosius skaičius a ir b (b > a) ir išveda visus pirminius \n",
    "skaičius iš intervalo [a;b] .\n",
    "\n",
    "```\n",
    "Įveskite skaičių a: 15\n",
    "Įveskite skaičių b: 26\n",
    "17\n",
    "19\n",
    "23\n",
    "3\n",
    "```"
   ]
  },
  {
   "cell_type": "code",
   "execution_count": 1,
   "id": "57dc7f02",
   "metadata": {},
   "outputs": [
    {
     "name": "stdout",
     "output_type": "stream",
     "text": [
      "iveskite a: 1\n",
      "iveskite b: 2\n",
      "2\n",
      "\n",
      "1\n"
     ]
    }
   ],
   "source": [
    "def isPrime(num,div=2):\n",
    "    if(num == 1):\n",
    "        return False\n",
    "    elif(num==div):\n",
    "        return True\n",
    "    elif(num % div == 0):\n",
    "        return False\n",
    "    else:\n",
    "        return isPrime(num,div+1)\n",
    "\n",
    "a = input(\"iveskite a: \")\n",
    "b = input(\"iveskite b: \")\n",
    "\n",
    "\n",
    "\n",
    "counter = 0\n",
    "for i in range(int(a), int(b)+1):\n",
    "    if isPrime(i):\n",
    "        counter += 1\n",
    "        print(str(i))\n",
    "        \n",
    "print(counter)"
   ]
  },
  {
   "cell_type": "markdown",
   "id": "957766c4-3ade-444a-ab62-45ff0a58f46c",
   "metadata": {},
   "source": [
    "# 8. ----------------------------------------------------------\n",
    "Parašykite programą, kuri nuskaito natūralųjį skaičių n ir išveda sumą 1!+2!+3!+...+n!\n",
    "Šiai užduočiai atlikti galima naudoti tik vieną ciklą.\n",
    "\n",
    "```\n",
    "Įveskite skaičių: 1\n",
    "Faktorialų suma – 1\n",
    "------------------------------------------------\n",
    "Įveskite skaičių: 3\n",
    "Faktorialų suma – 9\n",
    "------------------------------------------------\n",
    "Įveskite skaičių: 5\n",
    "Faktorialų suma – 153\n",
    "------------------------------------------------\n",
    "Įveskite skaičių: 7\n",
    "Faktorialų suma – 5913\n",
    "------------------------------------------------\n",
    "Įveskite skaičių: 10\n",
    "Faktorialų suma - 4037913\n",
    "```"
   ]
  },
  {
   "cell_type": "code",
   "execution_count": 24,
   "id": "700944bb-54cb-4cc6-9143-8a41d01fd0f6",
   "metadata": {},
   "outputs": [
    {
     "name": "stdout",
     "output_type": "stream",
     "text": [
      "iveskite skaiciu: 10\n",
      "Faktorialu suma = 4037913\n"
     ]
    }
   ],
   "source": [
    "import math\n",
    "sk = int(input(\"iveskite skaiciu: \"))\n",
    "suma = 0\n",
    "for i in range(1, sk + 1):\n",
    "    suma += math.factorial(i)\n",
    "    \n",
    "print(\"Faktorialu suma = \" + str(suma))"
   ]
  },
  {
   "cell_type": "markdown",
   "id": "69617bd2",
   "metadata": {},
   "source": [
    "# 9. ----------------------------------------------------------\n",
    "Parašykite programą, kuri nuskaito natūralųjį skaičių x, randa didžiausią dvejeto laipsnio rodiklį n \n",
    "( 2\n",
    "n ≤ x ) ir išveda 2\n",
    "n ir n reikšmes\n",
    "\n",
    "```\n",
    "Įveskite skaičių: 2\n",
    "2 1\n",
    "------------------------------------------------\n",
    "Įveskite skaičių: 3\n",
    "2 1\n",
    "------------------------------------------------\n",
    "Įveskite skaičių: 5\n",
    "4 2\n",
    "------------------------------------------------\n",
    "Įveskite skaičių: 10\n",
    "8 3\n",
    "------------------------------------------------\n",
    "Įveskite skaičių: 50\n",
    "32 5\n",
    "```"
   ]
  },
  {
   "cell_type": "code",
   "execution_count": 27,
   "id": "ab3778bc",
   "metadata": {},
   "outputs": [
    {
     "name": "stdout",
     "output_type": "stream",
     "text": [
      "ivesktie skaiciu: 50\n",
      "32 5\n"
     ]
    }
   ],
   "source": [
    "import sys\n",
    "sk = int(input(\"ivesktie skaiciu: \"))\n",
    "\n",
    "if sk <= 0:\n",
    "    print(\"skaicius turi buti didesnis nei 0!\")\n",
    "    sys.exit()\n",
    "\n",
    "n = 0\n",
    "max = 0\n",
    "while max <= sk:\n",
    "    n += 1\n",
    "    max = 2 ** n\n",
    "    \n",
    "print(str(2 ** (n-1)) + \" \" + str(n-1))"
   ]
  },
  {
   "cell_type": "markdown",
   "id": "b3bad0af",
   "metadata": {},
   "source": [
    "# 10. --------------------------------------------------------\n",
    "Parašykite programą, kuri nuskaito skaičių x ( x – sveikasis skaičius, x ≥ 2 ), nustato ir išveda mažiausią \n",
    "skaičiaus x natūralųjį daliklį n ( n ≠ 1).\n",
    "\n",
    "```\n",
    "Įveskite skaičių: 2\n",
    "2\n",
    "------------------------------------------------\n",
    "Įveskite skaičių: 13\n",
    "13\n",
    "------------------------------------------------\n",
    "Įveskite skaičių: 15\n",
    "3\n",
    "------------------------------------------------\n",
    "Įveskite skaičių: 159\n",
    "3\n",
    "------------------------------------------------\n",
    "Įveskite skaičių: -27\n",
    "3\n",
    "```"
   ]
  },
  {
   "cell_type": "code",
   "execution_count": 30,
   "id": "74652667",
   "metadata": {},
   "outputs": [
    {
     "name": "stdout",
     "output_type": "stream",
     "text": [
      "ivesktie skaiciu: 13\n",
      "13\n"
     ]
    }
   ],
   "source": [
    "import sys\n",
    "sk = abs(int(input(\"ivesktie skaiciu: \")))\n",
    "\n",
    "if sk < 2:\n",
    "    print(\"skaicius turi buti daugiau arba lygu 2!\")\n",
    "    sys.exit()\n",
    "\n",
    "for i in range(2, sk+1):\n",
    "    if sk % i == 0:\n",
    "        print(i)\n",
    "        break"
   ]
  },
  {
   "cell_type": "markdown",
   "id": "cef7767e",
   "metadata": {},
   "source": [
    "# 11. -----------------------------------------------------\n",
    "Parašykite programą, kuri leidžia nuskaityti iš ekrano natūraliųjų skaičių seką (skaičiai įvedami po \n",
    "vieną) ir baigia nuskaitymą įvedus 0. Nustatykite ir išveskite sekos lyginių skaičių kiekį.\n",
    "\n",
    "```\n",
    "1\n",
    "1\n",
    "1\n",
    "0\n",
    "0\n",
    "------------------------------------------------\n",
    "1\n",
    "2\n",
    "3\n",
    "4\n",
    "5\n",
    "6\n",
    "0\n",
    "3\n",
    "------------------------------------------------\n",
    "100\n",
    "101\n",
    "0\n",
    "1\n",
    "```"
   ]
  },
  {
   "cell_type": "code",
   "execution_count": null,
   "id": "41d05e0a",
   "metadata": {},
   "outputs": [],
   "source": []
  },
  {
   "cell_type": "code",
   "execution_count": 2,
   "id": "fff69aac",
   "metadata": {},
   "outputs": [
    {
     "name": "stdout",
     "output_type": "stream",
     "text": [
      "100\n",
      "101\n",
      "100\n",
      "0\n",
      "2\n"
     ]
    }
   ],
   "source": [
    "lastInput = -1\n",
    "numbers = []\n",
    "while lastInput != 0:\n",
    "    sk = int(input(\"Iveskite skaiciu, skaicius 0 baigia darba: \"))\n",
    "    if(sk == 0):\n",
    "        break\n",
    "    numbers.append(sk)\n",
    "    \n",
    "sum = 0\n",
    "for i in numbers:\n",
    "    if i % 2 == 0:\n",
    "        sum += 1\n",
    "        \n",
    "print(\"skaiciu kiekis, kuris dalinasi is 2: \" + str(sum))"
   ]
  },
  {
   "cell_type": "markdown",
   "id": "4c4eaaf9",
   "metadata": {},
   "source": [
    "# 12. -----------------------------------------------------\n",
    "Parašykite programą, kuri leidžia nuskaityti iš ekrano natūraliųjų skaičių seką (skaičiai įvedami po \n",
    "vieną) ir baigia nuskaitymą įvedus 0. Nustatykite antrojo pagal dydį šios sekos elemento vertę. Sekoje \n",
    "privalo būti bent du elementai. Nenaudokite rikiavimo."
   ]
  },
  {
   "cell_type": "code",
   "execution_count": 3,
   "id": "678bc1f5",
   "metadata": {
    "scrolled": false
   },
   "outputs": [
    {
     "name": "stdout",
     "output_type": "stream",
     "text": [
      "Iveskite skaiciu, skaicius 0 baigia darba: 100\n",
      "Iveskite skaiciu, skaicius 0 baigia darba: 101\n",
      "Iveskite skaiciu, skaicius 0 baigia darba: 0\n",
      "antras didziausias skaicius: 100\n"
     ]
    }
   ],
   "source": [
    "import sys\n",
    "def findMax(arr):\n",
    "    max = 0\n",
    "    for i in arr:\n",
    "        if max < i:\n",
    "            max = i\n",
    "    return max\n",
    "        \n",
    "\n",
    "lastInput = -1\n",
    "numbers = []\n",
    "while lastInput != 0:\n",
    "    sk = int(input(\"Iveskite skaiciu, skaicius 0 baigia darba: \"))\n",
    "    if(sk == 0):\n",
    "        break\n",
    "    numbers.append(sk)\n",
    "    \n",
    "if len(numbers) < 2:\n",
    "    print(\"skaiciu sekoje turi buti bent 2 skaiciai!!\")\n",
    "    sys.exit()\n",
    "    \n",
    "max = findMax(numbers)\n",
    "while max in numbers: \n",
    "    numbers.remove(max)\n",
    "\n",
    "if len(numbers) > 0:\n",
    "    max = findMax(numbers)\n",
    "        \n",
    "print(\"antras didziausias skaicius: \" + str(max))"
   ]
  },
  {
   "cell_type": "code",
   "execution_count": 18,
   "id": "417324fc",
   "metadata": {},
   "outputs": [
    {
     "name": "stdout",
     "output_type": "stream",
     "text": [
      "1\n",
      "2\n",
      "3\n",
      "0\n",
      "2\n"
     ]
    }
   ],
   "source": [
    "import math\n",
    "lastInput = -1\n",
    "maxNum = -math.inf\n",
    "lastMaxNum = -math.inf\n",
    "while lastInput != 0:\n",
    "    sk = int(input())\n",
    "    if(sk == 0):\n",
    "        break\n",
    "\n",
    "    if maxNum < sk:\n",
    "        lastMaxNum = maxNum\n",
    "        maxNum = sk\n",
    "    elif lastMaxNum < sk and sk != maxNum:\n",
    "        lastMaxNum = sk\n",
    "        \n",
    "if lastMaxNum == -math.inf:\n",
    "    print(str(maxNum))\n",
    "else:\n",
    "    print(str(lastMaxNum))"
   ]
  },
  {
   "cell_type": "markdown",
   "id": "dc14cda8",
   "metadata": {},
   "source": [
    "# 13. -----------------------------------------------------\n",
    "Parašykite programą, kuri leidžia nuskaityti iš ekrano natūraliųjų skaičių seką (skaičiai įvedami po \n",
    "vieną) ir baigia nuskaitymą įvedus 0. Nustatykite kiek sekos elementų turi didžiausią vertę\n",
    "\n",
    "```\n",
    "10\n",
    "1\n",
    "2\n",
    "10\n",
    "3\n",
    "4\n",
    "10\n",
    "0\n",
    "3\n",
    "------------------------------------------------\n",
    "1\n",
    "1\n",
    "1\n",
    "10\n",
    "0\n",
    "1\n",
    "------------------------------------------------\n",
    "1\n",
    "1\n",
    "1\n",
    "0\n",
    "3\n",
    "```"
   ]
  },
  {
   "cell_type": "code",
   "execution_count": 5,
   "id": "b38d25e1",
   "metadata": {
    "scrolled": true
   },
   "outputs": [
    {
     "name": "stdout",
     "output_type": "stream",
     "text": [
      "Iveskite skaiciu, skaicius 0 baigia darba: 1\n",
      "Iveskite skaiciu, skaicius 0 baigia darba: 2\n",
      "Iveskite skaiciu, skaicius 0 baigia darba: 3\n",
      "Iveskite skaiciu, skaicius 0 baigia darba: 3\n",
      "Iveskite skaiciu, skaicius 0 baigia darba: 3\n",
      "Iveskite skaiciu, skaicius 0 baigia darba: 0\n",
      "didziausia verte turinciu skaiciu kiekis: 3\n"
     ]
    }
   ],
   "source": [
    "lastInput = -1\n",
    "numbers = []\n",
    "while lastInput != 0:\n",
    "    sk = int(input(\"Iveskite skaiciu, skaicius 0 baigia darba: \"))\n",
    "    if(sk == 0):\n",
    "        break\n",
    "    numbers.append(sk)\n",
    "    \n",
    "maxNum = max(numbers)\n",
    "sum = 0\n",
    "while maxNum in numbers: \n",
    "    numbers.remove(maxNum)\n",
    "    sum += 1\n",
    "        \n",
    "print(\"didziausia verte turinciu skaiciu kiekis: \" + str(sum))"
   ]
  },
  {
   "cell_type": "code",
   "execution_count": null,
   "id": "6bb9ec86",
   "metadata": {},
   "outputs": [],
   "source": [
    "lastInput = -1\n",
    "numbers = []\n",
    "while lastInput != 0:\n",
    "    sk = int(input())\n",
    "    if(sk == 0):\n",
    "        break\n",
    "    numbers.append(sk)\n",
    "    \n",
    "maxNum = max(numbers)\n",
    "sum = 0\n",
    "while maxNum in numbers: \n",
    "    numbers.remove(maxNum)\n",
    "    sum += 1\n",
    "        \n",
    "print(str(sum))"
   ]
  },
  {
   "attachments": {
    "image.png": {
     "image/png": "[encoded data removed]"
    }
   },
   "cell_type": "markdown",
   "id": "21714720",
   "metadata": {},
   "source": [
    "# 14. -----------------------------------------------------\n",
    "Parašykite programą, kuri nuskaito natūralųjį skaičių n ir nustato n-tąjį Fibonačio sekos skaičių.\n",
    "Fibonačio skaičių seka nusakoma taip:\n",
    "F0 = 0, F1 = 1, Fn = Fn-1 + Fn-2 .\n",
    "![image.png](attachment:image.png)"
   ]
  },
  {
   "cell_type": "code",
   "execution_count": 36,
   "id": "c5165350",
   "metadata": {
    "scrolled": true
   },
   "outputs": [
    {
     "name": "stdout",
     "output_type": "stream",
     "text": [
      "ivesktie skaiciu: 10\n",
      "55\n"
     ]
    }
   ],
   "source": [
    "import sys\n",
    "sk = int(input(\"ivesktie skaiciu: \"))\n",
    "\n",
    "if sk == 0:\n",
    "    print(0)\n",
    "    sys.exit()\n",
    "\n",
    "f0 = 0\n",
    "f1 = 1\n",
    "for i in range(sk-1):\n",
    "    temp = f1b\n",
    "    f1 = f0 + f1\n",
    "    f0 = temp\n",
    "    \n",
    "print(f1)"
   ]
  },
  {
   "cell_type": "code",
   "execution_count": null,
   "id": "6b1ef8b5",
   "metadata": {},
   "outputs": [],
   "source": [
    "import sys\n",
    "sk = int(input())\n",
    "\n",
    "if sk == 0:\n",
    "    print(0)\n",
    "    sys.exit()\n",
    "\n",
    "f0 = 0\n",
    "f1 = 1\n",
    "for i in range(sk-1):\n",
    "    temp = f1\n",
    "    f1 = f0 + f1\n",
    "    f0 = temp\n",
    "    \n",
    "print(f1)"
   ]
  },
  {
   "cell_type": "markdown",
   "id": "8f8b1cac",
   "metadata": {},
   "source": [
    "# 15. -----------------------------------------------------\n",
    "Parašykite programą, kuri leidžia nuskaityti iš ekrano sveikųjų skaičių seką (skaičiai įvedami po vieną) \n",
    "ir baigia nuskaitymą įvedus raidę \"x\". Nustatykite ir išveskite mažiausią ir didžiausią sekos skaičius.\n",
    "Jeigu visi sekos skaičiai yra lygūs, atsakymą išveskite kaip maksimalią reikšmę.\n",
    "Sekoje privalo būti bent du elementai.\n",
    "\n",
    "```\n",
    "Įveskite skaičių arba \"x\":\n",
    "100\n",
    "0\n",
    "-99\n",
    "3\n",
    "25\n",
    "x\n",
    "min = -99\n",
    "max = 100\n",
    "------------------------------------------------\n",
    "Įveskite skaičių arba \"x\":\n",
    "1\n",
    "1\n",
    "1\n",
    "x\n",
    "max = 1\n",
    "```"
   ]
  },
  {
   "cell_type": "code",
   "execution_count": 11,
   "id": "56cdd985",
   "metadata": {
    "scrolled": true
   },
   "outputs": [
    {
     "name": "stdout",
     "output_type": "stream",
     "text": [
      "Iveskite skaiciu, skaicius 'x' baigia darba: 1\n",
      "Iveskite skaiciu, skaicius 'x' baigia darba: x\n",
      "max = 1\n"
     ]
    }
   ],
   "source": [
    "lastInput = -1\n",
    "numbers = []\n",
    "while lastInput != 0:\n",
    "    sk = input(\"Iveskite skaiciu, skaicius 'x' baigia darba: \")\n",
    "    if(sk == 'x'):\n",
    "        break\n",
    "    numbers.append(int(sk))\n",
    "    \n",
    "    \n",
    "maxNum = max(numbers)\n",
    "minNum = min(numbers)\n",
    "\n",
    "if minNum == maxNum:\n",
    "    print('max = ' + str(maxNum))\n",
    "else:\n",
    "    print('min = ' + str(minNum))\n",
    "    print('max = ' + str(maxNum))"
   ]
  },
  {
   "cell_type": "code",
   "execution_count": null,
   "id": "dce6b383",
   "metadata": {},
   "outputs": [],
   "source": [
    "lastInput = -1\n",
    "numbers = []\n",
    "while lastInput != 0:\n",
    "    sk = input()\n",
    "    if(sk == 'x'):\n",
    "        break\n",
    "    numbers.append(int(sk))\n",
    "    \n",
    "    \n",
    "maxNum = max(numbers)\n",
    "minNum = min(numbers)\n",
    "\n",
    "if minNum == maxNum:\n",
    "    print(str(maxNum))\n",
    "else:\n",
    "    print(str(minNum) + \" \" + str(maxNum))"
   ]
  },
  {
   "cell_type": "code",
   "execution_count": null,
   "id": "bf4475c0",
   "metadata": {},
   "outputs": [],
   "source": []
  }
 ],
 "metadata": {
  "kernelspec": {
   "display_name": "Python 3 (ipykernel)",
   "language": "python",
   "name": "python3"
  },
  "language_info": {
   "codemirror_mode": {
    "name": "ipython",
    "version": 3
   },
   "file_extension": ".py",
   "mimetype": "text/x-python",
   "name": "python",
   "nbconvert_exporter": "python",
   "pygments_lexer": "ipython3",
   "version": "3.9.1"
  }
 },
 "nbformat": 4,
 "nbformat_minor": 5
}
