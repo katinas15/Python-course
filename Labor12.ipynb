{
 "cells": [
  {
   "cell_type": "code",
   "execution_count": null,
   "source": [
    "1.\r\n",
    "\r\n",
    "Parašykite programą, kuri išsprendžia lygčių sistemą ir suapvalintą atsakymą išveda stulpeliu.\r\n",
    "\r\n",
    "Pirmoje eilutėje pateikti du skaičiai n ir m:\r\n",
    "n - lygčių skaičius,\r\n",
    "m - nežinomųjų skaičius.\r\n",
    "Toliau n eilučių, kiekvienoje eilutėje m+1 skaičius. Pirmi m skaičių - tai lygties nežinomųjų koeficientai, paskutinis skaičius - lygties rezultatas.\r\n",
    "\r\n",
    "\r\n",
    "4 4\r\n",
    "1 2 -1 1 -3\r\n",
    "3 3 -5 2 -7\r\n",
    "-3 1 4 -5 5\r\n",
    "1 3 -2 1 -5\r\n",
    "\r\n",
    "\r\n",
    "1.0\r\n",
    "-1.0\r\n",
    "1.0\r\n",
    "-1.0\r\n"
   ],
   "outputs": [],
   "metadata": {}
  },
  {
   "cell_type": "code",
   "execution_count": 22,
   "source": [
    "import numpy as np\r\n",
    "n,m = map(int, input().split())\r\n",
    "v1 = []\r\n",
    "for i in range(n):\r\n",
    "    v1.append(list(map(int, input().split())))\r\n",
    "\r\n",
    "v1 = np.array(v1)\r\n",
    "data = np.delete(v1,len(v1[0])-1, axis=1)\r\n",
    "answers = np.array(v1[:,-1])\r\n",
    "\r\n",
    "solution = np.linalg.lstsq(data, answers)[0]\r\n",
    "np.set_printoptions(formatter={'float': '{: 0.1f}'.format})\r\n",
    "\r\n",
    "for x in solution:\r\n",
    "    print(np.round(x,1))\r\n",
    "\r\n"
   ],
   "outputs": [
    {
     "output_type": "stream",
     "name": "stdout",
     "text": [
      "1.0\n"
     ]
    },
    {
     "output_type": "stream",
     "name": "stderr",
     "text": [
      "C:\\Users\\laimo\\AppData\\Local\\Temp/ipykernel_26228/4070178240.py:11: FutureWarning: `rcond` parameter will change to the default of machine precision times ``max(M, N)`` where M and N are the input matrix dimensions.\n",
      "To use the future default and silence this warning we advise to pass `rcond=None`, to keep using the old, explicitly pass `rcond=-1`.\n",
      "  solution = np.linalg.lstsq(data, answers)[0]\n"
     ]
    }
   ],
   "metadata": {}
  },
  {
   "cell_type": "markdown",
   "source": [
    "2.\r\n",
    "\r\n",
    "Parašykite programą, kuri išsprendžia matricinę lygtį A*x = B\r\n",
    "\r\n",
    "n - matricos dimensija\r\n",
    "Kvadratinės matricos A ir B\r\n",
    "\r\n",
    "3\r\n",
    "1 0 3\r\n",
    "1 -4 1\r\n",
    "-2 3 -5\r\n",
    "10 -7 -10\r\n",
    "-14 -3 18\r\n",
    "-4 12 1\r\n",
    "\r\n",
    "\r\n",
    "[[-2. -1. 2.]\r\n",
    "[ 4. -0. -5.]\r\n",
    "[ 4. -2. -4.]]\r\n"
   ],
   "metadata": {}
  },
  {
   "cell_type": "code",
   "execution_count": 46,
   "source": [
    "import numpy as np\r\n",
    "n = int(input())\r\n",
    "v1 = []\r\n",
    "for i in range(n):\r\n",
    "    v1.append(list(map(int, input().split())))\r\n",
    "v1 = np.array(v1)\r\n",
    "\r\n",
    "v2 = []\r\n",
    "for i in range(n):\r\n",
    "    v2.append(list(map(int, input().split())))\r\n",
    "v2 = np.array(v2)\r\n",
    "\r\n",
    "\r\n",
    "X = np.linalg.solve(v1, v2)\r\n",
    "print(X)\r\n"
   ],
   "outputs": [
    {
     "output_type": "stream",
     "name": "stdout",
     "text": [
      "[[-2.0 -1.0  2.0]\n",
      " [ 4.0 -0.0 -5.0]\n",
      " [ 4.0 -2.0 -4.0]]\n"
     ]
    }
   ],
   "metadata": {}
  },
  {
   "cell_type": "markdown",
   "source": [
    "3.\r\n",
    "\r\n",
    "Parašykite programą, kuri išsprendžia matricinę lygtį x*A = B.\r\n",
    "\r\n",
    "n - matricos dimensija\r\n",
    "Kvadratinės matricos A ir B\r\n",
    "\r\n",
    "3\r\n",
    "5 2 -4\r\n",
    "-5 -5 -5\r\n",
    "0 -1 -2\r\n",
    "0 3 6\r\n",
    "25 5 -30\r\n",
    "-5 -3 -1\r\n",
    "\r\n",
    "[[ 0. 0. -3.]\r\n",
    "[ 5. -0. 5.]\r\n",
    "[-0. 1. -2.]]\r\n"
   ],
   "metadata": {}
  },
  {
   "cell_type": "code",
   "execution_count": 48,
   "source": [
    "#https://stackoverflow.com/questions/52826206/solve-linear-equation-in-python-xa-b\r\n",
    "import numpy as np\r\n",
    "n = int(input())\r\n",
    "v1 = []\r\n",
    "for i in range(n):\r\n",
    "    v1.append(list(map(int, input().split())))\r\n",
    "v1 = np.array(v1)\r\n",
    "\r\n",
    "v2 = []\r\n",
    "for i in range(n):\r\n",
    "    v2.append(list(map(int, input().split())))\r\n",
    "v2 = np.array(v2)\r\n",
    "\r\n",
    "\r\n",
    "X = np.round(np.matmul(v2, np.linalg.inv(v1)), decimals=1)\r\n",
    "print(X)\r\n"
   ],
   "outputs": [
    {
     "output_type": "stream",
     "name": "stdout",
     "text": [
      "[[ 70.0  37.0 -26.0]\n",
      " [-100.0 -25.0  125.0]\n",
      " [-15.0  1.0  32.0]]\n"
     ]
    }
   ],
   "metadata": {}
  },
  {
   "cell_type": "markdown",
   "source": [
    "4.\r\n",
    "\r\n",
    "Iš failo duom.txt nuskaitykite ir išveskite masyvą. Pakeiskite masyvo reikšmes inf reikšmėmis 100, o reikšmes nan reikšmėmis -10. Rezultatą įrašykite į failą rez.txt.\r\n",
    "\r\n",
    "\r\n",
    "1 nan 3\r\n",
    "4 5 6\r\n",
    "7 8 inf\r\n",
    "\r\n",
    "\r\n",
    "1 -10 3\r\n",
    "4 5 6\r\n",
    "7 8 100"
   ],
   "metadata": {}
  },
  {
   "cell_type": "code",
   "execution_count": 19,
   "source": [
    "import numpy as np\r\n",
    "a1 = np.loadtxt('duom.txt',dtype=np.float)\r\n",
    "a1[np.isinf(a1)] = 100\r\n",
    "a1[np.isnan(a1)] = -10\r\n",
    "a1 = np.array(a1, dtype=np.int8)\r\n",
    "\r\n",
    "f = open('rez.txt', 'w')\r\n",
    "for line in a1:\r\n",
    "    printString = ''\r\n",
    "    for x in line:\r\n",
    "        printString += str(x) + ' '\r\n",
    "    f.write(printString[:-1] + \"\\n\")\r\n",
    "f.close()\r\n"
   ],
   "outputs": [
    {
     "output_type": "stream",
     "name": "stderr",
     "text": [
      "C:\\Users\\laimo\\AppData\\Local\\Temp/ipykernel_26228/387539627.py:2: DeprecationWarning: `np.float` is a deprecated alias for the builtin `float`. To silence this warning, use `float` by itself. Doing this will not modify any behavior and is safe. If you specifically wanted the numpy scalar type, use `np.float64` here.\n",
      "Deprecated in NumPy 1.20; for more details and guidance: https://numpy.org/devdocs/release/1.20.0-notes.html#deprecations\n",
      "  a1 = np.loadtxt('duom.txt',dtype=np.float)\n"
     ]
    }
   ],
   "metadata": {}
  },
  {
   "cell_type": "markdown",
   "source": [
    "5.\r\n",
    "\r\n",
    "Duota matrica a(n x n) ir vienmatis masyvas b(1 x n). Parašykite programą, kuri pakelia kiekvienos eilutės elementą atitinkamu laipsniu (iš masyvo b).\r\n",
    "\r\n",
    "\r\n",
    "4\r\n",
    "1 2 3 4\r\n",
    "5 6 7 8\r\n",
    "9 10 11 12\r\n",
    "13 14 15 16\r\n",
    "2 2 3 3\r\n",
    "\r\n",
    "[[ 1. 4. 27. 64.]\r\n",
    "[ 25. 36. 343. 512.]\r\n",
    "[ 81. 100. 1331. 1728.]\r\n",
    "[ 169. 196. 3375. 4096.]]\r\n"
   ],
   "metadata": {}
  },
  {
   "cell_type": "code",
   "execution_count": 7,
   "source": [
    "import numpy as np\r\n",
    "n = int(input())\r\n",
    "a = []\r\n",
    "for i in range(n):\r\n",
    "    a.append(list(map(int, input().split())))\r\n",
    "a = np.array(a)\r\n",
    "\r\n",
    "np.set_printoptions(suppress = True)\r\n",
    "b = list(map(int, input().split()))\r\n",
    "print(np.array(np.power(a,b), dtype=np.float64))\r\n"
   ],
   "outputs": [
    {
     "output_type": "stream",
     "name": "stdout",
     "text": [
      "[[  1.   4.  27. 256.]\n",
      " [  1.   4.  27. 256.]\n",
      " [  1.   4.  27. 256.]\n",
      " [  1.   4.  27. 256.]]\n"
     ]
    }
   ],
   "metadata": {}
  },
  {
   "cell_type": "markdown",
   "source": [
    "6.\r\n",
    "\r\n",
    "Sukurkite universalią dviejų parametrų funkciją. Pirmas parametras (a) – dvimatis masyvas, antras (b) – vienmatis arba dvimatis masyvas. Funkcija turi grąžinti dvimatį masyvą. Jeigu pirmo ir antro masyvų elemento reikšmės lygios, grąžina -1. Jeigu pirmo masyvo elemento reikšmė didesnė – grąžinama reikšmių dalybos liekana (aJeigu pirmo masyvo elemento reikšmė mažesnė – grąžinama reikšmių sandauga (a*b).\r\n",
    "\r\n",
    "n - a masyvo eilučių skaičius masyvas a m - b masyvo eilučių skaičius masyvas b\r\n",
    "\r\n",
    "a ir b masyvo stulpelių skaičius visada lygus n\r\n",
    "\r\n",
    "\r\n",
    "6.\r\n",
    "\r\n",
    "Sukurkite universalią dviejų parametrų funkciją. Pirmas parametras (a) – dvimatis masyvas, antras (b) – vienmatis arba dvimatis masyvas. Funkcija turi grąžinti dvimatį masyvą. Jeigu pirmo ir antro masyvų elemento reikšmės lygios, grąžina -1. Jeigu pirmo masyvo elemento reikšmė didesnė – grąžinama reikšmių dalybos liekana (aJeigu pirmo masyvo elemento reikšmė mažesnė – grąžinama reikšmių sandauga (a*b).\r\n",
    "\r\n",
    "n - a masyvo eilučių skaičius masyvas a m - b masyvo eilučių skaičius masyvas b\r\n",
    "\r\n",
    "a ir b masyvo stulpelių skaičius visada lygus n\r\n",
    "\r\n",
    "\r\n",
    "3\r\n",
    "1 2 3\r\n",
    "4 5 6\r\n",
    "7 8 9\r\n",
    "1\r\n",
    "1 2 10\r\n",
    "\r\n",
    "[[-1. -1. 30.]\r\n",
    "[ 0. 1. 60.]\r\n",
    "[ 0. 0. 90.]]\r\n",
    "\r\n"
   ],
   "metadata": {}
  },
  {
   "cell_type": "code",
   "execution_count": 13,
   "source": [
    "import numpy as np\r\n",
    "np.set_printoptions(suppress=True)\r\n",
    "\r\n",
    "def operation(a, b):\r\n",
    "    if a == b:\r\n",
    "        return -1\r\n",
    "    elif a > b:\r\n",
    "        return a%b\r\n",
    "    elif a < b:\r\n",
    "        return a*b\r\n",
    "\r\n",
    "n1 = int(input())\r\n",
    "v1 = []\r\n",
    "for i in range(n1):\r\n",
    "    v1.append(list(map(float, input().split())))\r\n",
    "v1 = np.array(v1, dtype=float)\r\n",
    "\r\n",
    "n2 = int(input())\r\n",
    "v2 = []\r\n",
    "for i in range(n2):\r\n",
    "    v2.append(list(map(float, input().split())))\r\n",
    "v2 = np.array(v2, dtype=float)\r\n",
    "\r\n",
    "op = np.vectorize(operation)\r\n",
    "print(np.array(op(v1, v2), dtype=float))"
   ],
   "outputs": [
    {
     "output_type": "stream",
     "name": "stdout",
     "text": [
      "[[-1. -1. 30.]\n",
      " [ 0.  1. 60.]\n",
      " [ 1.  0. 90.]]\n"
     ]
    }
   ],
   "metadata": {}
  },
  {
   "cell_type": "markdown",
   "source": [
    "7.\r\n",
    "\r\n",
    "Duotas dvimatis masyvas a. Ciklo for pagalba modifikuokite masyvą, apskaičiuodami kiekvieno elemento kubą.\r\n",
    "\r\n",
    "\r\n",
    "3 4\r\n",
    "10 11 12 13\r\n",
    "14 15 16 17\r\n",
    "18 19 20 21\r\n",
    "\r\n",
    "[[1000. 1331. 1728. 2197.]\r\n",
    "[2744. 3375. 4096. 4913.]\r\n",
    "[5832. 6859. 8000. 9261.]]\r\n",
    "\r\n"
   ],
   "metadata": {}
  },
  {
   "cell_type": "code",
   "execution_count": 16,
   "source": [
    "import numpy as np\r\n",
    "np.set_printoptions(suppress=True)\r\n",
    "\r\n",
    "n,m = map(int, input().split())\r\n",
    "v1 = []\r\n",
    "for i in range(n):\r\n",
    "    v1.append(list(map(float, input().split())))\r\n",
    "v1 = np.array(v1, dtype=float)\r\n",
    "\r\n",
    "for i in np.nditer(v1,op_flags=['readwrite']): \r\n",
    "    i[...] = i ** 3\r\n",
    "print(v1)\r\n"
   ],
   "outputs": [
    {
     "output_type": "stream",
     "name": "stdout",
     "text": [
      "[[1000. 1331. 1728. 2197.]\n",
      " [2744. 3375. 4096. 4913.]\n",
      " [5832. 6859. 8000. 9261.]]\n"
     ]
    }
   ],
   "metadata": {}
  },
  {
   "cell_type": "markdown",
   "source": [
    "8.\r\n",
    "\r\n",
    "Duotas masyvas a(4x4) ir masyvas b = (1x4). Funkcijos where() pagalba atrinkite masyvo a reikšmes (a[i][j] < 5) ir pakelkite jas atitinkamu laipsniu (iš masyvo b). Kitas reikšmes padauginkite iš 5.\r\n",
    "\r\n",
    "\r\n",
    "0 6 2 4\r\n",
    "9 1 4 3\r\n",
    "1 3 4 8\r\n",
    "3 1 8 8\r\n",
    "2 3 4 5\r\n",
    "\r\n",
    "\r\n",
    "[[ 0. 30. 16. 1024.]\r\n",
    "[ 45. 1. 256. 243.]\r\n",
    "[ 1. 27. 256. 40.]\r\n",
    "[ 9. 1. 40. 40.]]"
   ],
   "metadata": {}
  },
  {
   "cell_type": "code",
   "execution_count": 21,
   "source": [
    "import numpy as np\r\n",
    "np.set_printoptions(suppress=True)\r\n",
    "\r\n",
    "a = []\r\n",
    "for i in range(4):\r\n",
    "    a.append(list(map(float, input().split())))\r\n",
    "a = np.array(a, dtype=float)\r\n",
    "\r\n",
    "b = np.array(list(map(int, input().split())))\r\n",
    "\r\n",
    "c = np.where(a<5, np.power(a, b), a*5)\r\n",
    "print(c)\r\n"
   ],
   "outputs": [
    {
     "output_type": "stream",
     "name": "stdout",
     "text": [
      "[[   0.   30.   16. 1024.]\n",
      " [  45.    1.  256.  243.]\n",
      " [   1.   27.  256.   40.]\n",
      " [   1.   27.  256.   40.]]\n"
     ]
    }
   ],
   "metadata": {}
  },
  {
   "cell_type": "markdown",
   "source": [
    "9. \r\n",
    "\r\n",
    "Duotas masyvas a(4x4). Išspausdinkite:\r\n",
    "\r\n",
    "eilučių didžiausias reikšmes ir didžiausių reikšmių indeksus;\r\n",
    "stulpelių mažiausias reikšmes ir mažiausių reikšmių indeksus;\r\n",
    "visų elementų sumą;\r\n",
    "visų elementų vidurkį.\r\n",
    "\r\n",
    "\r\n",
    "31 45 48 13\r\n",
    "44 17 24 14\r\n",
    "40 27 25 49\r\n",
    "32 33 68 71\r\n",
    "\r\n",
    "\r\n",
    "\r\n",
    "48.0 44.0 49.0 71.0\r\n",
    "2 0 3 3\r\n",
    "31.0 17.0 24.0 13.0\r\n",
    "0 1 1 0\r\n",
    "581.0\r\n",
    "36.3125"
   ],
   "metadata": {}
  },
  {
   "cell_type": "code",
   "execution_count": 26,
   "source": [
    "import numpy as np\r\n",
    "np.set_printoptions(suppress=True)\r\n",
    "\r\n",
    "a = []\r\n",
    "for i in range(4):\r\n",
    "    a.append(list(map(float, input().split())))\r\n",
    "a = np.array(a, dtype=float)\r\n",
    "\r\n",
    "maxnum = []\r\n",
    "maxindex = []\r\n",
    "minnum = []\r\n",
    "minindex = []\r\n",
    "\r\n",
    "for i in range(4):\r\n",
    "    maxnum.append(np.max(a[i]))\r\n",
    "    maxindex.append(np.argmax(a[i]))\r\n",
    "    minnum.append(np.min(a[:,i]))\r\n",
    "    minindex.append(np.argmin(a[:,i]))\r\n",
    "\r\n",
    "print(*maxnum)\r\n",
    "print(*maxindex)\r\n",
    "print(*minnum)\r\n",
    "print(*minindex)\r\n",
    "print(np.sum(a))\r\n",
    "print(np.mean(a))"
   ],
   "outputs": [
    {
     "output_type": "stream",
     "name": "stdout",
     "text": [
      "48.0 44.0 49.0 71.0\n",
      "2 0 3 3\n",
      "31.0 17.0 24.0 13.0\n",
      "0 1 1 0\n"
     ]
    }
   ],
   "metadata": {}
  },
  {
   "cell_type": "markdown",
   "source": [
    "10.\r\n",
    "\r\n",
    "Duota kvadratinė matrica(4x4). Išspausdinkite:\r\n",
    "\r\n",
    "stulpelių kaupiamąją elementų sandaugą\r\n",
    "visų elementų kaupiamąją sandaugą\r\n",
    "stulpelių kaimyninių elementų skirtumus.\r\n",
    "\r\n",
    "1 2 3 4\r\n",
    "5 6 7 8\r\n",
    "9 10 11 12\r\n",
    "13 14 15 16\r\n",
    "\r\n",
    "\r\n",
    "[[ 1. 2. 3. 4.]\r\n",
    "[ 6. 8. 10. 12.]\r\n",
    "[15. 18. 21. 24.]\r\n",
    "[28. 32. 36. 40.]]\r\n",
    "\r\n",
    "[ 1. 3. 6. 10. 15. 21. 28. 36. 45. 55. 66. 78. 91. 105. 120. 136.]\r\n",
    "\r\n",
    "[[4. 4. 4. 4.]\r\n",
    "[4. 4. 4. 4.]\r\n",
    "[4. 4. 4. 4.]]\r\n",
    "\r\n",
    "\r\n"
   ],
   "metadata": {}
  },
  {
   "cell_type": "code",
   "execution_count": 33,
   "source": [
    "import numpy as np\r\n",
    "np.set_printoptions(suppress=True)\r\n",
    "\r\n",
    "a = []\r\n",
    "for i in range(4):\r\n",
    "    a.append(list(map(int, input().split())))\r\n",
    "a = np.array(a, dtype=float)\r\n",
    "\r\n",
    "print(np.cumsum(a, axis=0))\r\n",
    "print()\r\n",
    "print(np.cumsum(a))\r\n",
    "print()\r\n",
    "print(np.diff(a, axis = 0))\r\n"
   ],
   "outputs": [
    {
     "output_type": "stream",
     "name": "stdout",
     "text": [
      "[[ 1.  2.  3.  4.]\n",
      " [ 6.  8. 10. 12.]\n",
      " [15. 18. 21. 24.]\n",
      " [28. 32. 36. 40.]]\n",
      "\n",
      "[  1.   3.   6.  10.  15.  21.  28.  36.  45.  55.  66.  78.  91. 105.\n",
      " 120. 136.]\n",
      "\n",
      "[[1. 1. 1.]\n",
      " [1. 1. 1.]\n",
      " [1. 1. 1.]\n",
      " [1. 1. 1.]]\n"
     ]
    }
   ],
   "metadata": {}
  },
  {
   "cell_type": "markdown",
   "source": [
    "11.\r\n",
    "\r\n",
    "Duoti du masyvai a ir b. Išspausdinkite:\r\n",
    "\r\n",
    "unikalias reikšmes, esančias abiejuose masyvuose;\r\n",
    "unikalias antro masyvo reikšmes, kurių nėra pirmame masyve;\r\n",
    "unikalias reikšmes, kurios yra tik viename (ne abiejuose) masyvuose.\r\n",
    "\r\n",
    "1 2 3 4 5 6 7 8 9 10 11\r\n",
    "2 4 6 8 10 12\r\n",
    "\r\n",
    "[2, 4, 6, 8, 10]\r\n",
    "[12]\r\n",
    "[1, 3, 5, 7, 9, 11, 12]\r\n"
   ],
   "metadata": {}
  },
  {
   "cell_type": "code",
   "execution_count": 43,
   "source": [
    "import numpy as np\r\n",
    "np.set_printoptions(suppress=True)\r\n",
    "\r\n",
    "a = np.array(list(map(int, input().split())))\r\n",
    "b = np.array(list(map(int, input().split())))\r\n",
    "print(list(np.intersect1d(a,b)))\r\n",
    "print(list(np.setdiff1d(b,a)))\r\n",
    "print(list(np.setxor1d(a,b)))\r\n"
   ],
   "outputs": [
    {
     "output_type": "stream",
     "name": "stdout",
     "text": [
      "[2, 4, 6, 8, 10]\n",
      "[12]\n",
      "[1, 3, 5, 7, 9, 11, 12]\n"
     ]
    }
   ],
   "metadata": {}
  },
  {
   "cell_type": "markdown",
   "source": [
    "12.\r\n",
    "\r\n",
    "Duotas (nXn) masyvas. Nustatykite, ar masyve yra bent vienas nulinis elementas. Išveskite atitinkamą pranešimą.\r\n",
    "\r\n",
    "4\r\n",
    "4 5 8 7\r\n",
    "-7 -7 -4 1\r\n",
    "6 -5 -10 -5\r\n",
    "4 1 9 1\r\n",
    "\r\n",
    "nera 0\r\n",
    "\r\n",
    "\r\n",
    "4\r\n",
    "4 5 8 7\r\n",
    "-7 0 -4 1\r\n",
    "6 -5 -10 -5\r\n",
    "4 1 9 1\r\n",
    "\r\n",
    "yra 0"
   ],
   "metadata": {}
  },
  {
   "cell_type": "code",
   "execution_count": 49,
   "source": [
    "import numpy as np\r\n",
    "np.set_printoptions(suppress=True)\r\n",
    "\r\n",
    "n1 = int(input())\r\n",
    "v1 = []\r\n",
    "for i in range(n1):\r\n",
    "    v1.append(list(map(float, input().split())))\r\n",
    "v1 = np.array(v1, dtype=float)\r\n",
    "\r\n",
    "\r\n",
    "a = np.where(v1 == 0)\r\n",
    "if len(a[0]):\r\n",
    "    print(\"yra 0\")\r\n",
    "else:\r\n",
    "    print(\"nera 0\")\r\n"
   ],
   "outputs": [
    {
     "output_type": "stream",
     "name": "stdout",
     "text": [
      "yra 0\n"
     ]
    }
   ],
   "metadata": {}
  }
 ],
 "metadata": {
  "orig_nbformat": 4,
  "language_info": {
   "name": "python",
   "version": "3.9.7",
   "mimetype": "text/x-python",
   "codemirror_mode": {
    "name": "ipython",
    "version": 3
   },
   "pygments_lexer": "ipython3",
   "nbconvert_exporter": "python",
   "file_extension": ".py"
  },
  "kernelspec": {
   "name": "python3",
   "display_name": "Python 3.9.7 64-bit (conda)"
  },
  "interpreter": {
   "hash": "60152bf436f77cdda9a7f062a7ed0b7ab43932e7b5cb7a870a9504b065f6a782"
  }
 },
 "nbformat": 4,
 "nbformat_minor": 2
}