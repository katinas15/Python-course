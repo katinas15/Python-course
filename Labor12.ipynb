{
 "cells": [
  {
   "cell_type": "code",
   "execution_count": null,
   "source": [
    "1.\r\n",
    "\r\n",
    "Parašykite programą, kuri išsprendžia lygčių sistemą ir suapvalintą atsakymą išveda stulpeliu.\r\n",
    "\r\n",
    "Pirmoje eilutėje pateikti du skaičiai n ir m:\r\n",
    "n - lygčių skaičius,\r\n",
    "m - nežinomųjų skaičius.\r\n",
    "Toliau n eilučių, kiekvienoje eilutėje m+1 skaičius. Pirmi m skaičių - tai lygties nežinomųjų koeficientai, paskutinis skaičius - lygties rezultatas.\r\n",
    "\r\n",
    "\r\n",
    "4 4\r\n",
    "1 2 -1 1 -3\r\n",
    "3 3 -5 2 -7\r\n",
    "-3 1 4 -5 5\r\n",
    "1 3 -2 1 -5\r\n",
    "\r\n",
    "\r\n",
    "1.0\r\n",
    "-1.0\r\n",
    "1.0\r\n",
    "-1.0\r\n"
   ],
   "outputs": [],
   "metadata": {}
  },
  {
   "cell_type": "code",
   "execution_count": 8,
   "source": [
    "import numpy as np\r\n",
    "n,m = map(int, input().split())\r\n",
    "v1 = []\r\n",
    "for i in range(n):\r\n",
    "    v1.append(list(map(int, input().split())))\r\n",
    "\r\n",
    "v1 = np.array(v1)\r\n",
    "data = np.delete(v1,len(v1[0])-1, axis=1)\r\n",
    "answers = np.array(v1[:,-1])\r\n",
    "\r\n",
    "solution = np.linalg.solve(data,answers)\r\n",
    "np.set_printoptions(formatter={'float': '{: 0.1f}'.format})\r\n",
    "\r\n",
    "for x in solution:\r\n",
    "    print(np.round(x,1))\r\n",
    "\r\n"
   ],
   "outputs": [
    {
     "output_type": "error",
     "ename": "LinAlgError",
     "evalue": "Last 2 dimensions of the array must be square",
     "traceback": [
      "\u001b[1;31m---------------------------------------------------------------------------\u001b[0m",
      "\u001b[1;31mLinAlgError\u001b[0m                               Traceback (most recent call last)",
      "\u001b[1;32m~\\AppData\\Local\\Temp/ipykernel_26228/619435626.py\u001b[0m in \u001b[0;36m<module>\u001b[1;34m\u001b[0m\n\u001b[0;32m      9\u001b[0m \u001b[0manswers\u001b[0m \u001b[1;33m=\u001b[0m \u001b[0mnp\u001b[0m\u001b[1;33m.\u001b[0m\u001b[0marray\u001b[0m\u001b[1;33m(\u001b[0m\u001b[0mv1\u001b[0m\u001b[1;33m[\u001b[0m\u001b[1;33m:\u001b[0m\u001b[1;33m,\u001b[0m\u001b[1;33m-\u001b[0m\u001b[1;36m1\u001b[0m\u001b[1;33m]\u001b[0m\u001b[1;33m)\u001b[0m\u001b[1;33m\u001b[0m\u001b[1;33m\u001b[0m\u001b[0m\n\u001b[0;32m     10\u001b[0m \u001b[1;33m\u001b[0m\u001b[0m\n\u001b[1;32m---> 11\u001b[1;33m \u001b[0msolution\u001b[0m \u001b[1;33m=\u001b[0m \u001b[0mnp\u001b[0m\u001b[1;33m.\u001b[0m\u001b[0mlinalg\u001b[0m\u001b[1;33m.\u001b[0m\u001b[0msolve\u001b[0m\u001b[1;33m(\u001b[0m\u001b[0mdata\u001b[0m\u001b[1;33m,\u001b[0m\u001b[0manswers\u001b[0m\u001b[1;33m)\u001b[0m\u001b[1;33m\u001b[0m\u001b[1;33m\u001b[0m\u001b[0m\n\u001b[0m\u001b[0;32m     12\u001b[0m \u001b[0mnp\u001b[0m\u001b[1;33m.\u001b[0m\u001b[0mset_printoptions\u001b[0m\u001b[1;33m(\u001b[0m\u001b[0mformatter\u001b[0m\u001b[1;33m=\u001b[0m\u001b[1;33m{\u001b[0m\u001b[1;34m'float'\u001b[0m\u001b[1;33m:\u001b[0m \u001b[1;34m'{: 0.1f}'\u001b[0m\u001b[1;33m.\u001b[0m\u001b[0mformat\u001b[0m\u001b[1;33m}\u001b[0m\u001b[1;33m)\u001b[0m\u001b[1;33m\u001b[0m\u001b[1;33m\u001b[0m\u001b[0m\n\u001b[0;32m     13\u001b[0m \u001b[1;33m\u001b[0m\u001b[0m\n",
      "\u001b[1;32m<__array_function__ internals>\u001b[0m in \u001b[0;36msolve\u001b[1;34m(*args, **kwargs)\u001b[0m\n",
      "\u001b[1;32m~\\anaconda3\\lib\\site-packages\\numpy\\linalg\\linalg.py\u001b[0m in \u001b[0;36msolve\u001b[1;34m(a, b)\u001b[0m\n\u001b[0;32m    378\u001b[0m     \u001b[0ma\u001b[0m\u001b[1;33m,\u001b[0m \u001b[0m_\u001b[0m \u001b[1;33m=\u001b[0m \u001b[0m_makearray\u001b[0m\u001b[1;33m(\u001b[0m\u001b[0ma\u001b[0m\u001b[1;33m)\u001b[0m\u001b[1;33m\u001b[0m\u001b[1;33m\u001b[0m\u001b[0m\n\u001b[0;32m    379\u001b[0m     \u001b[0m_assert_stacked_2d\u001b[0m\u001b[1;33m(\u001b[0m\u001b[0ma\u001b[0m\u001b[1;33m)\u001b[0m\u001b[1;33m\u001b[0m\u001b[1;33m\u001b[0m\u001b[0m\n\u001b[1;32m--> 380\u001b[1;33m     \u001b[0m_assert_stacked_square\u001b[0m\u001b[1;33m(\u001b[0m\u001b[0ma\u001b[0m\u001b[1;33m)\u001b[0m\u001b[1;33m\u001b[0m\u001b[1;33m\u001b[0m\u001b[0m\n\u001b[0m\u001b[0;32m    381\u001b[0m     \u001b[0mb\u001b[0m\u001b[1;33m,\u001b[0m \u001b[0mwrap\u001b[0m \u001b[1;33m=\u001b[0m \u001b[0m_makearray\u001b[0m\u001b[1;33m(\u001b[0m\u001b[0mb\u001b[0m\u001b[1;33m)\u001b[0m\u001b[1;33m\u001b[0m\u001b[1;33m\u001b[0m\u001b[0m\n\u001b[0;32m    382\u001b[0m     \u001b[0mt\u001b[0m\u001b[1;33m,\u001b[0m \u001b[0mresult_t\u001b[0m \u001b[1;33m=\u001b[0m \u001b[0m_commonType\u001b[0m\u001b[1;33m(\u001b[0m\u001b[0ma\u001b[0m\u001b[1;33m,\u001b[0m \u001b[0mb\u001b[0m\u001b[1;33m)\u001b[0m\u001b[1;33m\u001b[0m\u001b[1;33m\u001b[0m\u001b[0m\n",
      "\u001b[1;32m~\\anaconda3\\lib\\site-packages\\numpy\\linalg\\linalg.py\u001b[0m in \u001b[0;36m_assert_stacked_square\u001b[1;34m(*arrays)\u001b[0m\n\u001b[0;32m    201\u001b[0m         \u001b[0mm\u001b[0m\u001b[1;33m,\u001b[0m \u001b[0mn\u001b[0m \u001b[1;33m=\u001b[0m \u001b[0ma\u001b[0m\u001b[1;33m.\u001b[0m\u001b[0mshape\u001b[0m\u001b[1;33m[\u001b[0m\u001b[1;33m-\u001b[0m\u001b[1;36m2\u001b[0m\u001b[1;33m:\u001b[0m\u001b[1;33m]\u001b[0m\u001b[1;33m\u001b[0m\u001b[1;33m\u001b[0m\u001b[0m\n\u001b[0;32m    202\u001b[0m         \u001b[1;32mif\u001b[0m \u001b[0mm\u001b[0m \u001b[1;33m!=\u001b[0m \u001b[0mn\u001b[0m\u001b[1;33m:\u001b[0m\u001b[1;33m\u001b[0m\u001b[1;33m\u001b[0m\u001b[0m\n\u001b[1;32m--> 203\u001b[1;33m             \u001b[1;32mraise\u001b[0m \u001b[0mLinAlgError\u001b[0m\u001b[1;33m(\u001b[0m\u001b[1;34m'Last 2 dimensions of the array must be square'\u001b[0m\u001b[1;33m)\u001b[0m\u001b[1;33m\u001b[0m\u001b[1;33m\u001b[0m\u001b[0m\n\u001b[0m\u001b[0;32m    204\u001b[0m \u001b[1;33m\u001b[0m\u001b[0m\n\u001b[0;32m    205\u001b[0m \u001b[1;32mdef\u001b[0m \u001b[0m_assert_finite\u001b[0m\u001b[1;33m(\u001b[0m\u001b[1;33m*\u001b[0m\u001b[0marrays\u001b[0m\u001b[1;33m)\u001b[0m\u001b[1;33m:\u001b[0m\u001b[1;33m\u001b[0m\u001b[1;33m\u001b[0m\u001b[0m\n",
      "\u001b[1;31mLinAlgError\u001b[0m: Last 2 dimensions of the array must be square"
     ]
    }
   ],
   "metadata": {}
  },
  {
   "cell_type": "markdown",
   "source": [
    "2.\r\n",
    "\r\n",
    "Parašykite programą, kuri išsprendžia matricinę lygtį A*x = B\r\n",
    "\r\n",
    "n - matricos dimensija\r\n",
    "Kvadratinės matricos A ir B\r\n",
    "\r\n",
    "3\r\n",
    "1 0 3\r\n",
    "1 -4 1\r\n",
    "-2 3 -5\r\n",
    "10 -7 -10\r\n",
    "-14 -3 18\r\n",
    "-4 12 1\r\n",
    "\r\n",
    "\r\n",
    "[[-2. -1. 2.]\r\n",
    "[ 4. -0. -5.]\r\n",
    "[ 4. -2. -4.]]\r\n"
   ],
   "metadata": {}
  },
  {
   "cell_type": "code",
   "execution_count": 46,
   "source": [
    "import numpy as np\r\n",
    "n = int(input())\r\n",
    "v1 = []\r\n",
    "for i in range(n):\r\n",
    "    v1.append(list(map(int, input().split())))\r\n",
    "v1 = np.array(v1)\r\n",
    "\r\n",
    "v2 = []\r\n",
    "for i in range(n):\r\n",
    "    v2.append(list(map(int, input().split())))\r\n",
    "v2 = np.array(v2)\r\n",
    "\r\n",
    "\r\n",
    "X = np.linalg.solve(v1, v2)\r\n",
    "print(X)\r\n"
   ],
   "outputs": [
    {
     "output_type": "stream",
     "name": "stdout",
     "text": [
      "[[-2.0 -1.0  2.0]\n",
      " [ 4.0 -0.0 -5.0]\n",
      " [ 4.0 -2.0 -4.0]]\n"
     ]
    }
   ],
   "metadata": {}
  },
  {
   "cell_type": "markdown",
   "source": [
    "3.\r\n",
    "\r\n",
    "Parašykite programą, kuri išsprendžia matricinę lygtį x*A = B.\r\n",
    "\r\n",
    "n - matricos dimensija\r\n",
    "Kvadratinės matricos A ir B\r\n",
    "\r\n",
    "3\r\n",
    "5 2 -4\r\n",
    "-5 -5 -5\r\n",
    "0 -1 -2\r\n",
    "0 3 6\r\n",
    "25 5 -30\r\n",
    "-5 -3 -1\r\n",
    "\r\n",
    "[[ 0. 0. -3.]\r\n",
    "[ 5. -0. 5.]\r\n",
    "[-0. 1. -2.]]\r\n"
   ],
   "metadata": {}
  },
  {
   "cell_type": "code",
   "execution_count": 48,
   "source": [
    "#https://stackoverflow.com/questions/52826206/solve-linear-equation-in-python-xa-b\r\n",
    "import numpy as np\r\n",
    "n = int(input())\r\n",
    "v1 = []\r\n",
    "for i in range(n):\r\n",
    "    v1.append(list(map(int, input().split())))\r\n",
    "v1 = np.array(v1)\r\n",
    "\r\n",
    "v2 = []\r\n",
    "for i in range(n):\r\n",
    "    v2.append(list(map(int, input().split())))\r\n",
    "v2 = np.array(v2)\r\n",
    "\r\n",
    "\r\n",
    "X = np.round(np.matmul(v2, np.linalg.inv(v1)), decimals=1)\r\n",
    "print(X)\r\n"
   ],
   "outputs": [
    {
     "output_type": "stream",
     "name": "stdout",
     "text": [
      "[[ 70.0  37.0 -26.0]\n",
      " [-100.0 -25.0  125.0]\n",
      " [-15.0  1.0  32.0]]\n"
     ]
    }
   ],
   "metadata": {}
  },
  {
   "cell_type": "markdown",
   "source": [
    "4.\r\n",
    "\r\n",
    "Iš failo duom.txt nuskaitykite ir išveskite masyvą. Pakeiskite masyvo reikšmes inf reikšmėmis 100, o reikšmes nan reikšmėmis -10. Rezultatą įrašykite į failą rez.txt.\r\n",
    "\r\n",
    "\r\n",
    "1 nan 3\r\n",
    "4 5 6\r\n",
    "7 8 inf\r\n",
    "\r\n",
    "\r\n",
    "1 -10 3\r\n",
    "4 5 6\r\n",
    "7 8 100"
   ],
   "metadata": {}
  },
  {
   "cell_type": "code",
   "execution_count": 19,
   "source": [
    "import numpy as np\r\n",
    "a1 = np.loadtxt('duom.txt',dtype=np.float)\r\n",
    "a1[np.isinf(a1)] = 100\r\n",
    "a1[np.isnan(a1)] = -10\r\n",
    "a1 = np.array(a1, dtype=np.int8)\r\n",
    "\r\n",
    "f = open('rez.txt', 'w')\r\n",
    "for line in a1:\r\n",
    "    printString = ''\r\n",
    "    for x in line:\r\n",
    "        printString += str(x) + ' '\r\n",
    "    f.write(printString[:-1] + \"\\n\")\r\n",
    "f.close()\r\n"
   ],
   "outputs": [
    {
     "output_type": "stream",
     "name": "stderr",
     "text": [
      "C:\\Users\\laimo\\AppData\\Local\\Temp/ipykernel_26228/387539627.py:2: DeprecationWarning: `np.float` is a deprecated alias for the builtin `float`. To silence this warning, use `float` by itself. Doing this will not modify any behavior and is safe. If you specifically wanted the numpy scalar type, use `np.float64` here.\n",
      "Deprecated in NumPy 1.20; for more details and guidance: https://numpy.org/devdocs/release/1.20.0-notes.html#deprecations\n",
      "  a1 = np.loadtxt('duom.txt',dtype=np.float)\n"
     ]
    }
   ],
   "metadata": {}
  }
 ],
 "metadata": {
  "orig_nbformat": 4,
  "language_info": {
   "name": "python",
   "version": "3.9.7",
   "mimetype": "text/x-python",
   "codemirror_mode": {
    "name": "ipython",
    "version": 3
   },
   "pygments_lexer": "ipython3",
   "nbconvert_exporter": "python",
   "file_extension": ".py"
  },
  "kernelspec": {
   "name": "python3",
   "display_name": "Python 3.9.7 64-bit (conda)"
  },
  "interpreter": {
   "hash": "60152bf436f77cdda9a7f062a7ed0b7ab43932e7b5cb7a870a9504b065f6a782"
  }
 },
 "nbformat": 4,
 "nbformat_minor": 2
}