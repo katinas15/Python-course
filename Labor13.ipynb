{
 "cells": [
  {
   "cell_type": "code",
   "execution_count": null,
   "source": [
    "1.\r\n",
    "\r\n",
    "Duotas masyvas a.\r\n",
    "Iš masyvo a pašalinkite inf, -inf ir nan reikšmes.\r\n",
    "\r\n",
    "10, 20, np.NINF, np.nan, np.inf\r\n",
    "\r\n",
    "[10. 20.]"
   ],
   "outputs": [],
   "metadata": {}
  },
  {
   "cell_type": "code",
   "execution_count": 11,
   "source": [
    "import numpy as np\r\n",
    "np.set_printoptions(suppress=True)\r\n",
    "\r\n",
    "a = np.array(eval(input()))\r\n",
    "\r\n",
    "while np.isnan(a).any() or np.isinf(a).any():\r\n",
    "    a = np.delete(a, np.where(np.isnan(a)))\r\n",
    "    a = np.delete(a, np.where(np.isinf(a)))\r\n",
    "print(a)\r\n"
   ],
   "outputs": [
    {
     "output_type": "error",
     "ename": "ValueError",
     "evalue": "The truth value of an array with more than one element is ambiguous. Use a.any() or a.all()",
     "traceback": [
      "\u001b[1;31m---------------------------------------------------------------------------\u001b[0m",
      "\u001b[1;31mValueError\u001b[0m                                Traceback (most recent call last)",
      "\u001b[1;32m~\\AppData\\Local\\Temp/ipykernel_3644/829393521.py\u001b[0m in \u001b[0;36m<module>\u001b[1;34m\u001b[0m\n\u001b[0;32m      4\u001b[0m \u001b[0ma\u001b[0m \u001b[1;33m=\u001b[0m \u001b[0mnp\u001b[0m\u001b[1;33m.\u001b[0m\u001b[0marray\u001b[0m\u001b[1;33m(\u001b[0m\u001b[0meval\u001b[0m\u001b[1;33m(\u001b[0m\u001b[0minput\u001b[0m\u001b[1;33m(\u001b[0m\u001b[1;33m)\u001b[0m\u001b[1;33m)\u001b[0m\u001b[1;33m)\u001b[0m\u001b[1;33m\u001b[0m\u001b[1;33m\u001b[0m\u001b[0m\n\u001b[0;32m      5\u001b[0m \u001b[1;33m\u001b[0m\u001b[0m\n\u001b[1;32m----> 6\u001b[1;33m \u001b[1;32mwhile\u001b[0m \u001b[0mnp\u001b[0m\u001b[1;33m.\u001b[0m\u001b[0misnan\u001b[0m\u001b[1;33m(\u001b[0m\u001b[0ma\u001b[0m\u001b[1;33m)\u001b[0m \u001b[1;32mor\u001b[0m \u001b[0mnp\u001b[0m\u001b[1;33m.\u001b[0m\u001b[0misinf\u001b[0m\u001b[1;33m(\u001b[0m\u001b[0ma\u001b[0m\u001b[1;33m)\u001b[0m\u001b[1;33m:\u001b[0m\u001b[1;33m\u001b[0m\u001b[1;33m\u001b[0m\u001b[0m\n\u001b[0m\u001b[0;32m      7\u001b[0m     \u001b[0ma\u001b[0m \u001b[1;33m=\u001b[0m \u001b[0mnp\u001b[0m\u001b[1;33m.\u001b[0m\u001b[0mdelete\u001b[0m\u001b[1;33m(\u001b[0m\u001b[0ma\u001b[0m\u001b[1;33m,\u001b[0m \u001b[0mnp\u001b[0m\u001b[1;33m.\u001b[0m\u001b[0mwhere\u001b[0m\u001b[1;33m(\u001b[0m\u001b[0mnp\u001b[0m\u001b[1;33m.\u001b[0m\u001b[0misnan\u001b[0m\u001b[1;33m(\u001b[0m\u001b[0ma\u001b[0m\u001b[1;33m)\u001b[0m\u001b[1;33m)\u001b[0m\u001b[1;33m)\u001b[0m\u001b[1;33m\u001b[0m\u001b[1;33m\u001b[0m\u001b[0m\n\u001b[0;32m      8\u001b[0m     \u001b[0ma\u001b[0m \u001b[1;33m=\u001b[0m \u001b[0mnp\u001b[0m\u001b[1;33m.\u001b[0m\u001b[0mdelete\u001b[0m\u001b[1;33m(\u001b[0m\u001b[0ma\u001b[0m\u001b[1;33m,\u001b[0m \u001b[0mnp\u001b[0m\u001b[1;33m.\u001b[0m\u001b[0mwhere\u001b[0m\u001b[1;33m(\u001b[0m\u001b[0mnp\u001b[0m\u001b[1;33m.\u001b[0m\u001b[0misinf\u001b[0m\u001b[1;33m(\u001b[0m\u001b[0ma\u001b[0m\u001b[1;33m)\u001b[0m\u001b[1;33m)\u001b[0m\u001b[1;33m)\u001b[0m\u001b[1;33m\u001b[0m\u001b[1;33m\u001b[0m\u001b[0m\n",
      "\u001b[1;31mValueError\u001b[0m: The truth value of an array with more than one element is ambiguous. Use a.any() or a.all()"
     ]
    }
   ],
   "metadata": {}
  },
  {
   "cell_type": "markdown",
   "source": [
    "2.\r\n",
    "\r\n",
    "Duotas masyvas (4x4). Išveskite antrą pagal dydį vertę.\r\n",
    "\r\n",
    "9 4 2 1\r\n",
    "0 9 3 7\r\n",
    "1 9 0 2\r\n",
    "3 4 2 6\r\n",
    "\r\n",
    "7\r\n"
   ],
   "metadata": {}
  },
  {
   "cell_type": "code",
   "execution_count": 12,
   "source": [
    "import numpy as np\r\n",
    "np.set_printoptions(suppress=True)\r\n",
    "\r\n",
    "a = []\r\n",
    "for i in range(4):\r\n",
    "    a.append(list(map(int, input().split())))\r\n",
    "a = np.array(a, dtype=float)\r\n",
    "flat = np.unique(a)\r\n",
    "flat.sort()\r\n",
    "print(int(flat[-2]))\r\n"
   ],
   "outputs": [
    {
     "output_type": "stream",
     "name": "stdout",
     "text": [
      "7.0\n"
     ]
    }
   ],
   "metadata": {}
  },
  {
   "cell_type": "markdown",
   "source": [
    "3.\r\n",
    "\r\n",
    "Duotas masyvas (4x4).\r\n",
    "Išveskite pirmo elemento, kurio vertė >3 kordinates\r\n",
    "\r\n",
    "2 4 1 3\r\n",
    "4 3 3 2\r\n",
    "4 0 2 0\r\n",
    "0 4 4 2\r\n",
    "\r\n",
    "0 1"
   ],
   "metadata": {}
  },
  {
   "cell_type": "code",
   "execution_count": 20,
   "source": [
    "import numpy as np\r\n",
    "import sys\r\n",
    "np.set_printoptions(suppress=True)\r\n",
    "\r\n",
    "a = []\r\n",
    "for i in range(4):\r\n",
    "    a.append(list(map(int, input().split())))\r\n",
    "a = np.array(a, dtype=np.int8)\r\n",
    "\r\n",
    "for row, i in enumerate(a):\r\n",
    "    for column, j in enumerate(i):\r\n",
    "        if j > 3:\r\n",
    "            print(f\"{row} {column}\")\r\n",
    "            sys.exit()\r\n"
   ],
   "outputs": [
    {
     "output_type": "stream",
     "name": "stdout",
     "text": [
      "0\n",
      "[2 4 1 3]\n",
      "0 1\n"
     ]
    },
    {
     "output_type": "error",
     "ename": "SystemExit",
     "evalue": "",
     "traceback": [
      "An exception has occurred, use %tb to see the full traceback.\n",
      "\u001b[1;31mSystemExit\u001b[0m\n"
     ]
    },
    {
     "output_type": "stream",
     "name": "stderr",
     "text": [
      "C:\\Users\\laimo\\anaconda3\\lib\\site-packages\\IPython\\core\\interactiveshell.py:3452: UserWarning: To exit: use 'exit', 'quit', or Ctrl-D.\n",
      "  warn(\"To exit: use 'exit', 'quit', or Ctrl-D.\", stacklevel=1)\n"
     ]
    }
   ],
   "metadata": {}
  },
  {
   "cell_type": "markdown",
   "source": [
    "4.\r\n",
    "\r\n",
    "Duotas masyvas a (3x5).\r\n",
    "Surūšiuokite eilutes taip, kad trečio stulpelio elementai būtų išdėstyti didėjimo tvarka.\r\n",
    "\r\n",
    "5 0 1 3 2\r\n",
    "-3 2 9 4 8\r\n",
    "-1 6 3 1 3\r\n",
    "\r\n",
    "\r\n",
    "\r\n",
    "[[ 5. 0. 1. 3. 2.]\r\n",
    "[-1. 6. 3. 1. 3.]\r\n",
    "[-3. 2. 9. 4. 8.]]"
   ],
   "metadata": {}
  },
  {
   "cell_type": "code",
   "execution_count": 25,
   "source": [
    "import numpy as np\r\n",
    "import sys\r\n",
    "np.set_printoptions(suppress=True)\r\n",
    "\r\n",
    "a = []\r\n",
    "for i in range(3):\r\n",
    "    a.append(list(map(int, input().split())))\r\n",
    "a = np.array(a, dtype=float)\r\n",
    "\r\n",
    "print(a[a[:, 2].argsort()])\r\n",
    "\r\n",
    "\r\n"
   ],
   "outputs": [
    {
     "output_type": "stream",
     "name": "stdout",
     "text": [
      "[[5. 0. 1. 3. 2.]\n",
      " [5. 0. 3. 3. 2.]\n",
      " [5. 0. 7. 3. 2.]]\n"
     ]
    }
   ],
   "metadata": {}
  },
  {
   "cell_type": "markdown",
   "source": [
    "5.\r\n",
    "\r\n",
    "Parašykite programą, kuri surūšiuoti vardų (first_names) ir pavardžių (last_names) poras (pirmiausia pagal pavardę, po to pagal vardą).\r\n",
    "Išveskite surūšiuotas poras.\r\n",
    "\r\n",
    "first_names, last_names\r\n",
    "\r\n",
    "(\"Margery\",\"Betsey\",\"Shelley\",\"Lanell\",\"Genesis\",\"Andy\")\r\n",
    "(\"Woolum\",\"Battle\",\"Plotner\",\"Brien\",\"Stahl\",\"Battle\")\r\n",
    "\r\n",
    "Battle Andy\r\n",
    "Battle Betsey\r\n",
    "Brien Lanell\r\n",
    "Plotner Shelley\r\n",
    "Stahl Genesis\r\n",
    "Woolum Margery"
   ],
   "metadata": {}
  },
  {
   "cell_type": "code",
   "execution_count": 53,
   "source": [
    "import numpy as np\r\n",
    "import sys\r\n",
    "np.set_printoptions(suppress=True)\r\n",
    "\r\n",
    "first_names = np.array(eval(input()))\r\n",
    "last_names = np.array(eval(input()))\r\n",
    "\r\n",
    "arr_type = [('last_names', 'U10'), ('first_names', 'U10')]\r\n",
    "arr=np.ones(len(first_names), dtype=arr_type)\r\n",
    "arr['first_names'] = first_names\r\n",
    "arr['last_names'] = last_names\r\n",
    "arr = np.sort(arr, order='last_names')\r\n",
    "for i in arr:\r\n",
    "    print(*i)\r\n"
   ],
   "outputs": [
    {
     "output_type": "error",
     "ename": "SyntaxError",
     "evalue": "unexpected EOF while parsing (<string>, line 0)",
     "traceback": [
      "Traceback \u001b[1;36m(most recent call last)\u001b[0m:\n",
      "  File \u001b[0;32m\"C:\\Users\\laimo\\anaconda3\\lib\\site-packages\\IPython\\core\\interactiveshell.py\"\u001b[0m, line \u001b[0;32m3444\u001b[0m, in \u001b[0;35mrun_code\u001b[0m\n    exec(code_obj, self.user_global_ns, self.user_ns)\n",
      "\u001b[1;36m  File \u001b[1;32m\"C:\\Users\\laimo\\AppData\\Local\\Temp/ipykernel_3644/948800887.py\"\u001b[1;36m, line \u001b[1;32m5\u001b[1;36m, in \u001b[1;35m<module>\u001b[1;36m\u001b[0m\n\u001b[1;33m    first_names = np.array(eval(input()))\u001b[0m\n",
      "\u001b[1;36m  File \u001b[1;32m\"<string>\"\u001b[1;36m, line \u001b[1;32munknown\u001b[0m\n\u001b[1;33m    \u001b[0m\n\u001b[1;37m    ^\u001b[0m\n\u001b[1;31mSyntaxError\u001b[0m\u001b[1;31m:\u001b[0m unexpected EOF while parsing\n"
     ]
    }
   ],
   "metadata": {}
  }
 ],
 "metadata": {
  "orig_nbformat": 4,
  "language_info": {
   "name": "python",
   "version": "3.9.7",
   "mimetype": "text/x-python",
   "codemirror_mode": {
    "name": "ipython",
    "version": 3
   },
   "pygments_lexer": "ipython3",
   "nbconvert_exporter": "python",
   "file_extension": ".py"
  },
  "kernelspec": {
   "name": "python3",
   "display_name": "Python 3.9.7 64-bit (conda)"
  },
  "interpreter": {
   "hash": "60152bf436f77cdda9a7f062a7ed0b7ab43932e7b5cb7a870a9504b065f6a782"
  }
 },
 "nbformat": 4,
 "nbformat_minor": 2
}