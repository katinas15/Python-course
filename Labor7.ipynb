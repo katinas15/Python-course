{
 "cells": [
  {
   "cell_type": "markdown",
   "source": [
    "7.1 \r\n",
    "\r\n",
    "Duotas skaicius n, po jo n eilučių iš porų (žodis, skaičius). Parašykite programą, kuri naudojant lambda funkciją surikiuoja rinkinių sąrašą marks pagal antrą reikšmę mažėjimo tvarka.\r\n",
    "\r\n",
    "4\r\n",
    "English 10\r\n",
    "Science 9\r\n",
    "Maths 8\r\n",
    "Social sciences 10\r\n",
    "\r\n",
    "\r\n",
    "[(’English’, 10), (’Social sciences’, 10), (’Science’, 9), (’Maths’, 8)]"
   ],
   "metadata": {}
  },
  {
   "cell_type": "code",
   "execution_count": 18,
   "source": [
    "n = int(input())\r\n",
    "d = []\r\n",
    "for i in range(n):\r\n",
    "    a = input().split()\r\n",
    "    d.append((' '.join(a[:-1]), int(a[-1])))\r\n",
    "\r\n",
    "d.sort(key=lambda x: x[1], reverse = True)\r\n",
    "print(d)"
   ],
   "outputs": [
    {
     "output_type": "stream",
     "name": "stdout",
     "text": [
      "[('English', 10), ('Social sciences', 10), ('Science', 9), ('Maths', 8)]\n"
     ]
    }
   ],
   "metadata": {}
  },
  {
   "cell_type": "markdown",
   "source": [
    "7.2\r\n",
    "\r\n",
    "Duotas sąrašas L. Funkcijos lambda pagalba parašykite programą, kuri sukuria sąrašo L elementų kubų sąrašą.\r\n",
    "\r\n",
    "[12,10,25,2,17,3,5]\r\n",
    "[1728, 1000, 15625, 8, 4913, 27, 125]"
   ],
   "metadata": {}
  },
  {
   "cell_type": "code",
   "execution_count": null,
   "source": [
    "L = eval(input())\r\n",
    "print(list(map(lambda x: x**3, L)))"
   ],
   "outputs": [
    {
     "output_type": "stream",
     "name": "stdout",
     "text": [
      "[1728, 1000, 15625, 8, 4913, 27, 125]\n"
     ]
    }
   ],
   "metadata": {}
  },
  {
   "cell_type": "markdown",
   "source": [
    "7.3\r\n",
    "\r\n",
    "Duotas sąrašas L. Parašykite programą, kuri surikiuoja sąrašo elementus pagal antrą raidę.\r\n",
    "\r\n",
    "[\"manner\",\"unfair\",\"release\",\"free\",\"fixture\",\"user\",\"emphasis\",\"coach\",\"character\",\"skilled\",\"spoil\",\"equinox\"]"
   ],
   "metadata": {}
  },
  {
   "cell_type": "code",
   "execution_count": null,
   "source": [
    "L = eval(input())\r\n",
    "L.sort(key=lambda x: x[1])\r\n",
    "print(L)"
   ],
   "outputs": [
    {
     "output_type": "stream",
     "name": "stdout",
     "text": [
      "['manner', 'release', 'character', 'fixture', 'skilled', 'emphasis', 'unfair', 'coach', 'spoil', 'equinox', 'free', 'user']\n"
     ]
    }
   ],
   "metadata": {}
  },
  {
   "cell_type": "markdown",
   "source": [
    "7.4\r\n",
    "\r\n",
    "Duoti du žodynai. Apjunkite juos į vieną žodyną ir išveskite rezultatą didėjimo tvarka.\r\n",
    "\r\n",
    "{\"Ten\": 10, \"Twenty\": 20, \"Thirty\": 30}\r\n",
    "{\"Thirty\": 30, \"Fourty\": 40, \"Fifty\": 50}\r\n",
    "\r\n",
    "Ten - 10\r\n",
    "Twenty - 20\r\n",
    "Thirty - 30\r\n",
    "Fourty - 40\r\n",
    "Fifty - 50\r\n"
   ],
   "metadata": {}
  },
  {
   "cell_type": "code",
   "execution_count": null,
   "source": [
    "d1 = dict(eval(input()))\r\n",
    "d2 = dict(eval(input()))\r\n",
    "d1.update(d2)\r\n",
    "\r\n",
    "for x,y in d1.items():\r\n",
    "    print(x, '-', y)"
   ],
   "outputs": [
    {
     "output_type": "stream",
     "name": "stdout",
     "text": [
      "Ten - 10\n",
      "Twenty - 20\n",
      "Thirty - 30\n",
      "Fourty - 40\n",
      "Fifty - 50\n"
     ]
    }
   ],
   "metadata": {}
  },
  {
   "cell_type": "markdown",
   "source": [
    "7.5\r\n",
    "\r\n",
    "Duota: sąrašas empl ir žodynas defaults. Metodo dict.fromkeys() pagalba sudarykite žodyną d. Išveskite žodyno d duomenis stulpeliu kaip parodyta.\r\n",
    "\r\n",
    "[\"Kelly\", \"John\", \"Emma\"]\r\n",
    "{\"designation\": \"Application Developer\", \"salary\": 8000}\r\n",
    "\r\n",
    "Kelly: {’designation’: ’Application Developer’, ’salary’: 8000}\r\n",
    "John: {’designation’: ’Application Developer’, ’salary’: 8000}\r\n",
    "Emma: {’designation’: ’Application Developer’, ’salary’: 8000}"
   ],
   "metadata": {}
  },
  {
   "cell_type": "code",
   "execution_count": null,
   "source": [
    "empl = eval(input())\r\n",
    "defaults = eval(input())\r\n",
    "d = dict.fromkeys(empl, defaults)\r\n",
    "for key, value in d.items():\r\n",
    "    print(key+':', value)"
   ],
   "outputs": [
    {
     "output_type": "stream",
     "name": "stdout",
     "text": [
      "Kelly: {'designation': 'Application Developer', 'salary': 8000}\n",
      "John: {'designation': 'Application Developer', 'salary': 8000}\n",
      "Emma: {'designation': 'Application Developer', 'salary': 8000}\n"
     ]
    }
   ],
   "metadata": {}
  },
  {
   "cell_type": "markdown",
   "source": [
    "7.6\r\n",
    "\r\n",
    "Iš duotų aibių keys ir values sudarykite žodyną funkcijos zip() pagalba.\r\n",
    "\r\n",
    "(\"Tokyo\", \"Delhi\", \"Shanghai\", \"Mumbai\")\r\n",
    "(38140000, 26454000, 24484000)\r\n",
    "\r\n",
    "{’Tokyo’: 38140000, ’Delhi’: 26454000, ’Shanghai’: 24484000}"
   ],
   "metadata": {}
  },
  {
   "cell_type": "code",
   "execution_count": null,
   "source": [
    "keys = eval(input())\r\n",
    "values = eval(input())\r\n",
    "d = dict(zip(keys, values))\r\n",
    "print(d)"
   ],
   "outputs": [
    {
     "output_type": "stream",
     "name": "stdout",
     "text": [
      "{'Tokyo': 38140000, 'Delhi': 26454000, 'Shanghai': 24484000}\n"
     ]
    }
   ],
   "metadata": {}
  },
  {
   "cell_type": "markdown",
   "source": [
    "7.7\r\n",
    "\r\n",
    "Parašykite programą, kuri iš ekrano nuskaito žodyną ir randa jo reikšmių sumą.\r\n",
    "\r\n",
    "{\"x\": 100, \"b\": 100, \"e\": 200, \"a\": 300, \"h\": 100, \"d\": 100}            900"
   ],
   "metadata": {}
  },
  {
   "cell_type": "code",
   "execution_count": null,
   "source": [
    "d = eval(input())\r\n",
    "print(sum(d.values()))"
   ],
   "outputs": [
    {
     "output_type": "stream",
     "name": "stdout",
     "text": [
      "900\n"
     ]
    }
   ],
   "metadata": {}
  },
  {
   "cell_type": "markdown",
   "source": [
    "7.8\r\n",
    "\r\n",
    "Duotas žodynas, vardas ir x reikšmė. Pakeiskite duoto vardo \"salary\" reikšmę į x.\r\n",
    "\r\n",
    "{\"emp1\": {\"name\": \"John\", \"salary\": 8500},\"emp2\": {\"name\": \"Navy\", \"salary\": 6000},\"emp3\": {\"name\": \"Brad\", \"salary\": 7500}}\r\n",
    "Navy\r\n",
    "8000"
   ],
   "metadata": {}
  },
  {
   "cell_type": "code",
   "execution_count": null,
   "source": [
    "d = eval(input())\r\n",
    "vardas = input()\r\n",
    "x = int(input())\r\n",
    "\r\n",
    "for i in d.keys():\r\n",
    "    if d[i]['name'] == vardas:\r\n",
    "        d[i]['salary'] = x\r\n",
    "\r\n",
    "print(d)"
   ],
   "outputs": [
    {
     "output_type": "stream",
     "name": "stdout",
     "text": [
      "{'emp1': {'name': 'John', 'salary': 8500}, 'emp2': {'name': 'Navy', 'salary': 8000}, 'emp3': {'name': 'Brad', 'salary': 7500}}\n"
     ]
    }
   ],
   "metadata": {}
  },
  {
   "cell_type": "markdown",
   "source": [
    "7.9\r\n",
    "\r\n",
    "Duotas žodynas d. Išveskite dviejų porų su mažiausiomis reikšmėmis sąrašą.\r\n",
    "\r\n",
    "{\"a\":500, \"b\":5874, \"c\": 560, \"d\":400, \"e\":5874, \"f\": 20}\r\n",
    "\r\n",
    "[(’f’, 20), (’d’, 400)]\r\n",
    "\r\n",
    "{\"c\":3, \"b\":4, \"a\":3}\r\n",
    "[('c', 3), ('a', 3)]"
   ],
   "metadata": {}
  },
  {
   "cell_type": "code",
   "execution_count": 36,
   "source": [
    "d = eval(input())\r\n",
    "L = sorted(d.items(), key=lambda x: x[1])[:2]\r\n",
    "print(L)"
   ],
   "outputs": [
    {
     "output_type": "stream",
     "name": "stdout",
     "text": [
      "[('f', 20), ('d', 400)]\n"
     ]
    }
   ],
   "metadata": {}
  },
  {
   "cell_type": "markdown",
   "source": [
    "7.10\r\n",
    "\r\n",
    "Parašykite programą, kuri leidžia nuskaityti iš ekrano poras (key – raidė, value – sveikasis skaičius) ir baigia nuskaitymą įvedus q q. Išsaugo įvestas reikšmes žodyne. Išveda didžiausios reikšmės raktą. Jeigu tokios reikšmės yra kelios – išveda tik pirmąjį raktą. Išveda žodyną\r\n",
    "\r\n",
    "a 100\r\n",
    "b 250\r\n",
    "c -12\r\n",
    "d 34\r\n",
    "q q\r\n",
    "\r\n",
    "b\r\n",
    "{’a’: 100, ’b’: 250, ’c’: -12, ’d’: 34}\r\n",
    "\r\n",
    "\r\n",
    "a 100\r\n",
    "b 100\r\n",
    "q q\r\n",
    "\r\n",
    "a\r\n",
    "{’a’: 100, ’b’: 100}"
   ],
   "metadata": {}
  },
  {
   "cell_type": "code",
   "execution_count": 17,
   "source": [
    "a = 0 \r\n",
    "b = 0\r\n",
    "d = dict()\r\n",
    "while True:\r\n",
    "    a, b = input().split()\r\n",
    "    if a == 'q' and b == 'q':\r\n",
    "        break\r\n",
    "    d.update({a: int(b)})\r\n",
    "\r\n",
    "if len(d) > 0:\r\n",
    "    print(max(d, key=lambda x: d[x]))\r\n",
    "print(d)\r\n"
   ],
   "outputs": [
    {
     "output_type": "stream",
     "name": "stdout",
     "text": [
      "a\n",
      "{'a': 500}\n"
     ]
    }
   ],
   "metadata": {}
  },
  {
   "cell_type": "markdown",
   "source": [
    "7.11\r\n",
    "\r\n",
    "Parašykite programą, kuri randa balsių skaičių eilutėje ir išveda rezultatą kaip parodyta.\r\n",
    "\r\n",
    "the quick brown fox jumps over the lazy dog\r\n",
    "{’e’: 3, ’u’: 2, ’i’: 1, ’o’: 4, ’a’: 1, ’y’: 1}"
   ],
   "metadata": {}
  },
  {
   "cell_type": "code",
   "execution_count": 37,
   "source": [
    "balses = set('euioay')\r\n",
    "d = dict()\r\n",
    "L = input()\r\n",
    "for c in L:\r\n",
    "    if c in balses:\r\n",
    "        d[c] = d[c]+1 if c in d else 1\r\n",
    "\r\n",
    "print(d)"
   ],
   "outputs": [
    {
     "output_type": "stream",
     "name": "stdout",
     "text": [
      "{'e': 3, 'u': 2, 'i': 1, 'o': 4, 'a': 1, 'y': 1}\n"
     ]
    }
   ],
   "metadata": {}
  },
  {
   "cell_type": "markdown",
   "source": [
    "7.12\r\n",
    "\r\n",
    "Parašykite programą, kuri nuskaito netuščią eilutę. Randa kiek kartų sutinkamas kiekvienas žodis. Išveda rezultatą kaip žodyną. Sudaro (dictionary comprehension) ir išveda dažniausiai pasitaikančių žodžių žodyną.\r\n",
    "\r\n",
    "\r\n",
    "one two five one two three three three one four five\r\n",
    "\r\n",
    "{’one’: 3, ’two’: 2, ’five’: 2, ’three’: 3, ’four’: 1}\r\n",
    "{’one’: 3, ’three’: 3}"
   ],
   "metadata": {}
  },
  {
   "cell_type": "code",
   "execution_count": 43,
   "source": [
    "L = input().split()\r\n",
    "d = dict()\r\n",
    "for w in L:\r\n",
    "    d[w] = d[w]+1 if w in d else 1\r\n",
    "\r\n",
    "print(d)\r\n",
    "print(max(d))\r\n",
    "print({k: v for k, v in d.items() if v == d[max(d)]})"
   ],
   "outputs": [
    {
     "output_type": "stream",
     "name": "stdout",
     "text": [
      "{'one': 3, 'two': 2, 'five': 2, 'three': 3, 'four': 1}\n",
      "two\n",
      "{'two': 2, 'five': 2}\n"
     ]
    }
   ],
   "metadata": {}
  }
 ],
 "metadata": {
  "orig_nbformat": 4,
  "language_info": {
   "name": "python",
   "version": "3.9.1",
   "mimetype": "text/x-python",
   "codemirror_mode": {
    "name": "ipython",
    "version": 3
   },
   "pygments_lexer": "ipython3",
   "nbconvert_exporter": "python",
   "file_extension": ".py"
  },
  "kernelspec": {
   "name": "python3",
   "display_name": "Python 3.9.1 64-bit"
  },
  "interpreter": {
   "hash": "63fd5069d213b44bf678585dea6b12cceca9941eaf7f819626cde1f2670de90d"
  }
 },
 "nbformat": 4,
 "nbformat_minor": 2
}