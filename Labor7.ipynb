{
 "cells": [
  {
   "cell_type": "markdown",
   "source": [
    "7.1 \r\n",
    "\r\n",
    "Duotas skaicius n, po jo n eilučių iš porų (žodis, skaičius). Parašykite programą, kuri naudojant lambda funkciją surikiuoja rinkinių sąrašą marks pagal antrą reikšmę mažėjimo tvarka.\r\n",
    "\r\n",
    "4\r\n",
    "English 10\r\n",
    "Science 9\r\n",
    "Maths 8\r\n",
    "Social sciences 10\r\n",
    "\r\n",
    "\r\n",
    "[(’English’, 10), (’Social sciences’, 10), (’Science’, 9), (’Maths’, 8)]"
   ],
   "metadata": {}
  },
  {
   "cell_type": "code",
   "execution_count": 31,
   "source": [
    "n = int(input())\r\n",
    "d = []\r\n",
    "for i in range(n):\r\n",
    "    a = input().split()\r\n",
    "    d.append((' '.join(a[:-1]), int(a[-1])))\r\n",
    "\r\n",
    "d.sort(key=lambda x: x[1], reverse = True)\r\n",
    "print(d)"
   ],
   "outputs": [
    {
     "output_type": "error",
     "ename": "ValueError",
     "evalue": "invalid literal for int() with base 10: '{\"a\":500, \"b\":5874, \"c\": 560, \"d\":400, \"e\":5874, \"f\": 20}'",
     "traceback": [
      "\u001b[1;31m---------------------------------------------------------------------------\u001b[0m",
      "\u001b[1;31mValueError\u001b[0m                                Traceback (most recent call last)",
      "\u001b[1;32m~\\AppData\\Local\\Temp/ipykernel_10716/3104096048.py\u001b[0m in \u001b[0;36m<module>\u001b[1;34m\u001b[0m\n\u001b[1;32m----> 1\u001b[1;33m \u001b[0mn\u001b[0m \u001b[1;33m=\u001b[0m \u001b[0mint\u001b[0m\u001b[1;33m(\u001b[0m\u001b[0minput\u001b[0m\u001b[1;33m(\u001b[0m\u001b[1;33m)\u001b[0m\u001b[1;33m)\u001b[0m\u001b[1;33m\u001b[0m\u001b[1;33m\u001b[0m\u001b[0m\n\u001b[0m\u001b[0;32m      2\u001b[0m \u001b[0md\u001b[0m \u001b[1;33m=\u001b[0m \u001b[1;33m[\u001b[0m\u001b[1;33m]\u001b[0m\u001b[1;33m\u001b[0m\u001b[1;33m\u001b[0m\u001b[0m\n\u001b[0;32m      3\u001b[0m \u001b[1;32mfor\u001b[0m \u001b[0mi\u001b[0m \u001b[1;32min\u001b[0m \u001b[0mrange\u001b[0m\u001b[1;33m(\u001b[0m\u001b[0mn\u001b[0m\u001b[1;33m)\u001b[0m\u001b[1;33m:\u001b[0m\u001b[1;33m\u001b[0m\u001b[1;33m\u001b[0m\u001b[0m\n\u001b[0;32m      4\u001b[0m     \u001b[0ma\u001b[0m \u001b[1;33m=\u001b[0m \u001b[0minput\u001b[0m\u001b[1;33m(\u001b[0m\u001b[1;33m)\u001b[0m\u001b[1;33m.\u001b[0m\u001b[0msplit\u001b[0m\u001b[1;33m(\u001b[0m\u001b[1;33m)\u001b[0m\u001b[1;33m\u001b[0m\u001b[1;33m\u001b[0m\u001b[0m\n\u001b[0;32m      5\u001b[0m     \u001b[0md\u001b[0m\u001b[1;33m.\u001b[0m\u001b[0mappend\u001b[0m\u001b[1;33m(\u001b[0m\u001b[1;33m(\u001b[0m\u001b[1;34m' '\u001b[0m\u001b[1;33m.\u001b[0m\u001b[0mjoin\u001b[0m\u001b[1;33m(\u001b[0m\u001b[0ma\u001b[0m\u001b[1;33m[\u001b[0m\u001b[1;33m:\u001b[0m\u001b[1;33m-\u001b[0m\u001b[1;36m1\u001b[0m\u001b[1;33m]\u001b[0m\u001b[1;33m)\u001b[0m\u001b[1;33m,\u001b[0m \u001b[0mint\u001b[0m\u001b[1;33m(\u001b[0m\u001b[0ma\u001b[0m\u001b[1;33m[\u001b[0m\u001b[1;33m-\u001b[0m\u001b[1;36m1\u001b[0m\u001b[1;33m]\u001b[0m\u001b[1;33m)\u001b[0m\u001b[1;33m)\u001b[0m\u001b[1;33m)\u001b[0m\u001b[1;33m\u001b[0m\u001b[1;33m\u001b[0m\u001b[0m\n",
      "\u001b[1;31mValueError\u001b[0m: invalid literal for int() with base 10: '{\"a\":500, \"b\":5874, \"c\": 560, \"d\":400, \"e\":5874, \"f\": 20}'"
     ]
    }
   ],
   "metadata": {}
  },
  {
   "cell_type": "markdown",
   "source": [
    "7.2\r\n",
    "\r\n",
    "Duotas sąrašas L. Funkcijos lambda pagalba parašykite programą, kuri sukuria sąrašo L elementų kubų sąrašą.\r\n",
    "\r\n",
    "[12,10,25,2,17,3,5]\r\n",
    "[1728, 1000, 15625, 8, 4913, 27, 125]"
   ],
   "metadata": {}
  },
  {
   "cell_type": "code",
   "execution_count": null,
   "source": [
    "L = eval(input())\r\n",
    "print(list(map(lambda x: x**3, L)))"
   ],
   "outputs": [
    {
     "output_type": "stream",
     "name": "stdout",
     "text": [
      "[1728, 1000, 15625, 8, 4913, 27, 125]\n"
     ]
    }
   ],
   "metadata": {}
  },
  {
   "cell_type": "markdown",
   "source": [
    "7.3\r\n",
    "\r\n",
    "Duotas sąrašas L. Parašykite programą, kuri surikiuoja sąrašo elementus pagal antrą raidę.\r\n",
    "\r\n",
    "[\"manner\",\"unfair\",\"release\",\"free\",\"fixture\",\"user\",\"emphasis\",\"coach\",\"character\",\"skilled\",\"spoil\",\"equinox\"]"
   ],
   "metadata": {}
  },
  {
   "cell_type": "code",
   "execution_count": null,
   "source": [
    "L = eval(input())\r\n",
    "L.sort(key=lambda x: x[1])\r\n",
    "print(L)"
   ],
   "outputs": [
    {
     "output_type": "stream",
     "name": "stdout",
     "text": [
      "['manner', 'release', 'character', 'fixture', 'skilled', 'emphasis', 'unfair', 'coach', 'spoil', 'equinox', 'free', 'user']\n"
     ]
    }
   ],
   "metadata": {}
  },
  {
   "cell_type": "markdown",
   "source": [
    "7.4\r\n",
    "\r\n",
    "Duoti du žodynai. Apjunkite juos į vieną žodyną ir išveskite rezultatą didėjimo tvarka.\r\n",
    "\r\n",
    "{\"Ten\": 10, \"Twenty\": 20, \"Thirty\": 30}\r\n",
    "{\"Thirty\": 30, \"Fourty\": 40, \"Fifty\": 50}\r\n",
    "\r\n",
    "Ten - 10\r\n",
    "Twenty - 20\r\n",
    "Thirty - 30\r\n",
    "Fourty - 40\r\n",
    "Fifty - 50\r\n"
   ],
   "metadata": {}
  },
  {
   "cell_type": "code",
   "execution_count": null,
   "source": [
    "d1 = dict(eval(input()))\r\n",
    "d2 = dict(eval(input()))\r\n",
    "d1.update(d2)\r\n",
    "\r\n",
    "for x,y in d1.items():\r\n",
    "    print(x, '-', y)"
   ],
   "outputs": [
    {
     "output_type": "stream",
     "name": "stdout",
     "text": [
      "Ten - 10\n",
      "Twenty - 20\n",
      "Thirty - 30\n",
      "Fourty - 40\n",
      "Fifty - 50\n"
     ]
    }
   ],
   "metadata": {}
  },
  {
   "cell_type": "markdown",
   "source": [
    "7.5\r\n",
    "\r\n",
    "Duota: sąrašas empl ir žodynas defaults. Metodo dict.fromkeys() pagalba sudarykite žodyną d. Išveskite žodyno d duomenis stulpeliu kaip parodyta.\r\n",
    "\r\n",
    "[\"Kelly\", \"John\", \"Emma\"]\r\n",
    "{\"designation\": \"Application Developer\", \"salary\": 8000}\r\n",
    "\r\n",
    "Kelly: {’designation’: ’Application Developer’, ’salary’: 8000}\r\n",
    "John: {’designation’: ’Application Developer’, ’salary’: 8000}\r\n",
    "Emma: {’designation’: ’Application Developer’, ’salary’: 8000}"
   ],
   "metadata": {}
  },
  {
   "cell_type": "code",
   "execution_count": null,
   "source": [
    "empl = eval(input())\r\n",
    "defaults = eval(input())\r\n",
    "d = dict.fromkeys(empl, defaults)\r\n",
    "for key, value in d.items():\r\n",
    "    print(key+':', value)"
   ],
   "outputs": [
    {
     "output_type": "stream",
     "name": "stdout",
     "text": [
      "Kelly: {'designation': 'Application Developer', 'salary': 8000}\n",
      "John: {'designation': 'Application Developer', 'salary': 8000}\n",
      "Emma: {'designation': 'Application Developer', 'salary': 8000}\n"
     ]
    }
   ],
   "metadata": {}
  },
  {
   "cell_type": "markdown",
   "source": [
    "7.6\r\n",
    "\r\n",
    "Iš duotų aibių keys ir values sudarykite žodyną funkcijos zip() pagalba.\r\n",
    "\r\n",
    "(\"Tokyo\", \"Delhi\", \"Shanghai\", \"Mumbai\")\r\n",
    "(38140000, 26454000, 24484000)\r\n",
    "\r\n",
    "{’Tokyo’: 38140000, ’Delhi’: 26454000, ’Shanghai’: 24484000}"
   ],
   "metadata": {}
  },
  {
   "cell_type": "code",
   "execution_count": null,
   "source": [
    "keys = eval(input())\r\n",
    "values = eval(input())\r\n",
    "d = dict(zip(keys, values))\r\n",
    "print(d)"
   ],
   "outputs": [
    {
     "output_type": "stream",
     "name": "stdout",
     "text": [
      "{'Tokyo': 38140000, 'Delhi': 26454000, 'Shanghai': 24484000}\n"
     ]
    }
   ],
   "metadata": {}
  },
  {
   "cell_type": "markdown",
   "source": [
    "7.7\r\n",
    "\r\n",
    "Parašykite programą, kuri iš ekrano nuskaito žodyną ir randa jo reikšmių sumą.\r\n",
    "\r\n",
    "{\"x\": 100, \"b\": 100, \"e\": 200, \"a\": 300, \"h\": 100, \"d\": 100}            900"
   ],
   "metadata": {}
  },
  {
   "cell_type": "code",
   "execution_count": null,
   "source": [
    "d = eval(input())\r\n",
    "print(sum(d.values()))"
   ],
   "outputs": [
    {
     "output_type": "stream",
     "name": "stdout",
     "text": [
      "900\n"
     ]
    }
   ],
   "metadata": {}
  },
  {
   "cell_type": "markdown",
   "source": [
    "7.8\r\n",
    "\r\n",
    "Duotas žodynas, vardas ir x reikšmė. Pakeiskite duoto vardo \"salary\" reikšmę į x.\r\n",
    "\r\n",
    "{\"emp1\": {\"name\": \"John\", \"salary\": 8500},\"emp2\": {\"name\": \"Navy\", \"salary\": 6000},\"emp3\": {\"name\": \"Brad\", \"salary\": 7500}}\r\n",
    "Navy\r\n",
    "8000"
   ],
   "metadata": {}
  },
  {
   "cell_type": "code",
   "execution_count": null,
   "source": [
    "d = eval(input())\r\n",
    "vardas = input()\r\n",
    "x = int(input())\r\n",
    "\r\n",
    "for i in d.keys():\r\n",
    "    if d[i]['name'] == vardas:\r\n",
    "        d[i]['salary'] = x\r\n",
    "\r\n",
    "print(d)"
   ],
   "outputs": [
    {
     "output_type": "stream",
     "name": "stdout",
     "text": [
      "{'emp1': {'name': 'John', 'salary': 8500}, 'emp2': {'name': 'Navy', 'salary': 8000}, 'emp3': {'name': 'Brad', 'salary': 7500}}\n"
     ]
    }
   ],
   "metadata": {}
  },
  {
   "cell_type": "markdown",
   "source": [
    "7.9\r\n",
    "\r\n",
    "Duotas žodynas d. Išveskite dviejų porų su mažiausiomis reikšmėmis sąrašą.\r\n",
    "\r\n",
    "{\"a\":500, \"b\":5874, \"c\": 560, \"d\":400, \"e\":5874, \"f\": 20}\r\n",
    "\r\n",
    "[(’f’, 20), (’d’, 400)]"
   ],
   "metadata": {}
  },
  {
   "cell_type": "code",
   "execution_count": 36,
   "source": [
    "d = eval(input())\r\n",
    "d = dict(L)\r\n",
    "\r\n",
    "d_sort = sorted(d.items(), key=lambda x: (x[1], x[0]))\r\n",
    "d_sort = sorted(d.items(), key=lambda x: x[1])[:2]\r\n",
    "print(d_sort)"
   ],
   "outputs": [
    {
     "output_type": "stream",
     "name": "stdout",
     "text": [
      "[('a', 3), ('c', 3)]\n"
     ]
    }
   ],
   "metadata": {}
  }
 ],
 "metadata": {
  "orig_nbformat": 4,
  "language_info": {
   "name": "python",
   "version": "3.9.1",
   "mimetype": "text/x-python",
   "codemirror_mode": {
    "name": "ipython",
    "version": 3
   },
   "pygments_lexer": "ipython3",
   "nbconvert_exporter": "python",
   "file_extension": ".py"
  },
  "kernelspec": {
   "name": "python3",
   "display_name": "Python 3.9.1 64-bit"
  },
  "interpreter": {
   "hash": "63fd5069d213b44bf678585dea6b12cceca9941eaf7f819626cde1f2670de90d"
  }
 },
 "nbformat": 4,
 "nbformat_minor": 2
}