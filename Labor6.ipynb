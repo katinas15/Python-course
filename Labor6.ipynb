{
 "cells": [
  {
   "cell_type": "markdown",
   "source": [
    "6.2\r\n",
    "\r\n",
    "Parašykite programą, kuri prie aibės A prideda sąrašo L elementus. Atsakymas turi būti pateiktas surūšiuota tvarka\r\n",
    "\r\n",
    "{\"Yellow\", \"Orange\", \"Black\"}\r\n",
    "[\"Blue\", \"Green\", \"Red\"]\r\n",
    "\r\n",
    "[’Black’, ’Blue’, ’Green’, ’Orange’, ’Red’, ’Yellow’]"
   ],
   "metadata": {}
  },
  {
   "cell_type": "code",
   "execution_count": 12,
   "source": [
    "A = eval(input())\r\n",
    "B = eval(input())\r\n",
    "\r\n",
    "A.update(B)\r\n",
    "print(sorted(A))\r\n"
   ],
   "outputs": [
    {
     "output_type": "stream",
     "name": "stdout",
     "text": [
      "['Black', 'Blue', 'Green', 'Orange', 'Red', 'Yellow']\n"
     ]
    }
   ],
   "metadata": {}
  },
  {
   "cell_type": "markdown",
   "source": [
    "6.3\r\n",
    "\r\n",
    "Parašykite programą, kuri nuskaito keturių elementų rinkinį, išpakuoja elementus į kintamuosius a, b, c, d ir išveda juos į failą kint.txt.\r\n",
    "\r\n",
    "(100, 200, 300, 400)\r\n",
    "\r\n",
    "\r\n",
    "a = 100\r\n",
    "b = 200\r\n",
    "c = 300\r\n",
    "d = 400"
   ],
   "metadata": {}
  },
  {
   "cell_type": "code",
   "execution_count": 17,
   "source": [
    "t = eval(input())\r\n",
    "a,b,c,d = t\r\n",
    "\r\n",
    "f = open('kint.txt', 'w')\r\n",
    "f.write(\"a = %i\\n\" %(a))\r\n",
    "f.write(\"b = %i\\n\" %(b))\r\n",
    "f.write(\"c = %i\\n\" %(c))\r\n",
    "f.write(\"d = %i\" %(d))\r\n",
    "f.close()"
   ],
   "outputs": [],
   "metadata": {}
  },
  {
   "cell_type": "markdown",
   "source": [
    "6.4\r\n",
    "Duotas skaitmenų sąrašas. Nustatykite, kiek skirtingų skaitmenų jame randama.\r\n",
    "\r\n",
    "1112233344555  # 5\r\n",
    "00987  # 4\r\n",
    "\r\n"
   ],
   "metadata": {}
  },
  {
   "cell_type": "code",
   "execution_count": 22,
   "source": [
    "A = set(input())\r\n",
    "print(len(A))"
   ],
   "outputs": [
    {
     "output_type": "stream",
     "name": "stdout",
     "text": [
      "{'7', '0', '8', '9'}\n",
      "4\n"
     ]
    }
   ],
   "metadata": {}
  },
  {
   "cell_type": "markdown",
   "source": [
    "6.5\r\n",
    "Duotas rinkinys t. Pakeiskite sąrašo reikšmę a reikšme b. Išveskite rinkinį t.\r\n",
    "\r\n",
    "(11, [22, 33], 44, 55)\r\n",
    "22 2000\r\n",
    "\r\n",
    "(11, [2000, 33], 44, 55)\r\n",
    "\r\n",
    "\r\n",
    "\r\n",
    "(11, 22, 44, 55)\r\n",
    "22 2000\r\n",
    "\r\n",
    "(11, 22, 44, 55)"
   ],
   "metadata": {}
  },
  {
   "cell_type": "code",
   "execution_count": 59,
   "source": [
    "t = eval(input())\r\n",
    "a, b = input().split()\r\n",
    "L = []\r\n",
    "for i in t:\r\n",
    "    if type(i).__name__ == \"list\":\r\n",
    "        L = i\r\n",
    "try:\r\n",
    "    L[L.index(int(a))] = int(b)\r\n",
    "except:\r\n",
    "    pass\r\n",
    "finally:\r\n",
    "    print(t)\r\n"
   ],
   "outputs": [
    {
     "output_type": "stream",
     "name": "stdout",
     "text": [
      "(11, [2000, 33], 44, 55)\n"
     ]
    }
   ],
   "metadata": {}
  },
  {
   "cell_type": "markdown",
   "source": [
    "6.6\r\n",
    "\r\n",
    "Duotas sąrašas L. Iš sąrašo elementų sudarykite surušiuotas aibes (set comprehension) A ir B taip, kaip parodyta.\r\n",
    "\r\n",
    "[\"10\", \"25\", \"a\", \"100\", \"c\", \"a\", \"100\", \"d\", \"b\", \"b\", \"5\"]\r\n",
    "\r\n",
    "[’a’, ’b’, ’c’, ’d’]\r\n",
    "[5, 10, 25, 100]"
   ],
   "metadata": {}
  },
  {
   "cell_type": "code",
   "execution_count": 69,
   "source": [
    "L = eval(input())\r\n",
    "A = {i for i in L if i.isalpha()}\r\n",
    "B = {int(i) for i in L if i.isnumeric()}\r\n",
    "\r\n",
    "if len(sorted(A)):\r\n",
    "    print(sorted(A))\r\n",
    "if len(sorted(B)):\r\n",
    "    print(sorted(B))"
   ],
   "outputs": [
    {
     "output_type": "stream",
     "name": "stdout",
     "text": [
      "[1, 2, 3]\n"
     ]
    }
   ],
   "metadata": {}
  }
 ],
 "metadata": {
  "orig_nbformat": 4,
  "language_info": {
   "name": "python",
   "version": "3.9.1",
   "mimetype": "text/x-python",
   "codemirror_mode": {
    "name": "ipython",
    "version": 3
   },
   "pygments_lexer": "ipython3",
   "nbconvert_exporter": "python",
   "file_extension": ".py"
  },
  "kernelspec": {
   "name": "python3",
   "display_name": "Python 3.9.1 64-bit"
  },
  "interpreter": {
   "hash": "63fd5069d213b44bf678585dea6b12cceca9941eaf7f819626cde1f2670de90d"
  }
 },
 "nbformat": 4,
 "nbformat_minor": 2
}