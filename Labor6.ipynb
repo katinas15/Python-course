{
 "cells": [
  {
   "cell_type": "markdown",
   "source": [
    "6.2\r\n",
    "\r\n",
    "Parašykite programą, kuri prie aibės A prideda sąrašo L elementus. Atsakymas turi būti pateiktas surūšiuota tvarka\r\n",
    "\r\n",
    "{\"Yellow\", \"Orange\", \"Black\"}\r\n",
    "[\"Blue\", \"Green\", \"Red\"]\r\n",
    "\r\n",
    "[’Black’, ’Blue’, ’Green’, ’Orange’, ’Red’, ’Yellow’]"
   ],
   "metadata": {}
  },
  {
   "cell_type": "code",
   "execution_count": 12,
   "source": [
    "A = eval(input())\r\n",
    "B = eval(input())\r\n",
    "\r\n",
    "A.update(B)\r\n",
    "print(sorted(A))\r\n"
   ],
   "outputs": [
    {
     "output_type": "stream",
     "name": "stdout",
     "text": [
      "['Black', 'Blue', 'Green', 'Orange', 'Red', 'Yellow']\n"
     ]
    }
   ],
   "metadata": {}
  },
  {
   "cell_type": "markdown",
   "source": [
    "6.3\r\n",
    "\r\n",
    "Parašykite programą, kuri nuskaito keturių elementų rinkinį, išpakuoja elementus į kintamuosius a, b, c, d ir išveda juos į failą kint.txt.\r\n",
    "\r\n",
    "(100, 200, 300, 400)\r\n",
    "\r\n",
    "\r\n",
    "a = 100\r\n",
    "b = 200\r\n",
    "c = 300\r\n",
    "d = 400"
   ],
   "metadata": {}
  },
  {
   "cell_type": "code",
   "execution_count": 17,
   "source": [
    "t = eval(input())\r\n",
    "a,b,c,d = t\r\n",
    "\r\n",
    "f = open('kint.txt', 'w')\r\n",
    "f.write(\"a = %i\\n\" %(a))\r\n",
    "f.write(\"b = %i\\n\" %(b))\r\n",
    "f.write(\"c = %i\\n\" %(c))\r\n",
    "f.write(\"d = %i\" %(d))\r\n",
    "f.close()"
   ],
   "outputs": [],
   "metadata": {}
  },
  {
   "cell_type": "markdown",
   "source": [
    "6.4\r\n",
    "Duotas skaitmenų sąrašas. Nustatykite, kiek skirtingų skaitmenų jame randama.\r\n",
    "\r\n",
    "1112233344555  # 5\r\n",
    "00987  # 4\r\n",
    "\r\n"
   ],
   "metadata": {}
  },
  {
   "cell_type": "code",
   "execution_count": 22,
   "source": [
    "A = set(input())\r\n",
    "print(len(A))"
   ],
   "outputs": [
    {
     "output_type": "stream",
     "name": "stdout",
     "text": [
      "{'7', '0', '8', '9'}\n",
      "4\n"
     ]
    }
   ],
   "metadata": {}
  },
  {
   "cell_type": "markdown",
   "source": [
    "6.5\r\n",
    "Duotas rinkinys t. Pakeiskite sąrašo reikšmę a reikšme b. Išveskite rinkinį t.\r\n",
    "\r\n",
    "(11, [22, 33], 44, 55)\r\n",
    "22 2000\r\n",
    "\r\n",
    "(11, [2000, 33], 44, 55)\r\n",
    "\r\n",
    "\r\n",
    "\r\n",
    "(11, 22, 44, 55)\r\n",
    "22 2000\r\n",
    "\r\n",
    "(11, 22, 44, 55)"
   ],
   "metadata": {}
  },
  {
   "cell_type": "code",
   "execution_count": 59,
   "source": [
    "t = eval(input())\r\n",
    "a, b = input().split()\r\n",
    "L = []\r\n",
    "for i in t:\r\n",
    "    if type(i).__name__ == \"list\":\r\n",
    "        L = i\r\n",
    "try:\r\n",
    "    L[L.index(int(a))] = int(b)\r\n",
    "except:\r\n",
    "    pass\r\n",
    "finally:\r\n",
    "    print(t)\r\n"
   ],
   "outputs": [
    {
     "output_type": "stream",
     "name": "stdout",
     "text": [
      "(11, [2000, 33], 44, 55)\n"
     ]
    }
   ],
   "metadata": {}
  },
  {
   "cell_type": "markdown",
   "source": [
    "6.6\r\n",
    "\r\n",
    "Duotas sąrašas L. Iš sąrašo elementų sudarykite surušiuotas aibes (set comprehension) A ir B taip, kaip parodyta.\r\n",
    "\r\n",
    "[\"10\", \"25\", \"a\", \"100\", \"c\", \"a\", \"100\", \"d\", \"b\", \"b\", \"5\"]\r\n",
    "\r\n",
    "[’a’, ’b’, ’c’, ’d’]\r\n",
    "[5, 10, 25, 100]"
   ],
   "metadata": {}
  },
  {
   "cell_type": "code",
   "execution_count": 69,
   "source": [
    "L = eval(input())\r\n",
    "A = {i for i in L if i.isalpha()}\r\n",
    "B = {int(i) for i in L if i.isnumeric()}\r\n",
    "\r\n",
    "if len(sorted(A)):\r\n",
    "    print(sorted(A))\r\n",
    "if len(sorted(B)):\r\n",
    "    print(sorted(B))"
   ],
   "outputs": [
    {
     "output_type": "stream",
     "name": "stdout",
     "text": [
      "[1, 2, 3]\n"
     ]
    }
   ],
   "metadata": {}
  },
  {
   "cell_type": "markdown",
   "source": [
    "6.7\r\n",
    "Parašykite programą, kuri iš aibės A pašalina reikšmes 100, 200 ir 300 naudojant tik vieną komandą. Rezultatą pateikite kaip surūšiuotą sąrašą (naudokite funkciją sorted).\r\n",
    "\r\n",
    "{100, 200, 300, 400, 500, 600, 700}\r\n",
    "\r\n",
    "[400, 500, 600, 700]"
   ],
   "metadata": {}
  },
  {
   "cell_type": "code",
   "execution_count": 1,
   "source": [
    "A = eval(input())\r\n",
    "B = {100, 200, 300}\r\n",
    "print(sorted(A.difference(B)))"
   ],
   "outputs": [
    {
     "output_type": "stream",
     "name": "stdout",
     "text": [
      "[400, 500, 600, 700]\n"
     ]
    }
   ],
   "metadata": {}
  },
  {
   "cell_type": "markdown",
   "source": [
    "6.8\r\n",
    "\r\n",
    "Pateikti du skaičių sąrašai. Suskaičiuokite, kiek yra elementų, esančių tiek L1, tiek ir L2 sąrašuose. Išveskite bendrų skaičių sąrąšą didėjimo tvarka.\r\n",
    "\r\n",
    "7 3 6 5 1 3 4 6 2\r\n",
    "0 0 6 8 9 3 6 4 5\r\n",
    "\r\n",
    "4\r\n",
    "[3, 4, 5, 6]\r\n",
    "\r\n",
    "\r\n",
    "\r\n",
    "1 2 3 4 5\r\n",
    "6 7 8 9 0\r\n",
    "\r\n",
    "0\r\n",
    "[]"
   ],
   "metadata": {}
  },
  {
   "cell_type": "code",
   "execution_count": 8,
   "source": [
    "L1 = set(map(int, input().split()))\r\n",
    "L2 = set(map(int, input().split()))\r\n",
    "L3 = L1.intersection(L2)\r\n",
    "print(len(L3))\r\n",
    "print(sorted(L3))"
   ],
   "outputs": [
    {
     "output_type": "stream",
     "name": "stdout",
     "text": [
      "4\n",
      "[3, 4, 5, 6]\n"
     ]
    }
   ],
   "metadata": {}
  },
  {
   "cell_type": "markdown",
   "source": [
    "6.9\r\n",
    "\r\n",
    "Parašykite programą, kuri išveda skirtingas priebalses, esančias nurodytame žodyje. Rezultatą pateikite kaip surikiuotą rinkinį iš mažųjų raidžių.\r\n",
    "Aibė iš visų balsių: set('aeiyou')\r\n",
    "\r\n",
    "Universitetas     ('n', 'r', 's', 't', 'v')\r\n",
    "\r\n",
    "Issizioti    ('s', 't', 'z')\r\n",
    "\r\n"
   ],
   "metadata": {}
  },
  {
   "cell_type": "code",
   "execution_count": 16,
   "source": [
    "balses = set('aeiyou')\r\n",
    "A = set(input().lower())\r\n",
    "print(tuple(sorted(A.difference(balses))))"
   ],
   "outputs": [
    {
     "output_type": "stream",
     "name": "stdout",
     "text": [
      "('n', 'r', 's', 't', 'v')\n"
     ]
    }
   ],
   "metadata": {}
  },
  {
   "cell_type": "markdown",
   "source": [
    "6.10\r\n",
    "\r\n",
    "Parašykite programą, kuri patikrina ar visi įvestos sekos skaičiai yra unikalūs. Jeigu įvesta tuščia seką, išveda atitinkamą pranešimą.\r\n",
    "\r\n",
    "10 12 13 10 11 15 22 19             Ne visi sekos skaiciai yra unikalus\r\n",
    "10 12 13 14 11 15                   Visi sekos skaiciai yra unikalus\r\n"
   ],
   "metadata": {}
  },
  {
   "cell_type": "code",
   "execution_count": 18,
   "source": [
    "L = input().split()\r\n",
    "S = set(L)\r\n",
    "if len(S) == len(L):\r\n",
    "    print('Visi sekos skaiciai yra unikalus')\r\n",
    "else:\r\n",
    "    print('Ne visi sekos skaiciai yra unikalus')"
   ],
   "outputs": [
    {
     "output_type": "stream",
     "name": "stdout",
     "text": [
      "Visi sekos skaiciai yra unikalus\n"
     ]
    }
   ],
   "metadata": {}
  },
  {
   "cell_type": "markdown",
   "source": [
    "6.11\r\n",
    "\r\n",
    "Duotas failas text.txt. Nepaisydami raidžių registro, raskite tekste nepasikartojančius žodžius.\r\n",
    "\r\n",
    "Output\r\n",
    "Išveskite rastų žodžių kiekį. Pačius žodžius išveskite stulpeliu ir tokia tvarka, kokia jie yra tekste.\r\n",
    "\r\n",
    "\r\n",
    "The quick brown fox jumps over the lazy dog\r\n",
    "\r\n",
    "7\r\n",
    "quick\r\n",
    "brown\r\n",
    "fox\r\n",
    "jumps\r\n",
    "over\r\n",
    "lazy\r\n",
    "dog\r\n"
   ],
   "metadata": {}
  },
  {
   "cell_type": "code",
   "execution_count": 83,
   "source": [
    "S = set()\r\n",
    "with open(\"text.txt\", 'r') as f:\r\n",
    "    lines = ''.join(f.readlines()).lower().split()\r\n",
    "    S = {x: lines.count(x) for x in lines}\r\n",
    "\r\n",
    "print(list(S.values()).count(1))\r\n",
    "for key, val in S.items():\r\n",
    "    if val < 2:\r\n",
    "        print(key)\r\n"
   ],
   "outputs": [
    {
     "output_type": "stream",
     "name": "stdout",
     "text": [
      "7\n",
      "quick\n",
      "brown\n",
      "fox\n",
      "jumps\n",
      "over\n",
      "lazy\n",
      "dog\n"
     ]
    }
   ],
   "metadata": {}
  },
  {
   "cell_type": "markdown",
   "source": [
    "6.12\r\n",
    "\r\n",
    "Parašykite programą, kuri nuskaito dvi aibes ir patikrina ar viena aibė yra kitos aibės poaibis.\r\n",
    "\r\n",
    "q w e e w r t y e t u i y e\r\n",
    "q w e                                       True\r\n",
    "\r\n",
    "1 2\r\n",
    "3 4 5 2 6 7 1 7 8 9 0                       True\r\n",
    "\r\n",
    "1 2 3   \r\n",
    "1 2 3                                       True\r\n",
    "\r\n",
    "1 2 3 4 5\r\n",
    "6 7 8 9 0                                   False"
   ],
   "metadata": {}
  },
  {
   "cell_type": "code",
   "execution_count": 2,
   "source": [
    "A = set(input())\r\n",
    "B = set(input())\r\n",
    "print(B.issubset(A) or A.issubset(B))"
   ],
   "outputs": [
    {
     "output_type": "stream",
     "name": "stdout",
     "text": [
      "True\n"
     ]
    }
   ],
   "metadata": {}
  }
 ],
 "metadata": {
  "orig_nbformat": 4,
  "language_info": {
   "name": "python",
   "version": "3.9.1",
   "mimetype": "text/x-python",
   "codemirror_mode": {
    "name": "ipython",
    "version": 3
   },
   "pygments_lexer": "ipython3",
   "nbconvert_exporter": "python",
   "file_extension": ".py"
  },
  "kernelspec": {
   "name": "python3",
   "display_name": "Python 3.9.1 64-bit"
  },
  "interpreter": {
   "hash": "63fd5069d213b44bf678585dea6b12cceca9941eaf7f819626cde1f2670de90d"
  }
 },
 "nbformat": 4,
 "nbformat_minor": 2
}