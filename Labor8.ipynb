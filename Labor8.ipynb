{
 "cells": [
  {
   "cell_type": "markdown",
   "source": [
    "8.1\r\n",
    "\r\n",
    "Parašykite programą, kuri išveda žodžius, kurių pavadinimą sudaro šešios raidės. Naudokite funkciją filter().\r\n",
    "\r\n",
    "[\"Monday\", \"Tuesday\", \"Wednesday\", \"Thursday\", \"Friday\", \"Saturday\", \"Sunday\"]\r\n",
    "[’Monday’, ’Friday’, ’Sunday’]"
   ],
   "metadata": {}
  },
  {
   "cell_type": "code",
   "execution_count": 5,
   "source": [
    "L = eval(input())\r\n",
    "print(list(filter(lambda d: len(d) == 6, L)))"
   ],
   "outputs": [
    {
     "output_type": "stream",
     "name": "stdout",
     "text": [
      "['Monday', 'Friday', 'Sunday']\n"
     ]
    }
   ],
   "metadata": {}
  },
  {
   "cell_type": "markdown",
   "source": [
    "8.2\r\n",
    "\r\n",
    "Sukurkite funkciją, kuri apskaičiuoja dviejų skaičių skirtumą. Užduotį atlikite dviem būdais:\r\n",
    "1) funkcija be parametrų: skaičiai – globalūs kintamieji, apibrėžti pagrindinėje programoje;\r\n",
    "2) funkcija su parametrais: skaičiai – funkcijos parametrai.\r\n",
    "\r\n",
    "145 29\r\n",
    "\r\n",
    "116"
   ],
   "metadata": {}
  },
  {
   "cell_type": "code",
   "execution_count": 10,
   "source": [
    "a, b = input().split()\r\n",
    "\r\n",
    "def globalSub():\r\n",
    "    print(int(a)-int(b))\r\n",
    "\r\n",
    "def paramSub(a, b):\r\n",
    "    print(int(a)-int(b))\r\n",
    "\r\n",
    "globalSub()"
   ],
   "outputs": [
    {
     "output_type": "stream",
     "name": "stdout",
     "text": [
      "116\n"
     ]
    }
   ],
   "metadata": {}
  },
  {
   "cell_type": "markdown",
   "source": [
    "8.3\r\n",
    "\r\n",
    "Sukurkite funkciją su parametru, kuris leidžia perduoti bet kokį kiekį skaičių. Funkcijos filter() pagalba randa lyginių ir nelyginių skaičių kiekius ir grąžina abi reikšmes. Išveda rezultatą.\r\n",
    "\r\n",
    "1,1,2,3,3,2,4,3,5,6,2,7,8,9\r\n",
    "\r\n",
    "Lyginiu - 6\r\n",
    "Nelyginiu - 8\r\n",
    "\r\n",
    "\r\n",
    "\r\n",
    "1,1,3,3,5,3,5,7,9,1,3\r\n",
    "\r\n",
    "Lyginiu - 0\r\n",
    "Nelyginiu - 11"
   ],
   "metadata": {}
  },
  {
   "cell_type": "code",
   "execution_count": 2,
   "source": [
    "def lygNelyg(*x):\r\n",
    "    L = list(x)\r\n",
    "    print(\"Lyginiu -\", len(list(filter(lambda x: x%2==0, L))))\r\n",
    "    print(\"Nelyginiu -\", len(list(filter(lambda x: x%2!=0, L))))\r\n",
    "\r\n",
    "inp = list(map(lambda x: int(x), input().split(','))) \r\n",
    "lygNelyg(*inp)"
   ],
   "outputs": [
    {
     "output_type": "stream",
     "name": "stdout",
     "text": [
      "1 1 2 3 3 2 4 3 5 6 2 7 8 9\n",
      "[1, 1, 2, 3, 3, 2, 4, 3, 5, 6, 2, 7, 8, 9]\n",
      "Lyginis -  6\n",
      "Nelyginis -  8\n"
     ]
    }
   ],
   "metadata": {}
  },
  {
   "cell_type": "markdown",
   "source": [
    "8.4\r\n",
    "\r\n",
    "Sukurkite funkciją, kuri gauna sąrašą L kaip parametrą, grąžina sąrašo unikalias reikšmes ir išveda pradinį sąrašą.\r\n",
    "\r\n",
    "[1,1,1,2,2,3,4,5,3,3,5,4,2,1]\r\n",
    "\r\n",
    "[1, 2, 3, 4, 5]\r\n",
    "[1, 1, 1, 2, 2, 3, 4, 5, 3, 3, 5, 4, 2, 1]\r\n",
    "\r\n",
    "\r\n",
    "\r\n",
    "\r\n",
    "[5,4,3,2,1]\r\n",
    "\r\n",
    "[5,4,3,2,1]\r\n",
    "[5,4,3,2,1]"
   ],
   "metadata": {}
  },
  {
   "cell_type": "code",
   "execution_count": 9,
   "source": [
    "def uniques(L):\r\n",
    "    print(list(dict.fromkeys(L)))\r\n",
    "    print(L)\r\n",
    "\r\n",
    "uniques(eval(input()))"
   ],
   "outputs": [
    {
     "output_type": "stream",
     "name": "stdout",
     "text": [
      "[5, 4, 3, 2, 1]\n",
      "[5, 4, 3, 2, 1]\n"
     ]
    }
   ],
   "metadata": {}
  },
  {
   "cell_type": "markdown",
   "source": [
    "8.5\r\n",
    "\r\n",
    "Sukurkite funkciją, kuri gauna skaičių n kaip parametrą. Randa ir išveda skaičiaus n skaitmenų skaičių ir sumą.\r\n",
    "\r\n",
    "1234567890\r\n",
    "10\r\n",
    "45"
   ],
   "metadata": {}
  },
  {
   "cell_type": "code",
   "execution_count": 20,
   "source": [
    "def lettersAndSum(n):\r\n",
    "    print(len(n))\r\n",
    "    print(sum(list(map(lambda x: int(x), n))))\r\n",
    "\r\n",
    "lettersAndSum(input())\r\n"
   ],
   "outputs": [
    {
     "output_type": "stream",
     "name": "stdout",
     "text": [
      "1\n",
      "5\n"
     ]
    }
   ],
   "metadata": {}
  },
  {
   "cell_type": "markdown",
   "source": [
    "8.6\r\n",
    "\r\n",
    "Sukurkite funkciją, kuri gauna sąrašą L kaip parametrą ir išveda sąrašo unikalių reikšmių skaičius ir pradinį sąrašą.\r\n",
    "\r\n",
    "[1,1,1,2,2,3,4,5,3,3,5,4,2,1]\r\n",
    "\r\n",
    "’1’ - 4\r\n",
    "’2’ - 3\r\n",
    "’3’ - 3\r\n",
    "’4’ - 2\r\n",
    "’5’ - 2\r\n",
    "[1, 1, 1, 2, 2, 3, 4, 5, 3, 3, 5, 4, 2, 1]"
   ],
   "metadata": {}
  },
  {
   "cell_type": "code",
   "execution_count": 25,
   "source": [
    "def findUniques(L):\r\n",
    "    d = {x: L.count(x) for x in L}\r\n",
    "    for k,v in d.items():\r\n",
    "        print(\"'\"+str(k)+\"'\",'-',v)\r\n",
    "    print(L)\r\n",
    "findUniques(eval(input()))"
   ],
   "outputs": [
    {
     "output_type": "stream",
     "name": "stdout",
     "text": [
      "'1' - 4\n",
      "'2' - 3\n",
      "'3' - 3\n",
      "'4' - 2\n",
      "'5' - 2\n",
      "[1, 1, 1, 2, 2, 3, 4, 5, 3, 3, 5, 4, 2, 1]\n"
     ]
    }
   ],
   "metadata": {}
  },
  {
   "cell_type": "markdown",
   "source": [
    "8.7\r\n",
    "\r\n",
    "Sukurkite funkciją, kuri gauna eilutę kaip parametrą ir grąžina sakinį, kur žodžiai parašyti atvirkštine tvarka.\r\n",
    "\r\n",
    "The quick brown fox jumps over the lazy dog\r\n",
    "\r\n",
    "dog lazy the over jumps fox brown quick The\r\n"
   ],
   "metadata": {}
  },
  {
   "cell_type": "code",
   "execution_count": 32,
   "source": [
    "def reverse(L):\r\n",
    "    s = L.split()\r\n",
    "    print(' '.join(s[::-1]))\r\n",
    "\r\n",
    "reverse(input())"
   ],
   "outputs": [
    {
     "output_type": "stream",
     "name": "stdout",
     "text": [
      "dog lazy the over jumps fox brown quick The\n"
     ]
    }
   ],
   "metadata": {}
  },
  {
   "cell_type": "markdown",
   "source": [
    "8.8\r\n",
    "\r\n",
    "Sukurkite funkciją, kuri gauna natūralųjį skaičių n kaip parametrą. Randa faktorialų sumą (1! + 2! +…+n!) ir išveda rezultatą kaip parodyta. Faktorialų skaičiavimui naudokite funkciją reduce() (modulis functools).\r\n",
    "\r\n",
    "10\r\n",
    "\r\n",
    "1! = 1\r\n",
    "2! = 2\r\n",
    "3! = 6\r\n",
    "4! = 24\r\n",
    "5! = 120\r\n",
    "6! = 720\r\n",
    "7! = 5040\r\n",
    "8! = 40320\r\n",
    "9! = 362880\r\n",
    "10! = 3628800\r\n",
    "Faktorialu suma - 4037913"
   ],
   "metadata": {}
  },
  {
   "cell_type": "code",
   "execution_count": 41,
   "source": [
    "from functools import reduce\r\n",
    "\r\n",
    "def factorials(n):\r\n",
    "    suma = 0\r\n",
    "    for x in range(1, n+1):\r\n",
    "        f = reduce(lambda x, y: x*y, range(1, x+1))\r\n",
    "        suma += f\r\n",
    "        print(\"%i! = %i\" %(x, f))\r\n",
    "    print(\"Faktorialu suma -\", suma)\r\n",
    "\r\n",
    "n = int(input())\r\n",
    "factorials(n)"
   ],
   "outputs": [
    {
     "output_type": "stream",
     "name": "stdout",
     "text": [
      "1! = 1\n",
      "2! = 2\n",
      "3! = 6\n",
      "4! = 24\n",
      "5! = 120\n",
      "6! = 720\n",
      "7! = 5040\n",
      "8! = 40320\n",
      "9! = 362880\n",
      "10! = 3628800\n",
      "Faktorialu suma - 4037913\n"
     ]
    }
   ],
   "metadata": {}
  },
  {
   "cell_type": "markdown",
   "source": [
    "8.9\r\n",
    "\r\n",
    "Sukurkite funkciją empl, kuri iškviesta su norodytais parametrais, išveda atitinkamus pranešimus.\r\n",
    "\r\n",
    "Williams,manager,2500\r\n",
    "Williams: manager, salary - 2500\r\n",
    "\r\n",
    "Smith\r\n",
    "Smith: salesman, salary - 1700"
   ],
   "metadata": {}
  },
  {
   "cell_type": "code",
   "execution_count": 44,
   "source": [
    "def empl(name, position = \"salesman\", salary = '1700'):\r\n",
    "    print(\"%s: %s, salary - %s\" %(name, position, salary))\r\n",
    "\r\n",
    "n = input().split(',')\r\n",
    "empl(*n)"
   ],
   "outputs": [
    {
     "output_type": "stream",
     "name": "stdout",
     "text": [
      "Smith: salesman, salary - 1700\n"
     ]
    }
   ],
   "metadata": {}
  },
  {
   "cell_type": "markdown",
   "source": [
    "8.10\r\n",
    "\r\n",
    "Sukurkite funkciją, kuri gauna natūralųjį skaičių n kaip parametrą ir išveda skaičius nuo 1 iki n eilute rekursijos pagalba.\r\n",
    "\r\n",
    "\r\n",
    "\r\n",
    "10\r\n",
    "1 2 3 4 5 6 7 8 9 10\r\n"
   ],
   "metadata": {}
  },
  {
   "cell_type": "code",
   "execution_count": null,
   "source": [
    "def printRecursion(string, current, final):\r\n",
    "    string += ' ' + current\r\n",
    "    if current == final:\r\n",
    "        return string\r\n",
    "    \r\n",
    "    return printRecursion(string, current+1, final)\r\n",
    "\r\n",
    "printRecursion('', 1, int(input()))"
   ],
   "outputs": [
    {
     "output_type": "error",
     "ename": "Error",
     "evalue": "Session cannot generate requests",
     "traceback": [
      "Error: Session cannot generate requests",
      "at w.executeCodeCell (c:\\Users\\laimo\\.vscode\\extensions\\ms-toolsai.jupyter-2021.8.1054968649\\out\\client\\extension.js:90:320068)",
      "at w.execute (c:\\Users\\laimo\\.vscode\\extensions\\ms-toolsai.jupyter-2021.8.1054968649\\out\\client\\extension.js:90:319389)",
      "at w.start (c:\\Users\\laimo\\.vscode\\extensions\\ms-toolsai.jupyter-2021.8.1054968649\\out\\client\\extension.js:90:315205)",
      "at runMicrotasks (<anonymous>)",
      "at processTicksAndRejections (internal/process/task_queues.js:93:5)",
      "at t.CellExecutionQueue.executeQueuedCells (c:\\Users\\laimo\\.vscode\\extensions\\ms-toolsai.jupyter-2021.8.1054968649\\out\\client\\extension.js:90:329732)",
      "at t.CellExecutionQueue.start (c:\\Users\\laimo\\.vscode\\extensions\\ms-toolsai.jupyter-2021.8.1054968649\\out\\client\\extension.js:90:329272)"
     ]
    }
   ],
   "metadata": {}
  }
 ],
 "metadata": {
  "orig_nbformat": 4,
  "language_info": {
   "name": "python",
   "version": "3.9.1",
   "mimetype": "text/x-python",
   "codemirror_mode": {
    "name": "ipython",
    "version": 3
   },
   "pygments_lexer": "ipython3",
   "nbconvert_exporter": "python",
   "file_extension": ".py"
  },
  "kernelspec": {
   "name": "python3",
   "display_name": "Python 3.9.1 64-bit"
  },
  "interpreter": {
   "hash": "63fd5069d213b44bf678585dea6b12cceca9941eaf7f819626cde1f2670de90d"
  }
 },
 "nbformat": 4,
 "nbformat_minor": 2
}