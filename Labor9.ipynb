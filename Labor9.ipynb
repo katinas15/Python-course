{
 "cells": [
  {
   "cell_type": "code",
   "execution_count": null,
   "source": [
    "9.1\r\n",
    "\r\n",
    "Duotas n studentų sarašas ir kiekvieno studento pažymiai. Jūms reikia atlikti q užklausų. Galimos užklausos:\r\n",
    "\r\n",
    "add_mark Vardas Pavardė Pažymis, čia studentui su vardu Vardas ir pavarde Pavardė pridėti atitinkamą pažymį.\r\n",
    "stud_info Vardas Pavadė, čia reikia išspausdinti studento su duotu vardu ir pavarde pažymių vidurkį.\r\n",
    "\r\n",
    "Visas užklausas privaloma atlikti naudojant klases.\r\n",
    "\r\n",
    "\r\n",
    "3\r\n",
    "Petras Petraitis [9,9,8,10]\r\n",
    "Jonas Jonaitis [10,10,7]\r\n",
    "Petras Jonaitis [9]\r\n",
    "\r\n",
    "4\r\n",
    "add_mark Petras Petraitis 10\r\n",
    "add_mark Petras Jonaitis 5\r\n",
    "stud_info Petras Petraitis\r\n",
    "stud_info Petras Jonaitis\r\n",
    "\r\n",
    "\r\n",
    "\r\n",
    "9.2\r\n",
    "7.0\r\n"
   ],
   "outputs": [],
   "metadata": {}
  },
  {
   "cell_type": "code",
   "execution_count": 12,
   "source": [
    "class Studentas:\r\n",
    "    studentai = []\r\n",
    "    def __init__(self, vardas, pavarde, pazymiai):\r\n",
    "        self.vardas = vardas\r\n",
    "        self.pavarde = pavarde\r\n",
    "        self.pazymiai = pazymiai\r\n",
    "        Studentas.studentai.append(self)\r\n",
    "\r\n",
    "    @staticmethod\r\n",
    "    def add_mark(vardas, pavarde, pazymys):\r\n",
    "        pazymys = int(pazymys)\r\n",
    "        for studentas in Studentas.studentai:\r\n",
    "            if studentas.vardas == vardas and studentas.pavarde == pavarde:\r\n",
    "                studentas.pazymiai.append(pazymys)\r\n",
    "\r\n",
    "    @staticmethod\r\n",
    "    def stud_info(vardas, pavarde):\r\n",
    "        for studentas in Studentas.studentai:\r\n",
    "            if studentas.vardas == vardas and studentas.pavarde == pavarde:\r\n",
    "                print(sum(studentas.pazymiai)/len(studentas.pazymiai))\r\n",
    "\r\n",
    "n = int(input())\r\n",
    "for i in range(n):\r\n",
    "    vardas, pavarde, pazymiai = input().split()\r\n",
    "    pazymiai = eval(pazymiai)\r\n",
    "    Studentas(vardas, pavarde, pazymiai)\r\n",
    "\r\n",
    "n = int(input())\r\n",
    "for i in range(n):\r\n",
    "    methodName, *args = input().split()\r\n",
    "    method = getattr(Studentas, methodName)\r\n",
    "    method(*args)\r\n"
   ],
   "outputs": [
    {
     "output_type": "stream",
     "name": "stdout",
     "text": [
      "9.2\n",
      "7.0\n"
     ]
    }
   ],
   "metadata": {}
  },
  {
   "cell_type": "markdown",
   "source": [
    "9.2\r\n",
    "\r\n",
    "Sukurkite klasę pavadinimu Restaurant.\r\n",
    "Metodo __init __ () pagalba sukurkite du atributus: restaurant_name ir cuisine_type.\r\n",
    "Sukurkite metodą describe_restaurant(), kuris išspausdina šią informaciją:\r\n",
    "Restaurant name;\r\n",
    "Cuisine type;\r\n",
    "Sukurkite metodą open_restaurant(), kuris išspausdina pranešimą, nurodantį kad restoranas dirba.\r\n",
    "Sukurkite klasės egzempliorių.\r\n",
    "Išveskite atskirai atributus restaurant_name ir cuisine_type.\r\n",
    "Iškvieskite abu metodus.\r\n",
    "Jūms bus pateiktas restaurant_name ir cuisine_type ir belieka alikti visus veiksmus aprašytus aukščiau.\r\n",
    "\r\n",
    "\r\n",
    "\r\n",
    "Starbelly, Korean\r\n",
    "\r\n",
    "\r\n",
    "Starbelly Korean\r\n",
    "Starbelly\r\n",
    "Korean\r\n",
    "Restoranas dirba"
   ],
   "metadata": {}
  },
  {
   "cell_type": "code",
   "execution_count": 14,
   "source": [
    "class Restaurant:\r\n",
    "    def __init__(self, restaurant_name, cuisine_type):\r\n",
    "        self.restaurant_name = restaurant_name\r\n",
    "        self.cuisine_type = cuisine_type\r\n",
    "\r\n",
    "    def describe_restaurant(self):\r\n",
    "        print(f\"{self.restaurant_name} {self.cuisine_type}\")\r\n",
    "\r\n",
    "    def open_restaurant(self):\r\n",
    "        print(\"Restoranas dirba\")\r\n",
    "\r\n",
    "\r\n",
    "restaurant = Restaurant(*input().split(', '))\r\n",
    "restaurant.describe_restaurant()\r\n",
    "print(restaurant.restaurant_name)\r\n",
    "print(restaurant.cuisine_type)\r\n",
    "restaurant.open_restaurant()"
   ],
   "outputs": [
    {
     "output_type": "stream",
     "name": "stdout",
     "text": [
      "Starbelly Korean\n",
      "Starbelly\n",
      "Korean\n",
      "Restoranas dirba\n"
     ]
    }
   ],
   "metadata": {}
  },
  {
   "cell_type": "markdown",
   "source": [
    "9.3\r\n",
    "\r\n",
    "Klasėje Restaurant (2 užduotis) pridėkite atributą, pavadintą number_served, suteikite jam numatytąją reikšmę lygią nuliui.\r\n",
    "Sukurkite naują klasės egzempliorių. Išspausdinkite number_served reikšmę.\r\n",
    "Sukurkite dar vieną metodą, pavadintą set_number_served(), kuris leidžia priskirti aptarnautų klientų skaičių number_served.\r\n",
    "Iškvieskite metodą set_number_served() su argumento reikšme = x.\r\n",
    "Išspausdinkite number_served reikšmę.\r\n",
    "Pridėkite metodą, pavadintą increment_number_served(), kuris leidžia didinti aptarnautų klientų skaičių vienetu.\r\n",
    "n kartu iškvieskite metodą increment_number_served().\r\n",
    "Išspausdinkite number_served reikšmę.\r\n",
    "Jūms duoti du skaičiai x ir n. Atlikite aukščiau paminėtus veiksmu"
   ],
   "metadata": {}
  },
  {
   "cell_type": "code",
   "execution_count": 16,
   "source": [
    "class Restaurant:\r\n",
    "    def __init__(self):\r\n",
    "        self.number_served = 0\r\n",
    "\r\n",
    "    def set_number_served(self, number_served):\r\n",
    "        self.number_served = number_served\r\n",
    "\r\n",
    "    def increase_number_served(self):\r\n",
    "        self.number_served += 1\r\n",
    "\r\n",
    "\r\n",
    "restaurant = Restaurant()\r\n",
    "x, n = input().split()\r\n",
    "print(restaurant.number_served)\r\n",
    "\r\n",
    "restaurant.set_number_served(int(x))\r\n",
    "print(restaurant.number_served)\r\n",
    "\r\n",
    "for x in range(int(n)):\r\n",
    "    restaurant.increase_number_served()\r\n",
    "\r\n",
    "print(restaurant.number_served)"
   ],
   "outputs": [
    {
     "output_type": "stream",
     "name": "stdout",
     "text": [
      "0\n",
      "1\n",
      "3\n"
     ]
    }
   ],
   "metadata": {}
  }
 ],
 "metadata": {
  "orig_nbformat": 4,
  "language_info": {
   "name": "python",
   "version": "3.9.1",
   "mimetype": "text/x-python",
   "codemirror_mode": {
    "name": "ipython",
    "version": 3
   },
   "pygments_lexer": "ipython3",
   "nbconvert_exporter": "python",
   "file_extension": ".py"
  },
  "kernelspec": {
   "name": "python3",
   "display_name": "Python 3.9.1 64-bit"
  },
  "interpreter": {
   "hash": "63fd5069d213b44bf678585dea6b12cceca9941eaf7f819626cde1f2670de90d"
  }
 },
 "nbformat": 4,
 "nbformat_minor": 2
}