{
 "cells": [
  {
   "cell_type": "markdown",
   "id": "bdf19051",
   "metadata": {},
   "source": [
    "5.1"
   ]
  },
  {
   "cell_type": "code",
   "execution_count": 10,
   "id": "82a777b0",
   "metadata": {},
   "outputs": [
    {
     "name": "stdout",
     "output_type": "stream",
     "text": [
      "13\n",
      "1 1 3 1 4 5 6 7 5 9 0 0 2\n",
      "1\n",
      "Elemento \"1\"  indeksas - 0\n",
      "Elementas is pozicijos 0 pasalintas\n",
      "Liko \"1\" elementu sarase - 2\n"
     ]
    }
   ],
   "source": [
    "n = input()\n",
    "L = input().split()\n",
    "f = input()\n",
    "try:\n",
    "    index = L.index(f)\n",
    "    L.remove(f)\n",
    "    print('Elemento \"' + str(f) + '\" indeksas - ' + str(index))\n",
    "    print(\"Elementas is pozicijos \" + str(index) + \" pasalintas\")\n",
    "    print('Liko \"' + str(f) + '\" elementu sarase - ' + str(L.count(f)))\n",
    "except:\n",
    "    print(\"Tokio elemento sarase nera\")"
   ]
  },
  {
   "cell_type": "markdown",
   "id": "c2e603e2",
   "metadata": {},
   "source": [
    "5.2"
   ]
  },
  {
   "cell_type": "code",
   "execution_count": 2,
   "id": "4fcee42d",
   "metadata": {},
   "outputs": [
    {
     "name": "stdout",
     "output_type": "stream",
     "text": [
      "13\n",
      "1 1 3 1 4 5 6 7 5 9 0 0 2\n",
      "1\n",
      "[3, 4, 5, 6, 7, 5, 9, 0, 0, 2]\n",
      "3\n"
     ]
    }
   ],
   "source": [
    "n = input()\n",
    "L = input().split()\n",
    "f = input()\n",
    "count = 0\n",
    "while True:\n",
    "    try:\n",
    "        index = L.index(f)\n",
    "        L.remove(f)\n",
    "        count += 1\n",
    "    except:\n",
    "        if count:\n",
    "            print(str(L).replace(\"'\", \"\"))\n",
    "            print(count)\n",
    "        else:\n",
    "            print(\"Tokio elemento sarase nera\")\n",
    "        break"
   ]
  },
  {
   "cell_type": "markdown",
   "id": "06e4ed61",
   "metadata": {},
   "source": [
    "5.3"
   ]
  },
  {
   "cell_type": "code",
   "execution_count": null,
   "id": "1b30b0f7",
   "metadata": {},
   "outputs": [],
   "source": []
  },
  {
   "cell_type": "code",
   "execution_count": 2,
   "id": "6c7e5e92",
   "metadata": {},
   "outputs": [
    {
     "name": "stdout",
     "output_type": "stream",
     "text": [
      "3\n",
      "Ha Ne Ye\n",
      "3\n",
      "ppy w ar!\n",
      "['Happy', 'New', 'Year!']\n"
     ]
    }
   ],
   "source": [
    "n1 = int(input())\n",
    "if n1 > 0:\n",
    "    L1 = input().split()\n",
    "    \n",
    "n2 = int(input())\n",
    "if n2 > 0:\n",
    "    L2 = input().split()\n",
    "    \n",
    "L = []\n",
    "\n",
    "for i in range(max(n1, n2)):\n",
    "    if i >= n1:\n",
    "        L.append(L2[i])\n",
    "    elif i >= n2:\n",
    "        L.append(L1[i])\n",
    "    else:\n",
    "        L.append(L1[i] + L2[i])\n",
    "    \n",
    "print(L)"
   ]
  },
  {
   "cell_type": "code",
   "execution_count": 3,
   "id": "064bf82f",
   "metadata": {},
   "outputs": [
    {
     "name": "stdout",
     "output_type": "stream",
     "text": [
      "3\n",
      "Ha Ne Ye\n",
      "3\n",
      "ppy w ar!\n",
      "['Happy', 'New', 'Year!']\n"
     ]
    }
   ],
   "source": [
    "n1 = int(input())\n",
    "if n1 > 0:\n",
    "    L1 = input().split()\n",
    "    \n",
    "n2 = int(input())\n",
    "if n2 > 0:\n",
    "    L2 = input().split()\n",
    "    \n",
    "L = []\n",
    "\n",
    "for i, j in zip(L1, L2):\n",
    "    L.append(i + j)\n",
    "    \n",
    "print(L)"
   ]
  },
  {
   "cell_type": "code",
   "execution_count": null,
   "id": "2cb2b9b3",
   "metadata": {},
   "outputs": [],
   "source": [
    "5.4"
   ]
  },
  {
   "cell_type": "code",
   "execution_count": 6,
   "id": "51dd3849",
   "metadata": {},
   "outputs": [
    {
     "name": "stdout",
     "output_type": "stream",
     "text": [
      "7\n",
      "1 2 3 4 5 6 7\n",
      "[1, 4, 9, 16, 25, 36, 49]\n"
     ]
    }
   ],
   "source": [
    "n1 = int(input())\n",
    "L = []\n",
    "if n1 > 0:\n",
    "    L = input().split()\n",
    "    \n",
    "L = [int(x)*int(x) for x in L]\n",
    "print(L)"
   ]
  },
  {
   "cell_type": "code",
   "execution_count": 12,
   "id": "3df5a692",
   "metadata": {},
   "outputs": [
    {
     "data": {
      "text/plain": [
       "700"
      ]
     },
     "execution_count": 12,
     "metadata": {},
     "output_type": "execute_result"
    }
   ],
   "source": [
    "5.5\n",
    "\n",
    "[1, 2, [30, 40, [500, 600], 50], 3, 4]\n",
    "600\n",
    "700"
   ]
  },
  {
   "cell_type": "code",
   "execution_count": 18,
   "id": "e54bc12f",
   "metadata": {},
   "outputs": [
    {
     "name": "stdout",
     "output_type": "stream",
     "text": [
      "[6, 6, [6, 6, [6, 6], 6, 6], [[6, 6], 6], 6]\n",
      "6\n",
      "7\n",
      "[6, 7, 6, 7, [6, 7, 6, 7, [6, 7, 6, 7], 6, 7, 6, 7], [[6, 7, 6, 7], 6, 7], 6, 7]\n"
     ]
    }
   ],
   "source": [
    "def findAndAppend(arr, find, append):\n",
    "    for index, i in enumerate(arr):\n",
    "        if type(i).__name__ == 'list':\n",
    "            findAndAppend(i, find, append)\n",
    "        elif int(i) == find:\n",
    "            arr.insert(index + 1, append)\n",
    "    return arr\n",
    "            \n",
    "\n",
    "L = eval(input())\n",
    "a = int(input())\n",
    "b = int(input())\n",
    "\n",
    "print(findAndAppend(L, a, b))"
   ]
  },
  {
   "cell_type": "code",
   "execution_count": null,
   "id": "aa76ecc8",
   "metadata": {},
   "outputs": [],
   "source": [
    "5.6\n",
    "[19542209, 4887871, 1420491, 626299, 1805832, 39865590]\n",
    "[\"New York\", \"Alabama\", \"Hawaii\", \"Vermont\", \"West Virginia\", \"California\"]"
   ]
  },
  {
   "cell_type": "code",
   "execution_count": 19,
   "id": "0b6900dd",
   "metadata": {
    "scrolled": true
   },
   "outputs": [
    {
     "name": "stdout",
     "output_type": "stream",
     "text": [
      "[19542209, 4887871, 1420491, 626299, 1805832, 39865590]\n",
      "[\"New York\", \"Alabama\", \"Hawaii\", \"Vermont\", \"West Virginia\", \"California\"]\n",
      "[19542209, 'New York']\n",
      "[4887871, 'Alabama']\n",
      "[1420491, 'Hawaii']\n",
      "[626299, 'Vermont']\n",
      "[1805832, 'West Virginia']\n",
      "[39865590, 'California']\n"
     ]
    }
   ],
   "source": [
    "L1 = eval(input())\n",
    "L2 = eval(input())\n",
    "\n",
    "for i, j in zip(L1, L2):\n",
    "    L = []\n",
    "    L.append(i)\n",
    "    L.append(j)\n",
    "    print(L)"
   ]
  },
  {
   "cell_type": "code",
   "execution_count": null,
   "id": "d42a6a71",
   "metadata": {},
   "outputs": [],
   "source": [
    "5.7\n",
    "[\"a\", \"b\", \"c\", \"d\", \"e\"]\n",
    "[1, 2, 3, 4, 5]\n"
   ]
  },
  {
   "cell_type": "code",
   "execution_count": 20,
   "id": "6939a11a",
   "metadata": {},
   "outputs": [
    {
     "name": "stdout",
     "output_type": "stream",
     "text": [
      "[\"a\", \"b\", \"c\", \"d\", \"e\"]\n",
      "[1, 2, 3, 4, 5]\n",
      "a\n",
      "bb\n",
      "ccc\n",
      "dddd\n",
      "eeeee\n"
     ]
    }
   ],
   "source": [
    "L1 = eval(input())\n",
    "L2 = eval(input())\n",
    "\n",
    "for i, j in zip(L1, L2):\n",
    "    print(i * int(j))"
   ]
  },
  {
   "cell_type": "code",
   "execution_count": null,
   "id": "5561c6c2",
   "metadata": {},
   "outputs": [],
   "source": [
    "5.8\n",
    "[10, 20, 30, 20, 10, 50, 60, 40, 80, 50, 40]"
   ]
  },
  {
   "cell_type": "code",
   "execution_count": 22,
   "id": "075f75c2",
   "metadata": {},
   "outputs": [
    {
     "name": "stdout",
     "output_type": "stream",
     "text": [
      "[10, 20, 30, 20, 10, 50, 60, 40, 80, 50, 40]\n",
      "[10, 20, 30, 50, 60, 40, 80]\n"
     ]
    }
   ],
   "source": [
    "L = eval(input())\n",
    "res = []\n",
    "[res.append(x) for x in L if x not in res]\n",
    "print(res)"
   ]
  },
  {
   "cell_type": "code",
   "execution_count": 23,
   "id": "28c8c384",
   "metadata": {},
   "outputs": [
    {
     "ename": "SyntaxError",
     "evalue": "invalid syntax (Temp/ipykernel_388/3856673106.py, line 3)",
     "output_type": "error",
     "traceback": [
      "\u001b[1;36m  File \u001b[1;32m\"C:\\Users\\laimo\\AppData\\Local\\Temp/ipykernel_388/3856673106.py\"\u001b[1;36m, line \u001b[1;32m3\u001b[0m\n\u001b[1;33m    The quick brown fox jumps over the lazy dog\u001b[0m\n\u001b[1;37m        ^\u001b[0m\n\u001b[1;31mSyntaxError\u001b[0m\u001b[1;31m:\u001b[0m invalid syntax\n"
     ]
    }
   ],
   "source": [
    "5.9\n",
    "\n",
    "The quick brown fox jumps over the lazy dog\n",
    "4\n",
    "\n",
    "The quick brown fox jumps over the lazy dog\n",
    "6"
   ]
  },
  {
   "cell_type": "code",
   "execution_count": 6,
   "id": "64d01295",
   "metadata": {},
   "outputs": [
    {
     "name": "stdout",
     "output_type": "stream",
     "text": [
      "The quick brown fox jumps over the lazy dog\n",
      "6\n",
      "['The', 'quick', 'brown', 'fox', 'jumps', 'over', 'the', 'lazy', 'dog']\n",
      "Tokiu zodziu eiluteje nera\n"
     ]
    }
   ],
   "source": [
    "L = input().split()\n",
    "n = int(input())\n",
    "res = []\n",
    "[res.append(x) for x in L if len(x) >= n]\n",
    "\n",
    "if len(res) > 0:\n",
    "    print(res)\n",
    "else:\n",
    "    print(\"Tokiu zodziu eiluteje nera\")"
   ]
  },
  {
   "cell_type": "code",
   "execution_count": null,
   "id": "9a2886b0",
   "metadata": {},
   "outputs": [],
   "source": [
    "5.10\n",
    "\n",
    "5  [5]\n",
    "\n",
    "8  [2, 2, 2]\n",
    "\n",
    "63  [3, 3, 7]"
   ]
  },
  {
   "cell_type": "code",
   "execution_count": 10,
   "id": "6e43fe5c",
   "metadata": {},
   "outputs": [
    {
     "name": "stdout",
     "output_type": "stream",
     "text": [
      "63\n",
      "[3, 3, 7]\n"
     ]
    }
   ],
   "source": [
    "n = int(input())\n",
    "output = []\n",
    "while n > 1:\n",
    "    for i in range(2, n + 1):\n",
    "        if n % i == 0:\n",
    "            output.append(i)\n",
    "            n = int(n / i)\n",
    "            break\n",
    "print(output)"
   ]
  },
  {
   "cell_type": "code",
   "execution_count": null,
   "id": "d93ed66b",
   "metadata": {},
   "outputs": [],
   "source": [
    "5.11\n",
    "[2, 5, 10, 3, 2, 5, 3, 56, 34, 87, 234, 2, 687, 4, 19, 3]    3"
   ]
  },
  {
   "cell_type": "code",
   "execution_count": 18,
   "id": "18d8fd64",
   "metadata": {},
   "outputs": [
    {
     "name": "stdout",
     "output_type": "stream",
     "text": [
      "[2, 5, 10, 3, 2, 5, 3, 56, 34, 87, 234, 2, 687, 4, 19, 3]\n",
      "[2, 2, 2, 3, 3, 3, 4, 5, 5, 10, 19, 34, 56, 87, 234, 687]\n",
      "[3, 3, 3, 4, 5, 5, 10, 19, 34, 56, 87, 234, 687]\n",
      "3\n"
     ]
    }
   ],
   "source": [
    "L = eval(input())\n",
    "L.sort()\n",
    "minNum = min(L)\n",
    "while minNum in L: \n",
    "    L.remove(minNum)\n",
    "print(L[0])"
   ]
  },
  {
   "cell_type": "code",
   "execution_count": null,
   "id": "420e823e",
   "metadata": {},
   "outputs": [],
   "source": [
    "5.12\n",
    "\n",
    "1 12 3 2 4 0 23 -2 11          12 4 23 11"
   ]
  },
  {
   "cell_type": "code",
   "execution_count": 22,
   "id": "f8e0b7d6",
   "metadata": {},
   "outputs": [
    {
     "name": "stdout",
     "output_type": "stream",
     "text": [
      "1 12 3 2 4 0 23 -2 11 \n",
      "12 4 23 11\n"
     ]
    }
   ],
   "source": [
    "L = input().split()\n",
    "text = \"\"\n",
    "for index in range(1, len(L)):\n",
    "    if int(L[index-1]) < int(L[index]):\n",
    "        text += L[index] + \" \"\n",
    "        \n",
    "print(text[:-1])"
   ]
  },
  {
   "cell_type": "code",
   "execution_count": 4,
   "id": "0f34bdb2",
   "metadata": {},
   "outputs": [
    {
     "ename": "SyntaxError",
     "evalue": "invalid syntax (Temp/ipykernel_17268/2981752590.py, line 4)",
     "output_type": "error",
     "traceback": [
      "\u001b[1;36m  File \u001b[1;32m\"C:\\Users\\laimo\\AppData\\Local\\Temp/ipykernel_17268/2981752590.py\"\u001b[1;36m, line \u001b[1;32m4\u001b[0m\n\u001b[1;33m    1 3 4 6 2\u001b[0m\n\u001b[1;37m      ^\u001b[0m\n\u001b[1;31mSyntaxError\u001b[0m\u001b[1;31m:\u001b[0m invalid syntax\n"
     ]
    }
   ],
   "source": [
    "5.13\n",
    "\n",
    "3\n",
    "1 3 4 6 2\n",
    "3 4 5\n",
    "5 3 2 23 0  \n",
    "\n",
    "\n",
    "1 eilute: min: 1, max: 6\n",
    "2 eilute: min: 3, max: 5\n",
    "3 eilute: min: 0, max: 23"
   ]
  },
  {
   "cell_type": "code",
   "execution_count": 9,
   "id": "cc5f236d",
   "metadata": {},
   "outputs": [
    {
     "name": "stdout",
     "output_type": "stream",
     "text": [
      "3\n",
      "1 3 4 6 2\n",
      "1 eilute: min: 1. max: 6\n",
      "3 4 5\n",
      "2 eilute: min: 3. max: 5\n",
      "5 3 2 23 0  \n",
      "3 eilute: min: 0. max: 23\n"
     ]
    }
   ],
   "source": [
    "n = int(input())\n",
    "for i in range(1, n+1):\n",
    "    L = list(map(int, input().split()))\n",
    "    print(\"%s eilute: min: %s, max: %s\" %(i, min(L),max(L)))"
   ]
  },
  {
   "cell_type": "code",
   "execution_count": 17,
   "id": "07fdb670",
   "metadata": {},
   "outputs": [
    {
     "ename": "SyntaxError",
     "evalue": "invalid syntax (Temp/ipykernel_17268/2821489623.py, line 4)",
     "output_type": "error",
     "traceback": [
      "\u001b[1;36m  File \u001b[1;32m\"C:\\Users\\laimo\\AppData\\Local\\Temp/ipykernel_17268/2821489623.py\"\u001b[1;36m, line \u001b[1;32m4\u001b[0m\n\u001b[1;33m    1 2 3 4\u001b[0m\n\u001b[1;37m      ^\u001b[0m\n\u001b[1;31mSyntaxError\u001b[0m\u001b[1;31m:\u001b[0m invalid syntax\n"
     ]
    }
   ],
   "source": [
    "5.14\n",
    "\n",
    "3\n",
    "1 2 3 4\n",
    "1 2 3 4\n",
    "1 2 3 4\n",
    "1 2\n",
    "\n",
    "[2, 1, 3, 4]\n",
    "[2, 1, 3, 4]\n",
    "[2, 1, 3, 4]"
   ]
  },
  {
   "cell_type": "code",
   "execution_count": 18,
   "id": "6e27f44d",
   "metadata": {},
   "outputs": [
    {
     "name": "stdout",
     "output_type": "stream",
     "text": [
      "3\n",
      "1 2 3 4\n",
      "1 2 3 4\n",
      "1 2 3 4\n",
      "1 2\n",
      "[2, 1, 3, 4]\n",
      "[2, 1, 3, 4]\n",
      "[2, 1, 3, 4]\n"
     ]
    }
   ],
   "source": [
    "n = int(input())\n",
    "LM = []\n",
    "for i in range(n):\n",
    "    L = list(map(int, input().split()))\n",
    "    LM.append(L)\n",
    "    \n",
    "a, b = list(map(int, input().split()))\n",
    "for i in range(n):\n",
    "    temp = LM[i][a-1], LM[i][b-1]\n",
    "    LM[i][b-1], LM[i][a-1] = temp\n",
    "    \n",
    "for i in range(n):\n",
    "    print(LM[i])"
   ]
  },
  {
   "cell_type": "code",
   "execution_count": null,
   "id": "f333730f",
   "metadata": {},
   "outputs": [],
   "source": []
  },
  {
   "cell_type": "code",
   "execution_count": null,
   "id": "4369020a",
   "metadata": {},
   "outputs": [],
   "source": []
  },
  {
   "cell_type": "code",
   "execution_count": null,
   "id": "fabf4de2",
   "metadata": {},
   "outputs": [],
   "source": []
  },
  {
   "cell_type": "code",
   "execution_count": null,
   "id": "cb809a25",
   "metadata": {},
   "outputs": [],
   "source": []
  },
  {
   "cell_type": "code",
   "execution_count": null,
   "id": "dbe5f9d1",
   "metadata": {},
   "outputs": [],
   "source": []
  }
 ],
 "metadata": {
  "kernelspec": {
   "display_name": "Python 3 (ipykernel)",
   "language": "python",
   "name": "python3"
  },
  "language_info": {
   "codemirror_mode": {
    "name": "ipython",
    "version": 3
   },
   "file_extension": ".py",
   "mimetype": "text/x-python",
   "name": "python",
   "nbconvert_exporter": "python",
   "pygments_lexer": "ipython3",
   "version": "3.9.1"
  }
 },
 "nbformat": 4,
 "nbformat_minor": 5
}
