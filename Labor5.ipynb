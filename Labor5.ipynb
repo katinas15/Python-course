{
 "cells": [
  {
   "cell_type": "code",
   "execution_count": null,
   "id": "973a3164",
   "metadata": {},
   "outputs": [],
   "source": [
    "5.1"
   ]
  },
  {
   "cell_type": "code",
   "execution_count": 10,
   "id": "82a777b0",
   "metadata": {},
   "outputs": [
    {
     "name": "stdout",
     "output_type": "stream",
     "text": [
      "13\n",
      "1 1 3 1 4 5 6 7 5 9 0 0 2\n",
      "1\n",
      "Elemento \"1\"  indeksas - 0\n",
      "Elementas is pozicijos 0 pasalintas\n",
      "Liko \"1\" elementu sarase - 2\n"
     ]
    }
   ],
   "source": [
    "n = input()\n",
    "L = input().split()\n",
    "f = input()\n",
    "try:\n",
    "    index = L.index(f)\n",
    "    L.remove(f)\n",
    "    print('Elemento \"' + str(f) + '\" indeksas - ' + str(index))\n",
    "    print(\"Elementas is pozicijos \" + str(index) + \" pasalintas\")\n",
    "    print('Liko \"' + str(f) + '\" elementu sarase - ' + str(L.count(f)))\n",
    "except:\n",
    "    print(\"Tokio elemento sarase nera\")"
   ]
  },
  {
   "cell_type": "code",
   "execution_count": null,
   "id": "bd9434dc",
   "metadata": {},
   "outputs": [],
   "source": [
    "5.2"
   ]
  },
  {
   "cell_type": "code",
   "execution_count": 2,
   "id": "4fcee42d",
   "metadata": {},
   "outputs": [
    {
     "name": "stdout",
     "output_type": "stream",
     "text": [
      "13\n",
      "1 1 3 1 4 5 6 7 5 9 0 0 2\n",
      "1\n",
      "[3, 4, 5, 6, 7, 5, 9, 0, 0, 2]\n",
      "3\n"
     ]
    }
   ],
   "source": [
    "n = input()\n",
    "L = input().split()\n",
    "f = input()\n",
    "count = 0\n",
    "while True:\n",
    "    try:\n",
    "        index = L.index(f)\n",
    "        L.remove(f)\n",
    "        count += 1\n",
    "    except:\n",
    "        if count:\n",
    "            print(str(L).replace(\"'\", \"\"))\n",
    "            print(count)\n",
    "        else:\n",
    "            print(\"Tokio elemento sarase nera\")\n",
    "        break"
   ]
  },
  {
   "cell_type": "code",
   "execution_count": null,
   "id": "22dff64a",
   "metadata": {},
   "outputs": [],
   "source": []
  },
  {
   "cell_type": "code",
   "execution_count": null,
   "id": "6c7e5e92",
   "metadata": {},
   "outputs": [],
   "source": []
  },
  {
   "cell_type": "code",
   "execution_count": null,
   "id": "2cb2b9b3",
   "metadata": {},
   "outputs": [],
   "source": []
  },
  {
   "cell_type": "code",
   "execution_count": null,
   "id": "51dd3849",
   "metadata": {},
   "outputs": [],
   "source": []
  },
  {
   "cell_type": "code",
   "execution_count": null,
   "id": "3df5a692",
   "metadata": {},
   "outputs": [],
   "source": []
  },
  {
   "cell_type": "code",
   "execution_count": null,
   "id": "6923bd25",
   "metadata": {},
   "outputs": [],
   "source": []
  },
  {
   "cell_type": "code",
   "execution_count": null,
   "id": "aa76ecc8",
   "metadata": {},
   "outputs": [],
   "source": []
  },
  {
   "cell_type": "code",
   "execution_count": null,
   "id": "18d8fd64",
   "metadata": {},
   "outputs": [],
   "source": []
  }
 ],
 "metadata": {
  "kernelspec": {
   "display_name": "Python 3 (ipykernel)",
   "language": "python",
   "name": "python3"
  },
  "language_info": {
   "codemirror_mode": {
    "name": "ipython",
    "version": 3
   },
   "file_extension": ".py",
   "mimetype": "text/x-python",
   "name": "python",
   "nbconvert_exporter": "python",
   "pygments_lexer": "ipython3",
   "version": "3.9.1"
  }
 },
 "nbformat": 4,
 "nbformat_minor": 5
}
