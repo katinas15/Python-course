{
 "cells": [
  {
   "cell_type": "markdown",
   "source": [
    "5.1"
   ],
   "metadata": {}
  },
  {
   "cell_type": "code",
   "execution_count": 10,
   "source": [
    "n = input()\r\n",
    "L = input().split()\r\n",
    "f = input()\r\n",
    "try:\r\n",
    "    index = L.index(f)\r\n",
    "    L.remove(f)\r\n",
    "    print('Elemento \"' + str(f) + '\" indeksas - ' + str(index))\r\n",
    "    print(\"Elementas is pozicijos \" + str(index) + \" pasalintas\")\r\n",
    "    print('Liko \"' + str(f) + '\" elementu sarase - ' + str(L.count(f)))\r\n",
    "except:\r\n",
    "    print(\"Tokio elemento sarase nera\")"
   ],
   "outputs": [
    {
     "output_type": "stream",
     "name": "stdout",
     "text": [
      "13\n",
      "1 1 3 1 4 5 6 7 5 9 0 0 2\n",
      "1\n",
      "Elemento \"1\"  indeksas - 0\n",
      "Elementas is pozicijos 0 pasalintas\n",
      "Liko \"1\" elementu sarase - 2\n"
     ]
    }
   ],
   "metadata": {}
  },
  {
   "cell_type": "markdown",
   "source": [
    "5.2"
   ],
   "metadata": {}
  },
  {
   "cell_type": "code",
   "execution_count": 2,
   "source": [
    "n = input()\r\n",
    "L = input().split()\r\n",
    "f = input()\r\n",
    "count = 0\r\n",
    "while True:\r\n",
    "    try:\r\n",
    "        index = L.index(f)\r\n",
    "        L.remove(f)\r\n",
    "        count += 1\r\n",
    "    except:\r\n",
    "        if count:\r\n",
    "            print(str(L).replace(\"'\", \"\"))\r\n",
    "            print(count)\r\n",
    "        else:\r\n",
    "            print(\"Tokio elemento sarase nera\")\r\n",
    "        break"
   ],
   "outputs": [
    {
     "output_type": "stream",
     "name": "stdout",
     "text": [
      "13\n",
      "1 1 3 1 4 5 6 7 5 9 0 0 2\n",
      "1\n",
      "[3, 4, 5, 6, 7, 5, 9, 0, 0, 2]\n",
      "3\n"
     ]
    }
   ],
   "metadata": {}
  },
  {
   "cell_type": "markdown",
   "source": [
    "5.3"
   ],
   "metadata": {}
  },
  {
   "cell_type": "code",
   "execution_count": null,
   "source": [],
   "outputs": [],
   "metadata": {}
  },
  {
   "cell_type": "code",
   "execution_count": 2,
   "source": [
    "n1 = int(input())\r\n",
    "if n1 > 0:\r\n",
    "    L1 = input().split()\r\n",
    "    \r\n",
    "n2 = int(input())\r\n",
    "if n2 > 0:\r\n",
    "    L2 = input().split()\r\n",
    "    \r\n",
    "L = []\r\n",
    "\r\n",
    "for i in range(max(n1, n2)):\r\n",
    "    if i >= n1:\r\n",
    "        L.append(L2[i])\r\n",
    "    elif i >= n2:\r\n",
    "        L.append(L1[i])\r\n",
    "    else:\r\n",
    "        L.append(L1[i] + L2[i])\r\n",
    "    \r\n",
    "print(L)"
   ],
   "outputs": [
    {
     "output_type": "stream",
     "name": "stdout",
     "text": [
      "3\n",
      "Ha Ne Ye\n",
      "3\n",
      "ppy w ar!\n",
      "['Happy', 'New', 'Year!']\n"
     ]
    }
   ],
   "metadata": {}
  },
  {
   "cell_type": "code",
   "execution_count": 3,
   "source": [
    "n1 = int(input())\r\n",
    "if n1 > 0:\r\n",
    "    L1 = input().split()\r\n",
    "    \r\n",
    "n2 = int(input())\r\n",
    "if n2 > 0:\r\n",
    "    L2 = input().split()\r\n",
    "    \r\n",
    "L = []\r\n",
    "\r\n",
    "for i, j in zip(L1, L2):\r\n",
    "    L.append(i + j)\r\n",
    "    \r\n",
    "print(L)"
   ],
   "outputs": [
    {
     "output_type": "stream",
     "name": "stdout",
     "text": [
      "3\n",
      "Ha Ne Ye\n",
      "3\n",
      "ppy w ar!\n",
      "['Happy', 'New', 'Year!']\n"
     ]
    }
   ],
   "metadata": {}
  },
  {
   "cell_type": "code",
   "execution_count": null,
   "source": [
    "5.4"
   ],
   "outputs": [],
   "metadata": {}
  },
  {
   "cell_type": "code",
   "execution_count": 6,
   "source": [
    "n1 = int(input())\r\n",
    "L = []\r\n",
    "if n1 > 0:\r\n",
    "    L = input().split()\r\n",
    "    \r\n",
    "L = [int(x)*int(x) for x in L]\r\n",
    "print(L)"
   ],
   "outputs": [
    {
     "output_type": "stream",
     "name": "stdout",
     "text": [
      "7\n",
      "1 2 3 4 5 6 7\n",
      "[1, 4, 9, 16, 25, 36, 49]\n"
     ]
    }
   ],
   "metadata": {}
  },
  {
   "cell_type": "code",
   "execution_count": 12,
   "source": [
    "5.5\r\n",
    "\r\n",
    "[1, 2, [30, 40, [500, 600], 50], 3, 4]\r\n",
    "600\r\n",
    "700"
   ],
   "outputs": [
    {
     "output_type": "execute_result",
     "data": {
      "text/plain": [
       "700"
      ]
     },
     "metadata": {},
     "execution_count": 12
    }
   ],
   "metadata": {}
  },
  {
   "cell_type": "code",
   "execution_count": 18,
   "source": [
    "def findAndAppend(arr, find, append):\r\n",
    "    for index, i in enumerate(arr):\r\n",
    "        if type(i).__name__ == 'list':\r\n",
    "            findAndAppend(i, find, append)\r\n",
    "        elif int(i) == find:\r\n",
    "            arr.insert(index + 1, append)\r\n",
    "    return arr\r\n",
    "            \r\n",
    "\r\n",
    "L = eval(input())\r\n",
    "a = int(input())\r\n",
    "b = int(input())\r\n",
    "\r\n",
    "print(findAndAppend(L, a, b))"
   ],
   "outputs": [
    {
     "output_type": "stream",
     "name": "stdout",
     "text": [
      "[6, 6, [6, 6, [6, 6], 6, 6], [[6, 6], 6], 6]\n",
      "6\n",
      "7\n",
      "[6, 7, 6, 7, [6, 7, 6, 7, [6, 7, 6, 7], 6, 7, 6, 7], [[6, 7, 6, 7], 6, 7], 6, 7]\n"
     ]
    }
   ],
   "metadata": {}
  },
  {
   "cell_type": "code",
   "execution_count": null,
   "source": [
    "5.6\r\n",
    "[19542209, 4887871, 1420491, 626299, 1805832, 39865590]\r\n",
    "[\"New York\", \"Alabama\", \"Hawaii\", \"Vermont\", \"West Virginia\", \"California\"]"
   ],
   "outputs": [],
   "metadata": {}
  },
  {
   "cell_type": "code",
   "execution_count": 19,
   "source": [
    "L1 = eval(input())\r\n",
    "L2 = eval(input())\r\n",
    "\r\n",
    "for i, j in zip(L1, L2):\r\n",
    "    L = []\r\n",
    "    L.append(i)\r\n",
    "    L.append(j)\r\n",
    "    print(L)"
   ],
   "outputs": [
    {
     "output_type": "stream",
     "name": "stdout",
     "text": [
      "[19542209, 4887871, 1420491, 626299, 1805832, 39865590]\n",
      "[\"New York\", \"Alabama\", \"Hawaii\", \"Vermont\", \"West Virginia\", \"California\"]\n",
      "[19542209, 'New York']\n",
      "[4887871, 'Alabama']\n",
      "[1420491, 'Hawaii']\n",
      "[626299, 'Vermont']\n",
      "[1805832, 'West Virginia']\n",
      "[39865590, 'California']\n"
     ]
    }
   ],
   "metadata": {
    "scrolled": true
   }
  },
  {
   "cell_type": "code",
   "execution_count": null,
   "source": [
    "5.7\r\n",
    "[\"a\", \"b\", \"c\", \"d\", \"e\"]\r\n",
    "[1, 2, 3, 4, 5]\r\n"
   ],
   "outputs": [],
   "metadata": {}
  },
  {
   "cell_type": "code",
   "execution_count": 20,
   "source": [
    "L1 = eval(input())\r\n",
    "L2 = eval(input())\r\n",
    "\r\n",
    "for i, j in zip(L1, L2):\r\n",
    "    print(i * int(j))"
   ],
   "outputs": [
    {
     "output_type": "stream",
     "name": "stdout",
     "text": [
      "[\"a\", \"b\", \"c\", \"d\", \"e\"]\n",
      "[1, 2, 3, 4, 5]\n",
      "a\n",
      "bb\n",
      "ccc\n",
      "dddd\n",
      "eeeee\n"
     ]
    }
   ],
   "metadata": {}
  },
  {
   "cell_type": "code",
   "execution_count": null,
   "source": [
    "5.8\r\n",
    "[10, 20, 30, 20, 10, 50, 60, 40, 80, 50, 40]"
   ],
   "outputs": [],
   "metadata": {}
  },
  {
   "cell_type": "code",
   "execution_count": 4,
   "source": [
    "L = eval(input())\r\n",
    "res = []\r\n",
    "[res.append(x) for x in L if x not in res]\r\n",
    "print(res)\r\n",
    "print([x for x in L if x not in res])"
   ],
   "outputs": [
    {
     "output_type": "error",
     "ename": "SyntaxError",
     "evalue": "unexpected EOF while parsing (<string>, line 0)",
     "traceback": [
      "Traceback \u001b[1;36m(most recent call last)\u001b[0m:\n",
      "  File \u001b[0;32m\"C:\\Python39\\lib\\site-packages\\IPython\\core\\interactiveshell.py\"\u001b[0m, line \u001b[0;32m3441\u001b[0m, in \u001b[0;35mrun_code\u001b[0m\n    exec(code_obj, self.user_global_ns, self.user_ns)\n",
      "\u001b[1;36m  File \u001b[1;32m\"C:\\Users\\laimo\\AppData\\Local\\Temp/ipykernel_9208/2692440914.py\"\u001b[1;36m, line \u001b[1;32m1\u001b[1;36m, in \u001b[1;35m<module>\u001b[1;36m\u001b[0m\n\u001b[1;33m    L = eval(input())\u001b[0m\n",
      "\u001b[1;36m  File \u001b[1;32m\"<string>\"\u001b[1;36m, line \u001b[1;32munknown\u001b[0m\n\u001b[1;33m    \u001b[0m\n\u001b[1;37m    ^\u001b[0m\n\u001b[1;31mSyntaxError\u001b[0m\u001b[1;31m:\u001b[0m unexpected EOF while parsing\n"
     ]
    }
   ],
   "metadata": {}
  },
  {
   "cell_type": "code",
   "execution_count": 23,
   "source": [
    "5.9\r\n",
    "\r\n",
    "The quick brown fox jumps over the lazy dog\r\n",
    "4\r\n",
    "\r\n",
    "The quick brown fox jumps over the lazy dog\r\n",
    "6"
   ],
   "outputs": [
    {
     "output_type": "error",
     "ename": "SyntaxError",
     "evalue": "invalid syntax (Temp/ipykernel_388/3856673106.py, line 3)",
     "traceback": [
      "\u001b[1;36m  File \u001b[1;32m\"C:\\Users\\laimo\\AppData\\Local\\Temp/ipykernel_388/3856673106.py\"\u001b[1;36m, line \u001b[1;32m3\u001b[0m\n\u001b[1;33m    The quick brown fox jumps over the lazy dog\u001b[0m\n\u001b[1;37m        ^\u001b[0m\n\u001b[1;31mSyntaxError\u001b[0m\u001b[1;31m:\u001b[0m invalid syntax\n"
     ]
    }
   ],
   "metadata": {}
  },
  {
   "cell_type": "code",
   "execution_count": 6,
   "source": [
    "L = input().split()\r\n",
    "n = int(input())\r\n",
    "res = []\r\n",
    "[res.append(x) for x in L if len(x) >= n]\r\n",
    "\r\n",
    "if len(res) > 0:\r\n",
    "    print(res)\r\n",
    "else:\r\n",
    "    print(\"Tokiu zodziu eiluteje nera\")"
   ],
   "outputs": [
    {
     "output_type": "stream",
     "name": "stdout",
     "text": [
      "['quick', 'brown', 'jumps', 'over', 'lazy']\n"
     ]
    }
   ],
   "metadata": {}
  },
  {
   "cell_type": "code",
   "execution_count": null,
   "source": [
    "5.10\r\n",
    "\r\n",
    "5  [5]\r\n",
    "\r\n",
    "8  [2, 2, 2]\r\n",
    "\r\n",
    "63  [3, 3, 7]"
   ],
   "outputs": [],
   "metadata": {}
  },
  {
   "cell_type": "code",
   "execution_count": 10,
   "source": [
    "n = int(input())\r\n",
    "output = []\r\n",
    "while n > 1:\r\n",
    "    for i in range(2, n + 1):\r\n",
    "        if n % i == 0:\r\n",
    "            output.append(i)\r\n",
    "            n = int(n / i)\r\n",
    "            break\r\n",
    "print(output)"
   ],
   "outputs": [
    {
     "output_type": "stream",
     "name": "stdout",
     "text": [
      "63\n",
      "[3, 3, 7]\n"
     ]
    }
   ],
   "metadata": {}
  },
  {
   "cell_type": "code",
   "execution_count": null,
   "source": [
    "5.11\r\n",
    "[2, 5, 10, 3, 2, 5, 3, 56, 34, 87, 234, 2, 687, 4, 19, 3]    3"
   ],
   "outputs": [],
   "metadata": {}
  },
  {
   "cell_type": "code",
   "execution_count": 18,
   "source": [
    "L = eval(input())\r\n",
    "L.sort()\r\n",
    "minNum = min(L)\r\n",
    "while minNum in L: \r\n",
    "    L.remove(minNum)\r\n",
    "print(L[0])"
   ],
   "outputs": [
    {
     "output_type": "stream",
     "name": "stdout",
     "text": [
      "[2, 5, 10, 3, 2, 5, 3, 56, 34, 87, 234, 2, 687, 4, 19, 3]\n",
      "[2, 2, 2, 3, 3, 3, 4, 5, 5, 10, 19, 34, 56, 87, 234, 687]\n",
      "[3, 3, 3, 4, 5, 5, 10, 19, 34, 56, 87, 234, 687]\n",
      "3\n"
     ]
    }
   ],
   "metadata": {}
  },
  {
   "cell_type": "code",
   "execution_count": null,
   "source": [
    "5.12\r\n",
    "\r\n",
    "1 12 3 2 4 0 23 -2 11          12 4 23 11"
   ],
   "outputs": [],
   "metadata": {}
  },
  {
   "cell_type": "code",
   "execution_count": 22,
   "source": [
    "L = input().split()\r\n",
    "text = \"\"\r\n",
    "for index in range(1, len(L)):\r\n",
    "    if int(L[index-1]) < int(L[index]):\r\n",
    "        text += L[index] + \" \"\r\n",
    "        \r\n",
    "print(text[:-1])"
   ],
   "outputs": [
    {
     "output_type": "stream",
     "name": "stdout",
     "text": [
      "1 12 3 2 4 0 23 -2 11 \n",
      "12 4 23 11\n"
     ]
    }
   ],
   "metadata": {}
  },
  {
   "cell_type": "code",
   "execution_count": 4,
   "source": [
    "5.13\r\n",
    "\r\n",
    "3\r\n",
    "1 3 4 6 2\r\n",
    "3 4 5\r\n",
    "5 3 2 23 0  \r\n",
    "\r\n",
    "\r\n",
    "1 eilute: min: 1, max: 6\r\n",
    "2 eilute: min: 3, max: 5\r\n",
    "3 eilute: min: 0, max: 23"
   ],
   "outputs": [
    {
     "output_type": "error",
     "ename": "SyntaxError",
     "evalue": "invalid syntax (Temp/ipykernel_17268/2981752590.py, line 4)",
     "traceback": [
      "\u001b[1;36m  File \u001b[1;32m\"C:\\Users\\laimo\\AppData\\Local\\Temp/ipykernel_17268/2981752590.py\"\u001b[1;36m, line \u001b[1;32m4\u001b[0m\n\u001b[1;33m    1 3 4 6 2\u001b[0m\n\u001b[1;37m      ^\u001b[0m\n\u001b[1;31mSyntaxError\u001b[0m\u001b[1;31m:\u001b[0m invalid syntax\n"
     ]
    }
   ],
   "metadata": {}
  },
  {
   "cell_type": "code",
   "execution_count": 9,
   "source": [
    "n = int(input())\r\n",
    "for i in range(1, n+1):\r\n",
    "    L = list(map(int, input().split()))\r\n",
    "    print(\"%s eilute: min: %s, max: %s\" %(i, min(L),max(L)))"
   ],
   "outputs": [
    {
     "output_type": "stream",
     "name": "stdout",
     "text": [
      "3\n",
      "1 3 4 6 2\n",
      "1 eilute: min: 1. max: 6\n",
      "3 4 5\n",
      "2 eilute: min: 3. max: 5\n",
      "5 3 2 23 0  \n",
      "3 eilute: min: 0. max: 23\n"
     ]
    }
   ],
   "metadata": {}
  },
  {
   "cell_type": "code",
   "execution_count": 17,
   "source": [
    "5.14\r\n",
    "\r\n",
    "3\r\n",
    "1 2 3 4\r\n",
    "1 2 3 4\r\n",
    "1 2 3 4\r\n",
    "1 2\r\n",
    "\r\n",
    "[2, 1, 3, 4]\r\n",
    "[2, 1, 3, 4]\r\n",
    "[2, 1, 3, 4]"
   ],
   "outputs": [
    {
     "output_type": "error",
     "ename": "SyntaxError",
     "evalue": "invalid syntax (Temp/ipykernel_17268/2821489623.py, line 4)",
     "traceback": [
      "\u001b[1;36m  File \u001b[1;32m\"C:\\Users\\laimo\\AppData\\Local\\Temp/ipykernel_17268/2821489623.py\"\u001b[1;36m, line \u001b[1;32m4\u001b[0m\n\u001b[1;33m    1 2 3 4\u001b[0m\n\u001b[1;37m      ^\u001b[0m\n\u001b[1;31mSyntaxError\u001b[0m\u001b[1;31m:\u001b[0m invalid syntax\n"
     ]
    }
   ],
   "metadata": {}
  },
  {
   "cell_type": "code",
   "execution_count": 18,
   "source": [
    "n = int(input())\r\n",
    "LM = []\r\n",
    "for i in range(n):\r\n",
    "    L = list(map(int, input().split()))\r\n",
    "    LM.append(L)\r\n",
    "    \r\n",
    "a, b = list(map(int, input().split()))\r\n",
    "for i in range(n):\r\n",
    "    temp = LM[i][a-1], LM[i][b-1]\r\n",
    "    LM[i][b-1], LM[i][a-1] = temp\r\n",
    "    \r\n",
    "for i in range(n):\r\n",
    "    print(LM[i])"
   ],
   "outputs": [
    {
     "output_type": "stream",
     "name": "stdout",
     "text": [
      "3\n",
      "1 2 3 4\n",
      "1 2 3 4\n",
      "1 2 3 4\n",
      "1 2\n",
      "[2, 1, 3, 4]\n",
      "[2, 1, 3, 4]\n",
      "[2, 1, 3, 4]\n"
     ]
    }
   ],
   "metadata": {}
  },
  {
   "cell_type": "code",
   "execution_count": null,
   "source": [],
   "outputs": [],
   "metadata": {}
  },
  {
   "cell_type": "code",
   "execution_count": null,
   "source": [],
   "outputs": [],
   "metadata": {}
  },
  {
   "cell_type": "code",
   "execution_count": null,
   "source": [],
   "outputs": [],
   "metadata": {}
  },
  {
   "cell_type": "code",
   "execution_count": null,
   "source": [],
   "outputs": [],
   "metadata": {}
  },
  {
   "cell_type": "code",
   "execution_count": null,
   "source": [],
   "outputs": [],
   "metadata": {}
  }
 ],
 "metadata": {
  "kernelspec": {
   "name": "python3",
   "display_name": "Python 3.9.6 64-bit"
  },
  "language_info": {
   "codemirror_mode": {
    "name": "ipython",
    "version": 3
   },
   "file_extension": ".py",
   "mimetype": "text/x-python",
   "name": "python",
   "nbconvert_exporter": "python",
   "pygments_lexer": "ipython3",
   "version": "3.9.6"
  },
  "interpreter": {
   "hash": "ac59ebe37160ed0dfa835113d9b8498d9f09ceb179beaac4002f036b9467c963"
  }
 },
 "nbformat": 4,
 "nbformat_minor": 5
}