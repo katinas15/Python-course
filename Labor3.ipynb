{
 "cells": [
  {
   "cell_type": "code",
   "execution_count": null,
   "source": [
    "3.1\r\n",
    "\r\n",
    "Parašykite programą, kuri apverčia nuskaitytą eilutę funkcijos reversed() pagalba\r\n",
    "\r\n",
    "The quick brown fox\r\n",
    "\r\n",
    "xof nworb kciuq ehT"
   ],
   "outputs": [],
   "metadata": {}
  },
  {
   "cell_type": "code",
   "execution_count": 2,
   "source": [
    "s = input()\r\n",
    "print(''.join(reversed(s)))"
   ],
   "outputs": [
    {
     "output_type": "stream",
     "name": "stdout",
     "text": [
      "10\n",
      "<reversed object at 0x000001C320B52AF0>\n"
     ]
    }
   ],
   "metadata": {}
  },
  {
   "cell_type": "markdown",
   "source": [
    "3.2\r\n",
    "\r\n",
    "Parašykite programą, kuri apverčia nuskaitytą eilutę ciklo while pagalba.\r\n",
    "\r\n",
    "The quick brown fox\r\n",
    "\r\n",
    "xof nworb kciuq ehT"
   ],
   "metadata": {}
  },
  {
   "cell_type": "code",
   "execution_count": 7,
   "source": [
    "s = input()\r\n",
    "i = len(s) - 1\r\n",
    "text = \"\"\r\n",
    "while i >= 0:\r\n",
    "    text += s[i]\r\n",
    "    i-=1\r\n",
    "    \r\n",
    "print(text)"
   ],
   "outputs": [
    {
     "output_type": "stream",
     "name": "stdout",
     "text": [
      "123\n",
      "321\n"
     ]
    }
   ],
   "metadata": {}
  },
  {
   "cell_type": "code",
   "execution_count": 12,
   "source": [
    "pirma = input()\r\n",
    "antra = input()\r\n",
    "text = pirma[0:len(pirma)//2]\r\n",
    "text += antra\r\n",
    "text += pirma[len(pirma)//2:]\r\n",
    "print(text)"
   ],
   "outputs": [
    {
     "output_type": "stream",
     "name": "stdout",
     "text": [
      "PYTHON\n",
      "learning\n",
      "PYTlearningHON\n"
     ]
    }
   ],
   "metadata": {}
  },
  {
   "cell_type": "code",
   "execution_count": 16,
   "source": [
    "text = input()\r\n",
    "splitted = text.split()\r\n",
    "print(' '.join(splitted[::-1]))"
   ],
   "outputs": [
    {
     "output_type": "stream",
     "name": "stdout",
     "text": [
      "hello world\n",
      "['hello', 'world']\n",
      "world hello\n"
     ]
    }
   ],
   "metadata": {}
  },
  {
   "cell_type": "code",
   "execution_count": 24,
   "source": [
    "import sys\r\n",
    "text = input()\r\n",
    "firstIndex = text.find('a')\r\n",
    "\r\n",
    "if firstIndex == -1:\r\n",
    "    print(-2)\r\n",
    "    sys.exit()\r\n",
    "    \r\n",
    "secondIndex = text.find('a', firstIndex + 1)\r\n",
    "\r\n",
    "if secondIndex == -1:\r\n",
    "    print(-1)\r\n",
    "    sys.exit()\r\n",
    "\r\n",
    "print(secondIndex)"
   ],
   "outputs": [
    {
     "output_type": "stream",
     "name": "stdout",
     "text": [
      "ab ra cadabra\n",
      "3\n"
     ]
    }
   ],
   "metadata": {}
  },
  {
   "cell_type": "code",
   "execution_count": 28,
   "source": [
    "text = input()\r\n",
    "print(''.join(sorted(text)))"
   ],
   "outputs": [
    {
     "output_type": "stream",
     "name": "stdout",
     "text": [
      "jdfjfhia89398409djfh\n",
      "03488999addfffhhijjj\n"
     ]
    }
   ],
   "metadata": {}
  },
  {
   "cell_type": "code",
   "execution_count": 4,
   "source": [
    "text = input()\n",
    "digits = \"\"\n",
    "letters = \"\"\n",
    "for i in text:\n",
    "    if i.isalpha():\n",
    "        letters += i\n",
    "    else:\n",
    "        digits += i\n",
    "        \n",
    "digits = ''.join(sorted(digits))\n",
    "letters = ''.join(sorted(letters))\n",
    "print(letters + digits)"
   ],
   "outputs": [
    {
     "output_type": "stream",
     "name": "stdout",
     "text": [
      "0950950474AbRaCaDaBrA\n",
      "AABCDRaaabr0004455799\n"
     ]
    }
   ],
   "metadata": {}
  },
  {
   "cell_type": "code",
   "execution_count": 11,
   "source": [
    "text = input()\n",
    "\n",
    "lower = 0\n",
    "capital = 0\n",
    "number = 0\n",
    "spec = 0\n",
    "\n",
    "for i in text:\n",
    "    if i.islower():\n",
    "        lower += 1\n",
    "    elif i.isupper():\n",
    "        capital += 1\n",
    "    elif i.isdigit():\n",
    "        number += 1\n",
    "    else:\n",
    "        spec += 1\n",
    "        \n",
    "print(\"Mazuju raidziu: \" + str(lower))\n",
    "print(\"Didziuju raidziu: \" + str(capital))\n",
    "print(\"Skaitmenu: \" + str(number))\n",
    "print(\"Specialiuju simboliu: \" + str(spec))"
   ],
   "outputs": [
    {
     "output_type": "stream",
     "name": "stdout",
     "text": [
      "76457348468989231\n",
      "Mazuju raidziu: 0\n",
      "Didziuju raidziu: 0\n",
      "Skaitmenu: 17\n",
      "Specialiuju simboliu: 0\n"
     ]
    }
   ],
   "metadata": {}
  },
  {
   "cell_type": "code",
   "execution_count": 14,
   "source": [
    "text = input()\n",
    "print(text.count('LT') + text.count('Lt') + text.count('lT') + text.count('lt'))"
   ],
   "outputs": [
    {
     "output_type": "stream",
     "name": "stdout",
     "text": [
      "LT-76348 Šiauliai. El. paštas info@sb.lt. PVM mokėtojo kodas LT120252515\n",
      "3\n"
     ]
    }
   ],
   "metadata": {}
  },
  {
   "cell_type": "code",
   "execution_count": 15,
   "source": [
    "text = input()\n",
    "print(text.rfind('Python'))"
   ],
   "outputs": [
    {
     "output_type": "stream",
     "name": "stdout",
     "text": [
      "The Python Package Index is a repository of software for the Python programming language.\n",
      "61\n"
     ]
    }
   ],
   "metadata": {}
  },
  {
   "cell_type": "code",
   "execution_count": 1,
   "source": [
    "text = input()\n",
    "i = 0\n",
    "output = \"\"\n",
    "textString = \"\"\n",
    "while i != len(text):\n",
    "    current = text[i]\n",
    "    if current.isdigit() and int(current) !=0:\n",
    "        for j in range(int(current)):\n",
    "            output += textString\n",
    "        output += \" \"\n",
    "        textString = \"\"\n",
    "    else:\n",
    "        textString += current\n",
    "        \n",
    "    i += 1\n",
    "    \n",
    "print(output[:-1])"
   ],
   "outputs": [
    {
     "output_type": "stream",
     "name": "stdout",
     "text": [
      "b2c5a3d1\n",
      "bb ccccc aaa d\n"
     ]
    }
   ],
   "metadata": {}
  },
  {
   "cell_type": "code",
   "execution_count": 43,
   "source": [
    "text = input()\n",
    "i = 1\n",
    "count = 1\n",
    "output = \"\"\n",
    "while i != len(text):\n",
    "    previous = text[i-1]\n",
    "    current = text[i]\n",
    "    \n",
    "    if i == len(text) - 1 and current == previous:\n",
    "        output += str(count + 1) + previous\n",
    "        count = 0\n",
    "    \n",
    "    if current != previous:\n",
    "        output += str(count) + previous + \" \"\n",
    "        count = 0\n",
    "    \n",
    "    if i == len(text) - 1 and current != previous:\n",
    "        output += str(1) + current\n",
    "        \n",
    "    count += 1\n",
    "    i += 1\n",
    "    \n",
    "print(output)"
   ],
   "outputs": [
    {
     "output_type": "stream",
     "name": "stdout",
     "text": [
      "abcdefg\n",
      "1a 1b 1c 1d 1e 1f 1g\n"
     ]
    }
   ],
   "metadata": {}
  },
  {
   "cell_type": "code",
   "execution_count": 44,
   "source": [
    "text = ''.join(sorted(input()))\n",
    "i = 1\n",
    "count = 1\n",
    "output = \"\"\n",
    "while i != len(text):\n",
    "    previous = text[i-1]\n",
    "    current = text[i]\n",
    "    \n",
    "    if i == len(text) - 1 and current == previous:\n",
    "        output += str(count + 1) + previous\n",
    "        count = 0\n",
    "    \n",
    "    if current != previous:\n",
    "        output += str(count) + previous + \" \"\n",
    "        count = 0\n",
    "    \n",
    "    if i == len(text) - 1 and current != previous:\n",
    "        output += str(1) + current\n",
    "        \n",
    "    count += 1\n",
    "    i += 1\n",
    "    \n",
    "print(output)"
   ],
   "outputs": [
    {
     "output_type": "stream",
     "name": "stdout",
     "text": [
      "AABABBBCCACCCD\n",
      "4A 4B 5C 1D\n"
     ]
    }
   ],
   "metadata": {}
  },
  {
   "cell_type": "code",
   "execution_count": 46,
   "source": [
    "print(''.join(dict.fromkeys(input())))"
   ],
   "outputs": [
    {
     "output_type": "stream",
     "name": "stdout",
     "text": [
      "SSSSS7S777DHHJHAAAB3063333\n",
      "S7DHJAB306\n"
     ]
    }
   ],
   "metadata": {}
  },
  {
   "cell_type": "code",
   "execution_count": 53,
   "source": [
    "text1 = input()\n",
    "text2 = input()\n",
    "\n",
    "text1NoSpace = ''.join(text1.split()).lower()\n",
    "text2NoSpace = ''.join(text2.split()).lower()\n",
    "if ''.join(sorted(text1NoSpace)) == ''.join(sorted(text2NoSpace)):\n",
    "    print(\"TAIP\")\n",
    "else:\n",
    "    print(\"NE\")"
   ],
   "outputs": [
    {
     "output_type": "stream",
     "name": "stdout",
     "text": [
      "Astronomers\n",
      "Moon starer\n",
      "NE\n"
     ]
    }
   ],
   "metadata": {}
  },
  {
   "cell_type": "code",
   "execution_count": 66,
   "source": [
    "text = []\n",
    "for i in range(3):\n",
    "    text.append(input())\n",
    "\n",
    "\n",
    "while len(text):  \n",
    "    textToPrint = \"\"\n",
    "    for index, i in enumerate(text):\n",
    "        if len(i):\n",
    "            textToPrint += i[0]\n",
    "            text[index] = i[1:]\n",
    "\n",
    "    for index, i in enumerate(text):\n",
    "        if not len(i):\n",
    "            del text[index]\n",
    "            \n",
    "    print(textToPrint)"
   ],
   "outputs": [
    {
     "output_type": "stream",
     "name": "stdout",
     "text": [
      "ABC\n",
      "zyxwvutsr\n",
      "1234\n",
      "Az1\n",
      "By2\n",
      "Cx3\n",
      "w4\n",
      "v\n",
      "u\n",
      "t\n",
      "s\n",
      "r\n"
     ]
    }
   ],
   "metadata": {}
  },
  {
   "cell_type": "code",
   "execution_count": null,
   "source": [],
   "outputs": [],
   "metadata": {}
  }
 ],
 "metadata": {
  "kernelspec": {
   "display_name": "Python 3 (ipykernel)",
   "language": "python",
   "name": "python3"
  },
  "language_info": {
   "codemirror_mode": {
    "name": "ipython",
    "version": 3
   },
   "file_extension": ".py",
   "mimetype": "text/x-python",
   "name": "python",
   "nbconvert_exporter": "python",
   "pygments_lexer": "ipython3",
   "version": "3.9.1"
  }
 },
 "nbformat": 4,
 "nbformat_minor": 5
}