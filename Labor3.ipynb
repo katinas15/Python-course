{
 "cells": [
  {
   "cell_type": "code",
   "execution_count": null,
   "id": "4f3e464a",
   "metadata": {},
   "outputs": [],
   "source": []
  },
  {
   "cell_type": "code",
   "execution_count": 2,
   "id": "b5e4f5eb",
   "metadata": {},
   "outputs": [
    {
     "name": "stdout",
     "output_type": "stream",
     "text": [
      "10\n",
      "<reversed object at 0x000001C320B52AF0>\n"
     ]
    }
   ],
   "source": [
    "s = input()\n",
    "print(''.join(reversed(s)))"
   ]
  },
  {
   "cell_type": "code",
   "execution_count": 7,
   "id": "3bb62684",
   "metadata": {},
   "outputs": [
    {
     "name": "stdout",
     "output_type": "stream",
     "text": [
      "123\n",
      "321\n"
     ]
    }
   ],
   "source": [
    "s = input()\n",
    "i = len(s) - 1\n",
    "text = \"\"\n",
    "while i >= 0:\n",
    "    text += s[i]\n",
    "    i-=1\n",
    "    \n",
    "print(text)"
   ]
  },
  {
   "cell_type": "code",
   "execution_count": 12,
   "id": "c522e6fc",
   "metadata": {},
   "outputs": [
    {
     "name": "stdout",
     "output_type": "stream",
     "text": [
      "PYTHON\n",
      "learning\n",
      "PYTlearningHON\n"
     ]
    }
   ],
   "source": [
    "pirma = input()\n",
    "antra = input()\n",
    "text = pirma[0:len(pirma)//2]\n",
    "text += antra\n",
    "text += pirma[len(pirma)//2:]\n",
    "print(text)"
   ]
  },
  {
   "cell_type": "code",
   "execution_count": 16,
   "id": "65f5d43c",
   "metadata": {},
   "outputs": [
    {
     "name": "stdout",
     "output_type": "stream",
     "text": [
      "hello world\n",
      "['hello', 'world']\n",
      "world hello\n"
     ]
    }
   ],
   "source": [
    "text = input()\n",
    "splitted = text.split()\n",
    "print(' '.join(splitted[::-1]))"
   ]
  },
  {
   "cell_type": "code",
   "execution_count": 24,
   "id": "9314621c",
   "metadata": {},
   "outputs": [
    {
     "name": "stdout",
     "output_type": "stream",
     "text": [
      "ab ra cadabra\n",
      "3\n"
     ]
    }
   ],
   "source": [
    "import sys\n",
    "text = input()\n",
    "firstIndex = text.find('a')\n",
    "\n",
    "if firstIndex == -1:\n",
    "    print(-2)\n",
    "    sys.exit()\n",
    "    \n",
    "secondIndex = text.find('a', firstIndex + 1)\n",
    "\n",
    "if secondIndex == -1:\n",
    "    print(-1)\n",
    "    sys.exit()\n",
    "\n",
    "print(secondIndex)"
   ]
  },
  {
   "cell_type": "code",
   "execution_count": 28,
   "id": "89b8f68c",
   "metadata": {},
   "outputs": [
    {
     "name": "stdout",
     "output_type": "stream",
     "text": [
      "jdfjfhia89398409djfh\n",
      "03488999addfffhhijjj\n"
     ]
    }
   ],
   "source": [
    "text = input()\n",
    "print(''.join(sorted(text)))"
   ]
  },
  {
   "cell_type": "code",
   "execution_count": 4,
   "id": "a95ea5da",
   "metadata": {},
   "outputs": [
    {
     "name": "stdout",
     "output_type": "stream",
     "text": [
      "0950950474AbRaCaDaBrA\n",
      "AABCDRaaabr0004455799\n"
     ]
    }
   ],
   "source": [
    "text = input()\n",
    "digits = \"\"\n",
    "letters = \"\"\n",
    "for i in text:\n",
    "    if i.isalpha():\n",
    "        letters += i\n",
    "    else:\n",
    "        digits += i\n",
    "        \n",
    "digits = ''.join(sorted(digits))\n",
    "letters = ''.join(sorted(letters))\n",
    "print(letters + digits)"
   ]
  },
  {
   "cell_type": "code",
   "execution_count": 11,
   "id": "3991005c",
   "metadata": {},
   "outputs": [
    {
     "name": "stdout",
     "output_type": "stream",
     "text": [
      "76457348468989231\n",
      "Mazuju raidziu: 0\n",
      "Didziuju raidziu: 0\n",
      "Skaitmenu: 17\n",
      "Specialiuju simboliu: 0\n"
     ]
    }
   ],
   "source": [
    "text = input()\n",
    "\n",
    "lower = 0\n",
    "capital = 0\n",
    "number = 0\n",
    "spec = 0\n",
    "\n",
    "for i in text:\n",
    "    if i.islower():\n",
    "        lower += 1\n",
    "    elif i.isupper():\n",
    "        capital += 1\n",
    "    elif i.isdigit():\n",
    "        number += 1\n",
    "    else:\n",
    "        spec += 1\n",
    "        \n",
    "print(\"Mazuju raidziu: \" + str(lower))\n",
    "print(\"Didziuju raidziu: \" + str(capital))\n",
    "print(\"Skaitmenu: \" + str(number))\n",
    "print(\"Specialiuju simboliu: \" + str(spec))"
   ]
  },
  {
   "cell_type": "code",
   "execution_count": 14,
   "id": "a6135cbd",
   "metadata": {},
   "outputs": [
    {
     "name": "stdout",
     "output_type": "stream",
     "text": [
      "LT-76348 Šiauliai. El. paštas info@sb.lt. PVM mokėtojo kodas LT120252515\n",
      "3\n"
     ]
    }
   ],
   "source": [
    "text = input()\n",
    "print(text.count('LT') + text.count('Lt') + text.count('lT') + text.count('lt'))"
   ]
  },
  {
   "cell_type": "code",
   "execution_count": 15,
   "id": "54068005",
   "metadata": {},
   "outputs": [
    {
     "name": "stdout",
     "output_type": "stream",
     "text": [
      "The Python Package Index is a repository of software for the Python programming language.\n",
      "61\n"
     ]
    }
   ],
   "source": [
    "text = input()\n",
    "print(text.rfind('Python'))"
   ]
  },
  {
   "cell_type": "code",
   "execution_count": 1,
   "id": "c73e1bd4",
   "metadata": {},
   "outputs": [
    {
     "name": "stdout",
     "output_type": "stream",
     "text": [
      "b2c5a3d1\n",
      "bb ccccc aaa d\n"
     ]
    }
   ],
   "source": [
    "text = input()\n",
    "i = 0\n",
    "output = \"\"\n",
    "textString = \"\"\n",
    "while i != len(text):\n",
    "    current = text[i]\n",
    "    if current.isdigit() and int(current) !=0:\n",
    "        for j in range(int(current)):\n",
    "            output += textString\n",
    "        output += \" \"\n",
    "        textString = \"\"\n",
    "    else:\n",
    "        textString += current\n",
    "        \n",
    "    i += 1\n",
    "    \n",
    "print(output[:-1])"
   ]
  },
  {
   "cell_type": "code",
   "execution_count": 43,
   "id": "bd6a4399",
   "metadata": {},
   "outputs": [
    {
     "name": "stdout",
     "output_type": "stream",
     "text": [
      "abcdefg\n",
      "1a 1b 1c 1d 1e 1f 1g\n"
     ]
    }
   ],
   "source": [
    "text = input()\n",
    "i = 1\n",
    "count = 1\n",
    "output = \"\"\n",
    "while i != len(text):\n",
    "    previous = text[i-1]\n",
    "    current = text[i]\n",
    "    \n",
    "    if i == len(text) - 1 and current == previous:\n",
    "        output += str(count + 1) + previous\n",
    "        count = 0\n",
    "    \n",
    "    if current != previous:\n",
    "        output += str(count) + previous + \" \"\n",
    "        count = 0\n",
    "    \n",
    "    if i == len(text) - 1 and current != previous:\n",
    "        output += str(1) + current\n",
    "        \n",
    "    count += 1\n",
    "    i += 1\n",
    "    \n",
    "print(output)"
   ]
  },
  {
   "cell_type": "code",
   "execution_count": 44,
   "id": "9c3814a5",
   "metadata": {},
   "outputs": [
    {
     "name": "stdout",
     "output_type": "stream",
     "text": [
      "AABABBBCCACCCD\n",
      "4A 4B 5C 1D\n"
     ]
    }
   ],
   "source": [
    "text = ''.join(sorted(input()))\n",
    "i = 1\n",
    "count = 1\n",
    "output = \"\"\n",
    "while i != len(text):\n",
    "    previous = text[i-1]\n",
    "    current = text[i]\n",
    "    \n",
    "    if i == len(text) - 1 and current == previous:\n",
    "        output += str(count + 1) + previous\n",
    "        count = 0\n",
    "    \n",
    "    if current != previous:\n",
    "        output += str(count) + previous + \" \"\n",
    "        count = 0\n",
    "    \n",
    "    if i == len(text) - 1 and current != previous:\n",
    "        output += str(1) + current\n",
    "        \n",
    "    count += 1\n",
    "    i += 1\n",
    "    \n",
    "print(output)"
   ]
  },
  {
   "cell_type": "code",
   "execution_count": 46,
   "id": "a7853131",
   "metadata": {},
   "outputs": [
    {
     "name": "stdout",
     "output_type": "stream",
     "text": [
      "SSSSS7S777DHHJHAAAB3063333\n",
      "S7DHJAB306\n"
     ]
    }
   ],
   "source": [
    "print(''.join(dict.fromkeys(input())))"
   ]
  },
  {
   "cell_type": "code",
   "execution_count": 53,
   "id": "4da99be4",
   "metadata": {},
   "outputs": [
    {
     "name": "stdout",
     "output_type": "stream",
     "text": [
      "Astronomers\n",
      "Moon starer\n",
      "NE\n"
     ]
    }
   ],
   "source": [
    "text1 = input()\n",
    "text2 = input()\n",
    "\n",
    "text1NoSpace = ''.join(text1.split()).lower()\n",
    "text2NoSpace = ''.join(text2.split()).lower()\n",
    "if ''.join(sorted(text1NoSpace)) == ''.join(sorted(text2NoSpace)):\n",
    "    print(\"TAIP\")\n",
    "else:\n",
    "    print(\"NE\")"
   ]
  },
  {
   "cell_type": "code",
   "execution_count": 66,
   "id": "8ad3673e",
   "metadata": {},
   "outputs": [
    {
     "name": "stdout",
     "output_type": "stream",
     "text": [
      "ABC\n",
      "zyxwvutsr\n",
      "1234\n",
      "Az1\n",
      "By2\n",
      "Cx3\n",
      "w4\n",
      "v\n",
      "u\n",
      "t\n",
      "s\n",
      "r\n"
     ]
    }
   ],
   "source": [
    "text = []\n",
    "for i in range(3):\n",
    "    text.append(input())\n",
    "\n",
    "\n",
    "while len(text):  \n",
    "    textToPrint = \"\"\n",
    "    for index, i in enumerate(text):\n",
    "        if len(i):\n",
    "            textToPrint += i[0]\n",
    "            text[index] = i[1:]\n",
    "\n",
    "    for index, i in enumerate(text):\n",
    "        if not len(i):\n",
    "            del text[index]\n",
    "            \n",
    "    print(textToPrint)"
   ]
  },
  {
   "cell_type": "code",
   "execution_count": null,
   "id": "6298625c",
   "metadata": {},
   "outputs": [],
   "source": []
  }
 ],
 "metadata": {
  "kernelspec": {
   "display_name": "Python 3 (ipykernel)",
   "language": "python",
   "name": "python3"
  },
  "language_info": {
   "codemirror_mode": {
    "name": "ipython",
    "version": 3
   },
   "file_extension": ".py",
   "mimetype": "text/x-python",
   "name": "python",
   "nbconvert_exporter": "python",
   "pygments_lexer": "ipython3",
   "version": "3.9.1"
  }
 },
 "nbformat": 4,
 "nbformat_minor": 5
}
