{
 "cells": [
  {
   "cell_type": "markdown",
   "source": [
    "1.\r\n",
    "\r\n",
    "Sukurkite dvimatį (nxm) sveikųjų (int8) skaičių masyvą ir užpildykite jį skaičiais nuo 0 iki n*m - 1. Atspausdinkite masyvą\r\n",
    "\r\n",
    "3 4\r\n",
    "\r\n",
    "0 1 2 3\r\n",
    "4 5 6 7\r\n",
    "8 9 10 11"
   ],
   "metadata": {}
  },
  {
   "cell_type": "code",
   "execution_count": 6,
   "source": [
    "import numpy as np\r\n",
    "n,m = map(int, input().split())\r\n",
    "v1 = np.arange(0,n*m,1,dtype=np.int8).reshape(n,m)\r\n",
    "print(str(v1).replace('[[ ', '').replace(' [ ', '').replace(' [', '').replace('[', '').replace(']', '').replace('  ', ' '))"
   ],
   "outputs": [
    {
     "output_type": "stream",
     "name": "stdout",
     "text": [
      "0 1 2 3\n",
      "4 5 6 7\n",
      "8 9 10 11\n"
     ]
    }
   ],
   "metadata": {}
  },
  {
   "cell_type": "markdown",
   "source": [
    "2.\r\n",
    "\r\n",
    "Sukurkite dvimatį masyvą (nxm), kurį sudaro skaičiai nuo a iki b žingsniu c. Atspausdinkite masyvą.\r\n",
    "\r\n",
    "2 5\r\n",
    "1 2.8 0.2\r\n",
    "\r\n",
    "1.0 1.2 1.4 1.6 1.8\r\n",
    "2.0 2.2 2.4 2.6 2.8"
   ],
   "metadata": {}
  },
  {
   "cell_type": "code",
   "execution_count": 21,
   "source": [
    "import numpy as np\r\n",
    "n,m = map(int, input().split())\r\n",
    "a,b,c = map(float, input().split())\r\n",
    "v1 = np.arange(a,b+c,c,dtype=float).reshape(n,m)\r\n",
    "np.set_printoptions(formatter={'float': '{: 0.1f}'.format})\r\n",
    "print(str(v1).replace('[[ ', '').replace(' [ ', '').replace(' [', '').replace('[', '').replace(']', '').replace('  ', ' '))"
   ],
   "outputs": [
    {
     "output_type": "stream",
     "name": "stdout",
     "text": [
      "1.0 1.2 1.4 1.6 1.8\n",
      "2.0 2.2 2.4 2.6 2.8\n"
     ]
    }
   ],
   "metadata": {}
  },
  {
   "cell_type": "markdown",
   "source": [
    "3.\r\n",
    "\r\n",
    "Sukurkite n (size=n) elementų vienmatį masyvą su reikšmėmis nuo a iki b. Išveskite masyvą. Išveskite reikšmių kitimo žingsnį\r\n",
    "\r\n",
    "5 10 137\r\n",
    "\r\n",
    "10.0 41.75 73.5 105.25 137.0\r\n",
    "31.75"
   ],
   "metadata": {}
  },
  {
   "cell_type": "code",
   "execution_count": 30,
   "source": [
    "import numpy as np\r\n",
    "n,a,b = map(int, input().split())\r\n",
    "v1 = np.linspace(a,b,n,dtype=float,retstep=True)\r\n",
    "np.set_printoptions(formatter={'float': '{: 0.1f}'.format})\r\n",
    "print(*v1[0])\r\n",
    "print(v1[1])"
   ],
   "outputs": [
    {
     "output_type": "stream",
     "name": "stdout",
     "text": [
      "10.0 41.75 73.5 105.25 137.0\n",
      "31.75\n"
     ]
    }
   ],
   "metadata": {}
  },
  {
   "cell_type": "markdown",
   "source": [
    "4.\r\n",
    "\r\n",
    "Sukurkite kvadratinę matricą (nxn), kurią sudaro skaičiai nuo a iki b žingsniu c. Atspausdinkite:\r\n",
    "\r\n",
    "matricą;\r\n",
    "dvi paskutines matricos eilutes;\r\n",
    "antrą stulpelį;\r\n",
    "Kiekviena išvedimą atskirti trigubu ’=’ simboliu\r\n",
    "\r\n",
    "3\r\n",
    "10 90 10\r\n",
    "\r\n",
    "10 20 30\r\n",
    "40 50 60\r\n",
    "70 80 90\r\n",
    "===\r\n",
    "40 50 60\r\n",
    "70 80 90\r\n",
    "===\r\n",
    "20\r\n",
    "50\r\n",
    "80"
   ],
   "metadata": {}
  },
  {
   "cell_type": "code",
   "execution_count": 10,
   "source": [
    "import numpy as np\r\n",
    "n = int(input())\r\n",
    "a,b,c = map(int, input().split())\r\n",
    "v1 = np.arange(a,b+c,c,dtype=np.int8).reshape(n,n)\r\n",
    "v2 = np.split(v1,1,axis=1)\r\n",
    "v3 = np.vsplit(v1,1)\r\n",
    "\r\n",
    "np.set_printoptions(formatter={'float': '{: 0.1f}'.format})\r\n",
    "print(str(v1).replace('[[ ', '').replace(' [ ', '').replace(' [', '').replace('[', '').replace(']', '').replace('  ', ' '))\r\n",
    "print('===')\r\n",
    "print(str(v1[-2:]).replace('[[ ', '').replace(' [ ', '').replace(' [', '').replace('[', '').replace(']', '').replace('  ', ' '))\r\n",
    "print('===')\r\n",
    "print(str(v1[:,1, None]).replace('[[ ', '').replace(' [ ', '').replace(' [', '').replace('[', '').replace(']', '').replace('  ', ' '))\r\n",
    "\r\n"
   ],
   "outputs": [
    {
     "output_type": "stream",
     "name": "stdout",
     "text": [
      "2 4 6 8\n",
      "10 12 14 16\n",
      "18 20 22 24\n",
      "26 28 30 32\n",
      "===\n",
      "18 20 22 24\n",
      "26 28 30 32\n",
      "===\n",
      "4\n",
      "12\n",
      "20\n",
      "28\n"
     ]
    }
   ],
   "metadata": {}
  },
  {
   "cell_type": "markdown",
   "source": [
    "5. \r\n",
    "\r\n",
    "Sukurkite vienmatį sveikųjų skaičių masyvą nuo [a, b) žingsnis c. Atspausdinkite:\r\n",
    "\r\n",
    "sukurtą masyvą\r\n",
    "elementus, kurių reikšmės yra > x\r\n",
    "elementus, kurių reikšmės yra intervale [n;m]\r\n",
    "elementus, kurių reikšmės yra ≤  y arba > z\r\n",
    "\r\n",
    "10 100 10\r\n",
    "50\r\n",
    "20 60\r\n",
    "30 70\r\n",
    "\r\n",
    "10 20 30 40 50 60 70 80 90\r\n",
    "60 70 80 90\r\n",
    "20 30 40 50 60\r\n",
    "10 20 30 80 90"
   ],
   "metadata": {}
  },
  {
   "cell_type": "code",
   "execution_count": 14,
   "source": [
    "import numpy as np\r\n",
    "a,b,c = map(int, input().split())\r\n",
    "x = int(input())\r\n",
    "n,m = map(int, input().split())\r\n",
    "y,z = map(int, input().split())\r\n",
    "\r\n",
    "v1 = np.arange(a,b,c,dtype=int)\r\n",
    "print(*v1)\r\n",
    "print(*[i for i in v1 if i > x])\r\n",
    "print(*[i for i in v1 if i >= n and i <= m])\r\n",
    "print(*[i for i in v1 if i <= y or i > z])"
   ],
   "outputs": [
    {
     "output_type": "stream",
     "name": "stdout",
     "text": [
      "10 20 30 40 50 60 70 80 90\n",
      "[60, 70, 80, 90]\n",
      "[20, 30, 40, 50, 60]\n",
      "[10, 20, 30, 80, 90]\n"
     ]
    }
   ],
   "metadata": {}
  },
  {
   "cell_type": "markdown",
   "source": [
    "6\r\n",
    "\r\n",
    "Sukurkite ir išveskite du dvimačius masyvus axb ir nxm. Kiekvienas iš jų užpidytas reikšmėmis nuo 0. Sujunkite juos į vieną. Išveskite rezultatą.\r\n",
    "\r\n",
    "3 3\r\n",
    "3 5\r\n",
    "\r\n",
    "\r\n",
    "0 1 2\r\n",
    "3 4 5\r\n",
    "6 7 8\r\n",
    "\r\n",
    "0 1 2 3 4\r\n",
    "5 6 7 8 9\r\n",
    "10 11 12 13 14\r\n",
    "\r\n",
    "0 1 2\r\n",
    "3 4 5\r\n",
    "6 7 8\r\n",
    "0 1 2 3 4\r\n",
    "5 6 7 8 9\r\n",
    "10 11 12 13 14\r\n"
   ],
   "metadata": {}
  },
  {
   "cell_type": "code",
   "execution_count": 16,
   "source": [
    "a,b = map(int, input().split())\r\n",
    "n,m = map(int, input().split())\r\n",
    "\r\n",
    "import numpy as np\r\n",
    "v1 = np.arange(0,a*b,1,dtype=np.int8).reshape(a,b)\r\n",
    "v2 = np.arange(0,n*m,1,dtype=np.int8).reshape(n,m)\r\n",
    "\r\n",
    "print(str(v1).replace('[[ ', '').replace(' [ ', '').replace(' [', '').replace('[', '').replace(']', '').replace('  ', ' '))\r\n",
    "print()\r\n",
    "print(str(v2).replace('[[ ', '').replace(' [ ', '').replace(' [', '').replace('[', '').replace(']', '').replace('  ', ' '))\r\n",
    "print()\r\n",
    "print(str(v1).replace('[[ ', '').replace(' [ ', '').replace(' [', '').replace('[', '').replace(']', '').replace('  ', ' '))\r\n",
    "print(str(v2).replace('[[ ', '').replace(' [ ', '').replace(' [', '').replace('[', '').replace(']', '').replace('  ', ' '))\r\n",
    "\r\n"
   ],
   "outputs": [
    {
     "output_type": "stream",
     "name": "stdout",
     "text": [
      "0 1 2\n",
      "3 4 5\n",
      "6 7 8\n",
      "\n",
      "0 1 2 3 4\n",
      "5 6 7 8 9\n",
      "10 11 12 13 14\n",
      "\n",
      "0 1 2\n",
      "3 4 5\n",
      "6 7 8\n",
      "0 1 2 3 4\n",
      "5 6 7 8 9\n",
      "10 11 12 13 14\n"
     ]
    }
   ],
   "metadata": {}
  },
  {
   "cell_type": "markdown",
   "source": [
    "7.\r\n",
    "\r\n",
    "Iš failo duom.txt nuskaitykite ir išveskite matricą (elementų duomenų tipas – int16). Paverskite matricą trikampe, taip, kad nuliniai elementai būtų virš pagrindinės įstrižainės. Išveskite naują matricą. Apsukite masyvą taip, (kaip parodyta) kad nuliai būtų virš šalutinės įstrižainės. Išveskite apsuktą matricą.\r\n",
    "\r\n",
    "1 2 3\r\n",
    "4 5 6\r\n",
    "7 8 9\r\n",
    "\r\n",
    "\r\n",
    "\r\n",
    "1 2 3\r\n",
    "4 5 6\r\n",
    "7 8 9\r\n",
    "\r\n",
    "1 0 0\r\n",
    "4 5 0\r\n",
    "7 8 9\r\n",
    "\r\n",
    "0 0 9\r\n",
    "0 5 8\r\n",
    "1 4 7\r\n"
   ],
   "metadata": {}
  },
  {
   "cell_type": "code",
   "execution_count": 28,
   "source": [
    "import numpy as np\r\n",
    "a1 = np.loadtxt('duom.txt',dtype=np.int16)\r\n",
    "for line in a1:\r\n",
    "    print(*line)\r\n",
    "print()\r\n",
    "\r\n",
    "a2 = np.tril(a1)\r\n",
    "for line in a2:\r\n",
    "    print(*line)\r\n",
    "print()\r\n",
    "\r\n",
    "a3 = np.rot90(a2)\r\n",
    "for line in a3:\r\n",
    "    print(*line)\r\n"
   ],
   "outputs": [
    {
     "output_type": "stream",
     "name": "stdout",
     "text": [
      "1 2 3\n",
      "4 5 6\n",
      "7 8 9\n",
      "\n",
      "1 0 0\n",
      "4 5 0\n",
      "7 8 9\n",
      "\n",
      "0 0 9\n",
      "0 5 8\n",
      "1 4 7\n"
     ]
    }
   ],
   "metadata": {}
  },
  {
   "cell_type": "markdown",
   "source": [
    "8.\r\n",
    "\r\n",
    "Sukurkite ir išveskite nxn masyvą kur kiekviena eilutė užpildyta reikšmemis nuo 1 iki n. Ištrinkite a-tąjį masyvo stulpelį, išveskite rezultatą. Pakeiskite ištrintą stulpelį vienetų stulpeliu. Išveskite rezultatą. Prie masyvo pridėkite eilutę užpildytą nuliais. Išveskite rezultatą. Prie masyvo pridėkite stulpelį užpildytą nuliais. Išveskite rezultatą.\r\n",
    "\r\n",
    "4\r\n",
    "3\r\n",
    "\r\n",
    "\r\n",
    "\r\n",
    "\r\n",
    "1 2 3 4\r\n",
    "1 2 3 4\r\n",
    "1 2 3 4\r\n",
    "1 2 3 4\r\n",
    "\r\n",
    "1 2 4\r\n",
    "1 2 4\r\n",
    "1 2 4\r\n",
    "1 2 4\r\n",
    "\r\n",
    "1 2 1 4\r\n",
    "1 2 1 4\r\n",
    "1 2 1 4\r\n",
    "1 2 1 4\r\n",
    "\r\n",
    "1 2 1 4\r\n",
    "1 2 1 4\r\n",
    "1 2 1 4\r\n",
    "1 2 1 4\r\n",
    "0 0 0 0\r\n",
    "\r\n",
    "1 2 1 4 0\r\n",
    "1 2 1 4 0\r\n",
    "1 2 1 4 0\r\n",
    "1 2 1 4 0\r\n",
    "0 0 0 0 0"
   ],
   "metadata": {}
  },
  {
   "cell_type": "code",
   "execution_count": 25,
   "source": [
    "import numpy as np\r\n",
    "n = int(input())\r\n",
    "a = int(input())\r\n",
    "\r\n",
    "line = np.arange(1,n+1,1,dtype=np.int8)\r\n",
    "v1 = np.tile(line,[n,1])\r\n",
    "\r\n",
    "for line in v1:\r\n",
    "    print(*line)\r\n",
    "print()\r\n",
    "\r\n",
    "v2 = np.delete(v1,a-1,axis=1)\r\n",
    "for line in v2:\r\n",
    "    print(*line)\r\n",
    "print()\r\n",
    "\r\n",
    "v3 = np.insert(v2,a-1,1,axis=1)\r\n",
    "for line in v3:\r\n",
    "    print(*line)\r\n",
    "print()\r\n",
    "\r\n",
    "zeros_bottom = np.zeros(n,dtype=int)\r\n",
    "v4 = np.insert(v3,n,zeros_bottom,axis=0)\r\n",
    "for line in v4:\r\n",
    "    print(*line)\r\n",
    "print()\r\n",
    "\r\n",
    "zeros_right = np.zeros((1,n+1),dtype=int)\r\n",
    "v5 = np.insert(v4,n,zeros_right,axis=1)\r\n",
    "for line in v5:\r\n",
    "    print(*line)\r\n"
   ],
   "outputs": [
    {
     "output_type": "stream",
     "name": "stdout",
     "text": [
      "1 2 3 4\n",
      "1 2 3 4\n",
      "1 2 3 4\n",
      "1 2 3 4\n",
      "\n",
      "1 2 3\n",
      "1 2 3\n",
      "1 2 3\n",
      "1 2 3\n",
      "\n",
      "1 2 3 1\n",
      "1 2 3 1\n",
      "1 2 3 1\n",
      "1 2 3 1\n",
      "\n",
      "1 2 3 1\n",
      "1 2 3 1\n",
      "1 2 3 1\n",
      "1 2 3 1\n",
      "0 0 0 0\n",
      "\n",
      "1 2 3 1 0\n",
      "1 2 3 1 0\n",
      "1 2 3 1 0\n",
      "1 2 3 1 0\n",
      "0 0 0 0 0\n"
     ]
    }
   ],
   "metadata": {}
  },
  {
   "cell_type": "markdown",
   "source": [
    "9.\r\n",
    "\r\n",
    "Parašykite programą, kuri sukuria matricą nxn užpildytą 0 ir 1 šachmatų tvarka. Apatinis kairys elementas privalo būti 1.\r\n",
    "\r\n",
    "\r\n",
    "6\r\n",
    "\r\n",
    "0 1 0 1 0 1\r\n",
    "1 0 1 0 1 0\r\n",
    "0 1 0 1 0 1\r\n",
    "1 0 1 0 1 0\r\n",
    "0 1 0 1 0 1\r\n",
    "1 0 1 0 1 0"
   ],
   "metadata": {}
  },
  {
   "cell_type": "code",
   "execution_count": 138,
   "source": [
    "import numpy as np\r\n",
    "n = int(input())\r\n",
    "\r\n",
    "v1 = np.array([[0,1],[1,0]])\r\n",
    "v2 = np.tile(v1,(n, n))\r\n",
    "for line in v2[-n:,np.r_[0:n-1, n-1]]:\r\n",
    "    print(*line)\r\n"
   ],
   "outputs": [
    {
     "output_type": "stream",
     "name": "stdout",
     "text": [
      "1 0 1 0 1\n",
      "0 1 0 1 0\n",
      "1 0 1 0 1\n",
      "0 1 0 1 0\n",
      "1 0 1 0 1\n"
     ]
    }
   ],
   "metadata": {}
  }
 ],
 "metadata": {
  "orig_nbformat": 4,
  "language_info": {
   "name": "python",
   "version": "3.9.7",
   "mimetype": "text/x-python",
   "codemirror_mode": {
    "name": "ipython",
    "version": 3
   },
   "pygments_lexer": "ipython3",
   "nbconvert_exporter": "python",
   "file_extension": ".py"
  },
  "kernelspec": {
   "name": "python3",
   "display_name": "Python 3.9.7 64-bit ('tf': conda)"
  },
  "interpreter": {
   "hash": "f25a34d828536eaea94bc98fa02bf2fcbf5af5b65bea44899cc5ad2220dc98c9"
  }
 },
 "nbformat": 4,
 "nbformat_minor": 2
}