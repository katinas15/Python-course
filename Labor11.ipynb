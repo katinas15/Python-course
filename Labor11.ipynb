{
 "cells": [
  {
   "cell_type": "markdown",
   "source": [
    "1.\r\n",
    "\r\n",
    "Sukurkite dvimatį (nxm) sveikųjų (int8) skaičių masyvą ir užpildykite jį skaičiais nuo 0 iki n*m - 1. Atspausdinkite masyvą\r\n",
    "\r\n",
    "3 4\r\n",
    "\r\n",
    "0 1 2 3\r\n",
    "4 5 6 7\r\n",
    "8 9 10 11"
   ],
   "metadata": {}
  },
  {
   "cell_type": "code",
   "execution_count": 6,
   "source": [
    "import numpy as np\r\n",
    "n,m = map(int, input().split())\r\n",
    "v1 = np.arange(0,n*m,1,dtype=np.int8).reshape(n,m)\r\n",
    "print(str(v1).replace('[[ ', '').replace(' [ ', '').replace(' [', '').replace('[', '').replace(']', '').replace('  ', ' '))"
   ],
   "outputs": [
    {
     "output_type": "stream",
     "name": "stdout",
     "text": [
      "0 1 2 3\n",
      "4 5 6 7\n",
      "8 9 10 11\n"
     ]
    }
   ],
   "metadata": {}
  },
  {
   "cell_type": "markdown",
   "source": [
    "2.\r\n",
    "\r\n",
    "Sukurkite dvimatį masyvą (nxm), kurį sudaro skaičiai nuo a iki b žingsniu c. Atspausdinkite masyvą.\r\n",
    "\r\n",
    "2 5\r\n",
    "1 2.8 0.2\r\n",
    "\r\n",
    "1.0 1.2 1.4 1.6 1.8\r\n",
    "2.0 2.2 2.4 2.6 2.8"
   ],
   "metadata": {}
  },
  {
   "cell_type": "code",
   "execution_count": 20,
   "source": [
    "import numpy as np\r\n",
    "n,m = map(int, input().split())\r\n",
    "a,b,c = map(float, input().split())\r\n",
    "v1 = np.arange(a,b+c,c,dtype=float).reshape(n,m)\r\n",
    "np.set_printoptions(formatter={'float': '{: 0.1f}'.format})\r\n",
    "print(str(v1).replace('[[ ', '').replace(' [ ', '').replace(' [', '').replace('[', '').replace(']', '').replace('  ', ' '))"
   ],
   "outputs": [
    {
     "output_type": "stream",
     "name": "stdout",
     "text": [
      "[[ 1.0  1.2  1.4  1.6  1.8]\n",
      " [ 2.0  2.2  2.4  2.6  2.8]]\n",
      "1.0 1.2 1.4 1.6 1.8\n",
      "2.0 2.2 2.4 2.6 2.8\n"
     ]
    }
   ],
   "metadata": {}
  }
 ],
 "metadata": {
  "orig_nbformat": 4,
  "language_info": {
   "name": "python",
   "version": "3.9.7",
   "mimetype": "text/x-python",
   "codemirror_mode": {
    "name": "ipython",
    "version": 3
   },
   "pygments_lexer": "ipython3",
   "nbconvert_exporter": "python",
   "file_extension": ".py"
  },
  "kernelspec": {
   "name": "python3",
   "display_name": "Python 3.9.7 64-bit ('tf': conda)"
  },
  "interpreter": {
   "hash": "f25a34d828536eaea94bc98fa02bf2fcbf5af5b65bea44899cc5ad2220dc98c9"
  }
 },
 "nbformat": 4,
 "nbformat_minor": 2
}